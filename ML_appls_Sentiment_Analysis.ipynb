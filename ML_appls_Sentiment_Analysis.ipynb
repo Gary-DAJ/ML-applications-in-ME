{
  "cells": [
    {
      "cell_type": "markdown",
      "metadata": {
        "id": "e0d1ggeDK_EX"
      },
      "source": [
        "Hello @everyone, This is the last necessary task for this project I know it worked out pretty slow, but still all the best for your intern season(Y21's), as well as acads.\\\n",
        "This is a good read on sentiment analysis.https://www.kaggle.com/code/emirkocak/in-depth-series-sentiment-analysis-w-transformers/notebookAssignment this time is for the sentiment analysis of a financial loan i.e. is giving a loan feasible or not in a particular scenario. \\\n",
        "Do apply 2-3 model's like Naive-bayes etc. and compare the result obtained using the ROC-AUC score stc. The dataset can be found below this message. \\\n",
        "I want you guys to give some extra efforts IF you can to try and deploy the model and create an endpoint to use. It's not necessary but can be an interesting task. (edited)\n"
      ]
    },
    {
      "cell_type": "code",
      "execution_count": null,
      "metadata": {
        "colab": {
          "base_uri": "https://localhost:8080/",
          "height": 73
        },
        "id": "ToQB5WX5-7vy",
        "outputId": "c20f7a7a-ba4e-488e-8989-979d19be4fe4"
      },
      "outputs": [
        {
          "data": {
            "text/html": [
              "\n",
              "     <input type=\"file\" id=\"files-f366a39b-cf9a-4095-870d-7a33488e83e4\" name=\"files[]\" multiple disabled\n",
              "        style=\"border:none\" />\n",
              "     <output id=\"result-f366a39b-cf9a-4095-870d-7a33488e83e4\">\n",
              "      Upload widget is only available when the cell has been executed in the\n",
              "      current browser session. Please rerun this cell to enable.\n",
              "      </output>\n",
              "      <script>// Copyright 2017 Google LLC\n",
              "//\n",
              "// Licensed under the Apache License, Version 2.0 (the \"License\");\n",
              "// you may not use this file except in compliance with the License.\n",
              "// You may obtain a copy of the License at\n",
              "//\n",
              "//      http://www.apache.org/licenses/LICENSE-2.0\n",
              "//\n",
              "// Unless required by applicable law or agreed to in writing, software\n",
              "// distributed under the License is distributed on an \"AS IS\" BASIS,\n",
              "// WITHOUT WARRANTIES OR CONDITIONS OF ANY KIND, either express or implied.\n",
              "// See the License for the specific language governing permissions and\n",
              "// limitations under the License.\n",
              "\n",
              "/**\n",
              " * @fileoverview Helpers for google.colab Python module.\n",
              " */\n",
              "(function(scope) {\n",
              "function span(text, styleAttributes = {}) {\n",
              "  const element = document.createElement('span');\n",
              "  element.textContent = text;\n",
              "  for (const key of Object.keys(styleAttributes)) {\n",
              "    element.style[key] = styleAttributes[key];\n",
              "  }\n",
              "  return element;\n",
              "}\n",
              "\n",
              "// Max number of bytes which will be uploaded at a time.\n",
              "const MAX_PAYLOAD_SIZE = 100 * 1024;\n",
              "\n",
              "function _uploadFiles(inputId, outputId) {\n",
              "  const steps = uploadFilesStep(inputId, outputId);\n",
              "  const outputElement = document.getElementById(outputId);\n",
              "  // Cache steps on the outputElement to make it available for the next call\n",
              "  // to uploadFilesContinue from Python.\n",
              "  outputElement.steps = steps;\n",
              "\n",
              "  return _uploadFilesContinue(outputId);\n",
              "}\n",
              "\n",
              "// This is roughly an async generator (not supported in the browser yet),\n",
              "// where there are multiple asynchronous steps and the Python side is going\n",
              "// to poll for completion of each step.\n",
              "// This uses a Promise to block the python side on completion of each step,\n",
              "// then passes the result of the previous step as the input to the next step.\n",
              "function _uploadFilesContinue(outputId) {\n",
              "  const outputElement = document.getElementById(outputId);\n",
              "  const steps = outputElement.steps;\n",
              "\n",
              "  const next = steps.next(outputElement.lastPromiseValue);\n",
              "  return Promise.resolve(next.value.promise).then((value) => {\n",
              "    // Cache the last promise value to make it available to the next\n",
              "    // step of the generator.\n",
              "    outputElement.lastPromiseValue = value;\n",
              "    return next.value.response;\n",
              "  });\n",
              "}\n",
              "\n",
              "/**\n",
              " * Generator function which is called between each async step of the upload\n",
              " * process.\n",
              " * @param {string} inputId Element ID of the input file picker element.\n",
              " * @param {string} outputId Element ID of the output display.\n",
              " * @return {!Iterable<!Object>} Iterable of next steps.\n",
              " */\n",
              "function* uploadFilesStep(inputId, outputId) {\n",
              "  const inputElement = document.getElementById(inputId);\n",
              "  inputElement.disabled = false;\n",
              "\n",
              "  const outputElement = document.getElementById(outputId);\n",
              "  outputElement.innerHTML = '';\n",
              "\n",
              "  const pickedPromise = new Promise((resolve) => {\n",
              "    inputElement.addEventListener('change', (e) => {\n",
              "      resolve(e.target.files);\n",
              "    });\n",
              "  });\n",
              "\n",
              "  const cancel = document.createElement('button');\n",
              "  inputElement.parentElement.appendChild(cancel);\n",
              "  cancel.textContent = 'Cancel upload';\n",
              "  const cancelPromise = new Promise((resolve) => {\n",
              "    cancel.onclick = () => {\n",
              "      resolve(null);\n",
              "    };\n",
              "  });\n",
              "\n",
              "  // Wait for the user to pick the files.\n",
              "  const files = yield {\n",
              "    promise: Promise.race([pickedPromise, cancelPromise]),\n",
              "    response: {\n",
              "      action: 'starting',\n",
              "    }\n",
              "  };\n",
              "\n",
              "  cancel.remove();\n",
              "\n",
              "  // Disable the input element since further picks are not allowed.\n",
              "  inputElement.disabled = true;\n",
              "\n",
              "  if (!files) {\n",
              "    return {\n",
              "      response: {\n",
              "        action: 'complete',\n",
              "      }\n",
              "    };\n",
              "  }\n",
              "\n",
              "  for (const file of files) {\n",
              "    const li = document.createElement('li');\n",
              "    li.append(span(file.name, {fontWeight: 'bold'}));\n",
              "    li.append(span(\n",
              "        `(${file.type || 'n/a'}) - ${file.size} bytes, ` +\n",
              "        `last modified: ${\n",
              "            file.lastModifiedDate ? file.lastModifiedDate.toLocaleDateString() :\n",
              "                                    'n/a'} - `));\n",
              "    const percent = span('0% done');\n",
              "    li.appendChild(percent);\n",
              "\n",
              "    outputElement.appendChild(li);\n",
              "\n",
              "    const fileDataPromise = new Promise((resolve) => {\n",
              "      const reader = new FileReader();\n",
              "      reader.onload = (e) => {\n",
              "        resolve(e.target.result);\n",
              "      };\n",
              "      reader.readAsArrayBuffer(file);\n",
              "    });\n",
              "    // Wait for the data to be ready.\n",
              "    let fileData = yield {\n",
              "      promise: fileDataPromise,\n",
              "      response: {\n",
              "        action: 'continue',\n",
              "      }\n",
              "    };\n",
              "\n",
              "    // Use a chunked sending to avoid message size limits. See b/62115660.\n",
              "    let position = 0;\n",
              "    do {\n",
              "      const length = Math.min(fileData.byteLength - position, MAX_PAYLOAD_SIZE);\n",
              "      const chunk = new Uint8Array(fileData, position, length);\n",
              "      position += length;\n",
              "\n",
              "      const base64 = btoa(String.fromCharCode.apply(null, chunk));\n",
              "      yield {\n",
              "        response: {\n",
              "          action: 'append',\n",
              "          file: file.name,\n",
              "          data: base64,\n",
              "        },\n",
              "      };\n",
              "\n",
              "      let percentDone = fileData.byteLength === 0 ?\n",
              "          100 :\n",
              "          Math.round((position / fileData.byteLength) * 100);\n",
              "      percent.textContent = `${percentDone}% done`;\n",
              "\n",
              "    } while (position < fileData.byteLength);\n",
              "  }\n",
              "\n",
              "  // All done.\n",
              "  yield {\n",
              "    response: {\n",
              "      action: 'complete',\n",
              "    }\n",
              "  };\n",
              "}\n",
              "\n",
              "scope.google = scope.google || {};\n",
              "scope.google.colab = scope.google.colab || {};\n",
              "scope.google.colab._files = {\n",
              "  _uploadFiles,\n",
              "  _uploadFilesContinue,\n",
              "};\n",
              "})(self);\n",
              "</script> "
            ],
            "text/plain": [
              "<IPython.core.display.HTML object>"
            ]
          },
          "metadata": {},
          "output_type": "display_data"
        },
        {
          "name": "stdout",
          "output_type": "stream",
          "text": [
            "Saving data_1.csv to data_1.csv\n"
          ]
        }
      ],
      "source": [
        "from google.colab import files\n",
        "uploaded = files.upload()"
      ]
    },
    {
      "cell_type": "markdown",
      "metadata": {
        "id": "297b0mlC-lPa"
      },
      "source": [
        "### Imports"
      ]
    },
    {
      "cell_type": "code",
      "execution_count": null,
      "metadata": {
        "id": "qI-lifjG9FFW"
      },
      "outputs": [],
      "source": [
        "import pandas as pd\n",
        "from wordcloud import WordCloud\n",
        "import seaborn as sns\n",
        "import re\n",
        "import string\n",
        "from collections import Counter, defaultdict\n",
        "\n",
        "from sklearn.feature_extraction.text import CountVectorizer, TfidfVectorizer\n",
        "\n",
        "import plotly.express as px\n",
        "from plotly.subplots import make_subplots\n",
        "import plotly.graph_objects as go\n",
        "from plotly.offline import plot\n",
        "\n",
        "import matplotlib.gridspec as gridspec\n",
        "from matplotlib.ticker import MaxNLocator\n",
        "import matplotlib.patches as mpatches\n",
        "import matplotlib.pyplot as plt"
      ]
    },
    {
      "cell_type": "code",
      "execution_count": null,
      "metadata": {
        "id": "B_0YZa5q9PJI"
      },
      "outputs": [],
      "source": [
        "import warnings\n",
        "warnings.filterwarnings('ignore')"
      ]
    },
    {
      "cell_type": "code",
      "execution_count": null,
      "metadata": {
        "colab": {
          "base_uri": "https://localhost:8080/"
        },
        "id": "yi5Pdrok9UIT",
        "outputId": "9557824e-7b2f-4911-c2cd-cbb0b1d8dc32"
      },
      "outputs": [
        {
          "name": "stderr",
          "output_type": "stream",
          "text": [
            "[nltk_data] Downloading package stopwords to /root/nltk_data...\n",
            "[nltk_data]   Unzipping corpora/stopwords.zip.\n"
          ]
        }
      ],
      "source": [
        "import nltk\n",
        "nltk.download('stopwords')\n",
        "from nltk.corpus import stopwords\n",
        "stopWords_nltk = set(stopwords.words('english'))"
      ]
    },
    {
      "cell_type": "markdown",
      "metadata": {
        "id": "_7mFLN8q-gTy"
      },
      "source": [
        "### Helper Functions"
      ]
    },
    {
      "cell_type": "code",
      "execution_count": null,
      "metadata": {
        "id": "rAU_S0Sg9Wff"
      },
      "outputs": [],
      "source": [
        "import re\n",
        "from typing import Union, List\n",
        "\n",
        "class CleanText():\n",
        "    \"\"\" clearing text except digits () . , word character \"\"\"\n",
        "\n",
        "    def __init__(self, clean_pattern = r\"[^A-ZĞÜŞİÖÇIa-zğüı'şöç0-9.\\\"',()]\"):\n",
        "        self.clean_pattern =clean_pattern\n",
        "\n",
        "    def __call__(self, text: Union[str, list]) -> List[List[str]]:\n",
        "\n",
        "        if isinstance(text, str):\n",
        "            docs = [[text]]\n",
        "\n",
        "        if isinstance(text, list):\n",
        "            docs = text\n",
        "\n",
        "        text = [[re.sub(self.clean_pattern, \" \", sent) for sent in sents] for sents in docs]\n",
        "\n",
        "        return text\n",
        "\n",
        "def remove_emoji(data):\n",
        "    emoj = re.compile(\"[\"\n",
        "        u\"\\U0001F600-\\U0001F64F\"  # emoticons\n",
        "        u\"\\U0001F300-\\U0001F5FF\"  # symbols & pictographs\n",
        "        u\"\\U0001F680-\\U0001F6FF\"  # transport & map symbols\n",
        "        u\"\\U0001F1E0-\\U0001F1FF\"  # flags (iOS)\n",
        "        u\"\\U00002500-\\U00002BEF\"\n",
        "        u\"\\U00002702-\\U000027B0\"\n",
        "        u\"\\U00002702-\\U000027B0\"\n",
        "        u\"\\U000024C2-\\U0001F251\"\n",
        "        u\"\\U0001f926-\\U0001f937\"\n",
        "        u\"\\U00010000-\\U0010ffff\"\n",
        "        u\"\\u2640-\\u2642\"\n",
        "        u\"\\u2600-\\u2B55\"\n",
        "        u\"\\u200d\"\n",
        "        u\"\\u23cf\"\n",
        "        u\"\\u23e9\"\n",
        "        u\"\\u231a\"\n",
        "        u\"\\ufe0f\"  # dingbats\n",
        "        u\"\\u3030\"\n",
        "                      \"]+\", re.UNICODE)\n",
        "    return re.sub(emoj, '', data)\n",
        "\n",
        "def tokenize(text):\n",
        "    \"\"\" basic tokenize method with word character, non word character and digits \"\"\"\n",
        "    text = re.sub(r\" +\", \" \", str(text))\n",
        "    text = re.split(r\"(\\d+|[a-zA-ZğüşıöçĞÜŞİÖÇ]+|\\W)\", text)\n",
        "    text = list(filter(lambda x: x != '' and x != ' ', text))\n",
        "    sent_tokenized = ' '.join(text)\n",
        "    return sent_tokenized\n",
        "\n",
        "regex = re.compile('[%s]' % re.escape(string.punctuation))\n",
        "\n",
        "def remove_punct(text):\n",
        "    text = regex.sub(\" \", text)\n",
        "    return text\n",
        "\n",
        "clean = CleanText()"
      ]
    },
    {
      "cell_type": "code",
      "execution_count": null,
      "metadata": {
        "id": "U9gnH5GB-AIx"
      },
      "outputs": [],
      "source": [
        "# label encode\n",
        "def label_encode(x):\n",
        "    if x == 1 or x == 2:\n",
        "        return 0\n",
        "    if x == 3:\n",
        "        return 1\n",
        "    if x == 5 or x == 4:\n",
        "        return 2\n",
        "\n",
        " # label to name\n",
        "def label2name(x):\n",
        "    if x == 0:\n",
        "        return \"Negative\"\n",
        "    if x == 1:\n",
        "        return \"Neutral\"\n",
        "    if x == 2:\n",
        "        return \"Positive\""
      ]
    },
    {
      "cell_type": "markdown",
      "metadata": {
        "id": "aWAlYXW8-s8q"
      },
      "source": [
        "### Read Data"
      ]
    },
    {
      "cell_type": "code",
      "execution_count": null,
      "metadata": {
        "id": "9EySvBjp-bQI"
      },
      "outputs": [],
      "source": [
        "df = pd.read_csv(\"data_1.csv\")"
      ]
    },
    {
      "cell_type": "code",
      "execution_count": null,
      "metadata": {
        "colab": {
          "base_uri": "https://localhost:8080/"
        },
        "id": "84DCex3m_aG4",
        "outputId": "566097b2-7f0c-4cc5-b97d-e19f007698f2"
      },
      "outputs": [
        {
          "name": "stdout",
          "output_type": "stream",
          "text": [
            "df.columns:  Index(['Sentence', 'Sentiment'], dtype='object')\n"
          ]
        }
      ],
      "source": [
        "# show column names\n",
        "print(\"df.columns: \", df.columns)"
      ]
    },
    {
      "cell_type": "code",
      "execution_count": null,
      "metadata": {
        "colab": {
          "base_uri": "https://localhost:8080/",
          "height": 206
        },
        "id": "DtlUCiQ4_fsg",
        "outputId": "ed244520-35ac-4aa3-adbf-d4533a783d21"
      },
      "outputs": [
        {
          "data": {
            "text/html": [
              "\n",
              "\n",
              "  <div id=\"df-377124c0-e8b5-4286-90ea-ade33ec7d40e\">\n",
              "    <div class=\"colab-df-container\">\n",
              "      <div>\n",
              "<style scoped>\n",
              "    .dataframe tbody tr th:only-of-type {\n",
              "        vertical-align: middle;\n",
              "    }\n",
              "\n",
              "    .dataframe tbody tr th {\n",
              "        vertical-align: top;\n",
              "    }\n",
              "\n",
              "    .dataframe thead th {\n",
              "        text-align: right;\n",
              "    }\n",
              "</style>\n",
              "<table border=\"1\" class=\"dataframe\">\n",
              "  <thead>\n",
              "    <tr style=\"text-align: right;\">\n",
              "      <th></th>\n",
              "      <th>Sentence</th>\n",
              "      <th>Sentiment</th>\n",
              "    </tr>\n",
              "  </thead>\n",
              "  <tbody>\n",
              "    <tr>\n",
              "      <th>0</th>\n",
              "      <td>The GeoSolutions technology will leverage Bene...</td>\n",
              "      <td>positive</td>\n",
              "    </tr>\n",
              "    <tr>\n",
              "      <th>1</th>\n",
              "      <td>$ESI on lows, down $1.50 to $2.50 BK a real po...</td>\n",
              "      <td>negative</td>\n",
              "    </tr>\n",
              "    <tr>\n",
              "      <th>2</th>\n",
              "      <td>For the last quarter of 2010 , Componenta 's n...</td>\n",
              "      <td>positive</td>\n",
              "    </tr>\n",
              "    <tr>\n",
              "      <th>3</th>\n",
              "      <td>According to the Finnish-Russian Chamber of Co...</td>\n",
              "      <td>neutral</td>\n",
              "    </tr>\n",
              "    <tr>\n",
              "      <th>4</th>\n",
              "      <td>The Swedish buyout firm has sold its remaining...</td>\n",
              "      <td>neutral</td>\n",
              "    </tr>\n",
              "  </tbody>\n",
              "</table>\n",
              "</div>\n",
              "      <button class=\"colab-df-convert\" onclick=\"convertToInteractive('df-377124c0-e8b5-4286-90ea-ade33ec7d40e')\"\n",
              "              title=\"Convert this dataframe to an interactive table.\"\n",
              "              style=\"display:none;\">\n",
              "\n",
              "  <svg xmlns=\"http://www.w3.org/2000/svg\" height=\"24px\"viewBox=\"0 0 24 24\"\n",
              "       width=\"24px\">\n",
              "    <path d=\"M0 0h24v24H0V0z\" fill=\"none\"/>\n",
              "    <path d=\"M18.56 5.44l.94 2.06.94-2.06 2.06-.94-2.06-.94-.94-2.06-.94 2.06-2.06.94zm-11 1L8.5 8.5l.94-2.06 2.06-.94-2.06-.94L8.5 2.5l-.94 2.06-2.06.94zm10 10l.94 2.06.94-2.06 2.06-.94-2.06-.94-.94-2.06-.94 2.06-2.06.94z\"/><path d=\"M17.41 7.96l-1.37-1.37c-.4-.4-.92-.59-1.43-.59-.52 0-1.04.2-1.43.59L10.3 9.45l-7.72 7.72c-.78.78-.78 2.05 0 2.83L4 21.41c.39.39.9.59 1.41.59.51 0 1.02-.2 1.41-.59l7.78-7.78 2.81-2.81c.8-.78.8-2.07 0-2.86zM5.41 20L4 18.59l7.72-7.72 1.47 1.35L5.41 20z\"/>\n",
              "  </svg>\n",
              "      </button>\n",
              "\n",
              "\n",
              "\n",
              "    <div id=\"df-6c8b9b2b-8c0f-4373-9ec2-b0eaefa98e2b\">\n",
              "      <button class=\"colab-df-quickchart\" onclick=\"quickchart('df-6c8b9b2b-8c0f-4373-9ec2-b0eaefa98e2b')\"\n",
              "              title=\"Suggest charts.\"\n",
              "              style=\"display:none;\">\n",
              "\n",
              "<svg xmlns=\"http://www.w3.org/2000/svg\" height=\"24px\"viewBox=\"0 0 24 24\"\n",
              "     width=\"24px\">\n",
              "    <g>\n",
              "        <path d=\"M19 3H5c-1.1 0-2 .9-2 2v14c0 1.1.9 2 2 2h14c1.1 0 2-.9 2-2V5c0-1.1-.9-2-2-2zM9 17H7v-7h2v7zm4 0h-2V7h2v10zm4 0h-2v-4h2v4z\"/>\n",
              "    </g>\n",
              "</svg>\n",
              "      </button>\n",
              "    </div>\n",
              "\n",
              "<style>\n",
              "  .colab-df-quickchart {\n",
              "    background-color: #E8F0FE;\n",
              "    border: none;\n",
              "    border-radius: 50%;\n",
              "    cursor: pointer;\n",
              "    display: none;\n",
              "    fill: #1967D2;\n",
              "    height: 32px;\n",
              "    padding: 0 0 0 0;\n",
              "    width: 32px;\n",
              "  }\n",
              "\n",
              "  .colab-df-quickchart:hover {\n",
              "    background-color: #E2EBFA;\n",
              "    box-shadow: 0px 1px 2px rgba(60, 64, 67, 0.3), 0px 1px 3px 1px rgba(60, 64, 67, 0.15);\n",
              "    fill: #174EA6;\n",
              "  }\n",
              "\n",
              "  [theme=dark] .colab-df-quickchart {\n",
              "    background-color: #3B4455;\n",
              "    fill: #D2E3FC;\n",
              "  }\n",
              "\n",
              "  [theme=dark] .colab-df-quickchart:hover {\n",
              "    background-color: #434B5C;\n",
              "    box-shadow: 0px 1px 3px 1px rgba(0, 0, 0, 0.15);\n",
              "    filter: drop-shadow(0px 1px 2px rgba(0, 0, 0, 0.3));\n",
              "    fill: #FFFFFF;\n",
              "  }\n",
              "</style>\n",
              "\n",
              "    <script>\n",
              "      async function quickchart(key) {\n",
              "        const containerElement = document.querySelector('#' + key);\n",
              "        const charts = await google.colab.kernel.invokeFunction(\n",
              "            'suggestCharts', [key], {});\n",
              "      }\n",
              "    </script>\n",
              "\n",
              "      <script>\n",
              "\n",
              "function displayQuickchartButton(domScope) {\n",
              "  let quickchartButtonEl =\n",
              "    domScope.querySelector('#df-6c8b9b2b-8c0f-4373-9ec2-b0eaefa98e2b button.colab-df-quickchart');\n",
              "  quickchartButtonEl.style.display =\n",
              "    google.colab.kernel.accessAllowed ? 'block' : 'none';\n",
              "}\n",
              "\n",
              "        displayQuickchartButton(document);\n",
              "      </script>\n",
              "      <style>\n",
              "    .colab-df-container {\n",
              "      display:flex;\n",
              "      flex-wrap:wrap;\n",
              "      gap: 12px;\n",
              "    }\n",
              "\n",
              "    .colab-df-convert {\n",
              "      background-color: #E8F0FE;\n",
              "      border: none;\n",
              "      border-radius: 50%;\n",
              "      cursor: pointer;\n",
              "      display: none;\n",
              "      fill: #1967D2;\n",
              "      height: 32px;\n",
              "      padding: 0 0 0 0;\n",
              "      width: 32px;\n",
              "    }\n",
              "\n",
              "    .colab-df-convert:hover {\n",
              "      background-color: #E2EBFA;\n",
              "      box-shadow: 0px 1px 2px rgba(60, 64, 67, 0.3), 0px 1px 3px 1px rgba(60, 64, 67, 0.15);\n",
              "      fill: #174EA6;\n",
              "    }\n",
              "\n",
              "    [theme=dark] .colab-df-convert {\n",
              "      background-color: #3B4455;\n",
              "      fill: #D2E3FC;\n",
              "    }\n",
              "\n",
              "    [theme=dark] .colab-df-convert:hover {\n",
              "      background-color: #434B5C;\n",
              "      box-shadow: 0px 1px 3px 1px rgba(0, 0, 0, 0.15);\n",
              "      filter: drop-shadow(0px 1px 2px rgba(0, 0, 0, 0.3));\n",
              "      fill: #FFFFFF;\n",
              "    }\n",
              "  </style>\n",
              "\n",
              "      <script>\n",
              "        const buttonEl =\n",
              "          document.querySelector('#df-377124c0-e8b5-4286-90ea-ade33ec7d40e button.colab-df-convert');\n",
              "        buttonEl.style.display =\n",
              "          google.colab.kernel.accessAllowed ? 'block' : 'none';\n",
              "\n",
              "        async function convertToInteractive(key) {\n",
              "          const element = document.querySelector('#df-377124c0-e8b5-4286-90ea-ade33ec7d40e');\n",
              "          const dataTable =\n",
              "            await google.colab.kernel.invokeFunction('convertToInteractive',\n",
              "                                                     [key], {});\n",
              "          if (!dataTable) return;\n",
              "\n",
              "          const docLinkHtml = 'Like what you see? Visit the ' +\n",
              "            '<a target=\"_blank\" href=https://colab.research.google.com/notebooks/data_table.ipynb>data table notebook</a>'\n",
              "            + ' to learn more about interactive tables.';\n",
              "          element.innerHTML = '';\n",
              "          dataTable['output_type'] = 'display_data';\n",
              "          await google.colab.output.renderOutput(dataTable, element);\n",
              "          const docLink = document.createElement('div');\n",
              "          docLink.innerHTML = docLinkHtml;\n",
              "          element.appendChild(docLink);\n",
              "        }\n",
              "      </script>\n",
              "    </div>\n",
              "  </div>\n"
            ],
            "text/plain": [
              "                                            Sentence Sentiment\n",
              "0  The GeoSolutions technology will leverage Bene...  positive\n",
              "1  $ESI on lows, down $1.50 to $2.50 BK a real po...  negative\n",
              "2  For the last quarter of 2010 , Componenta 's n...  positive\n",
              "3  According to the Finnish-Russian Chamber of Co...   neutral\n",
              "4  The Swedish buyout firm has sold its remaining...   neutral"
            ]
          },
          "execution_count": 9,
          "metadata": {},
          "output_type": "execute_result"
        }
      ],
      "source": [
        "# head of df\n",
        "df.head()"
      ]
    },
    {
      "cell_type": "code",
      "execution_count": null,
      "metadata": {
        "colab": {
          "base_uri": "https://localhost:8080/"
        },
        "id": "6wq0YgtI_8G0",
        "outputId": "476c4e5b-fa90-42cc-c5ee-49cf63dd6d52"
      },
      "outputs": [
        {
          "data": {
            "text/plain": [
              "neutral     2916\n",
              "positive    1706\n",
              "negative     776\n",
              "Name: Sentiment, dtype: int64"
            ]
          },
          "execution_count": 10,
          "metadata": {},
          "output_type": "execute_result"
        }
      ],
      "source": [
        "df[\"Sentiment\"].value_counts()"
      ]
    },
    {
      "cell_type": "code",
      "execution_count": null,
      "metadata": {
        "id": "rzdFirQFWMRm"
      },
      "outputs": [],
      "source": [
        "def name2label(x):\n",
        "    if(x==\"negative\"):\n",
        "        return 0\n",
        "    if(x==\"neutral\"):\n",
        "        return 1\n",
        "    if(x==\"positive\"):\n",
        "        return 2\n",
        "df[\"label\"] = df[\"Sentiment\"].apply(lambda x : name2label(x))"
      ]
    },
    {
      "cell_type": "code",
      "execution_count": null,
      "metadata": {
        "id": "XsqIlWGG_mXt"
      },
      "outputs": [],
      "source": [
        "df[\"Sentence\"] = df[\"Sentence\"].apply(lambda x: remove_punct(clean(remove_emoji(x).lower())[0][0]))"
      ]
    },
    {
      "cell_type": "code",
      "execution_count": null,
      "metadata": {
        "colab": {
          "base_uri": "https://localhost:8080/",
          "height": 206
        },
        "id": "X5sWRqfSAsxE",
        "outputId": "995b4024-aac7-4e66-fc9e-a9bfd91cab83"
      },
      "outputs": [
        {
          "data": {
            "text/html": [
              "\n",
              "\n",
              "  <div id=\"df-81d304f8-5c54-4eab-bead-f3de33016f2d\">\n",
              "    <div class=\"colab-df-container\">\n",
              "      <div>\n",
              "<style scoped>\n",
              "    .dataframe tbody tr th:only-of-type {\n",
              "        vertical-align: middle;\n",
              "    }\n",
              "\n",
              "    .dataframe tbody tr th {\n",
              "        vertical-align: top;\n",
              "    }\n",
              "\n",
              "    .dataframe thead th {\n",
              "        text-align: right;\n",
              "    }\n",
              "</style>\n",
              "<table border=\"1\" class=\"dataframe\">\n",
              "  <thead>\n",
              "    <tr style=\"text-align: right;\">\n",
              "      <th></th>\n",
              "      <th>Sentence</th>\n",
              "      <th>Sentiment</th>\n",
              "      <th>label</th>\n",
              "    </tr>\n",
              "  </thead>\n",
              "  <tbody>\n",
              "    <tr>\n",
              "      <th>0</th>\n",
              "      <td>the geosolutions technology will leverage bene...</td>\n",
              "      <td>positive</td>\n",
              "      <td>2</td>\n",
              "    </tr>\n",
              "    <tr>\n",
              "      <th>1</th>\n",
              "      <td>esi on lows  down  1 50 to  2 50 bk a real po...</td>\n",
              "      <td>negative</td>\n",
              "      <td>0</td>\n",
              "    </tr>\n",
              "    <tr>\n",
              "      <th>2</th>\n",
              "      <td>for the last quarter of 2010   componenta  s n...</td>\n",
              "      <td>positive</td>\n",
              "      <td>2</td>\n",
              "    </tr>\n",
              "    <tr>\n",
              "      <th>3</th>\n",
              "      <td>according to the finnish russian chamber of co...</td>\n",
              "      <td>neutral</td>\n",
              "      <td>1</td>\n",
              "    </tr>\n",
              "    <tr>\n",
              "      <th>4</th>\n",
              "      <td>the swedish buyout firm has sold its remaining...</td>\n",
              "      <td>neutral</td>\n",
              "      <td>1</td>\n",
              "    </tr>\n",
              "  </tbody>\n",
              "</table>\n",
              "</div>\n",
              "      <button class=\"colab-df-convert\" onclick=\"convertToInteractive('df-81d304f8-5c54-4eab-bead-f3de33016f2d')\"\n",
              "              title=\"Convert this dataframe to an interactive table.\"\n",
              "              style=\"display:none;\">\n",
              "\n",
              "  <svg xmlns=\"http://www.w3.org/2000/svg\" height=\"24px\"viewBox=\"0 0 24 24\"\n",
              "       width=\"24px\">\n",
              "    <path d=\"M0 0h24v24H0V0z\" fill=\"none\"/>\n",
              "    <path d=\"M18.56 5.44l.94 2.06.94-2.06 2.06-.94-2.06-.94-.94-2.06-.94 2.06-2.06.94zm-11 1L8.5 8.5l.94-2.06 2.06-.94-2.06-.94L8.5 2.5l-.94 2.06-2.06.94zm10 10l.94 2.06.94-2.06 2.06-.94-2.06-.94-.94-2.06-.94 2.06-2.06.94z\"/><path d=\"M17.41 7.96l-1.37-1.37c-.4-.4-.92-.59-1.43-.59-.52 0-1.04.2-1.43.59L10.3 9.45l-7.72 7.72c-.78.78-.78 2.05 0 2.83L4 21.41c.39.39.9.59 1.41.59.51 0 1.02-.2 1.41-.59l7.78-7.78 2.81-2.81c.8-.78.8-2.07 0-2.86zM5.41 20L4 18.59l7.72-7.72 1.47 1.35L5.41 20z\"/>\n",
              "  </svg>\n",
              "      </button>\n",
              "\n",
              "\n",
              "\n",
              "    <div id=\"df-6e9536d4-0b0a-463d-9874-c62931afd884\">\n",
              "      <button class=\"colab-df-quickchart\" onclick=\"quickchart('df-6e9536d4-0b0a-463d-9874-c62931afd884')\"\n",
              "              title=\"Suggest charts.\"\n",
              "              style=\"display:none;\">\n",
              "\n",
              "<svg xmlns=\"http://www.w3.org/2000/svg\" height=\"24px\"viewBox=\"0 0 24 24\"\n",
              "     width=\"24px\">\n",
              "    <g>\n",
              "        <path d=\"M19 3H5c-1.1 0-2 .9-2 2v14c0 1.1.9 2 2 2h14c1.1 0 2-.9 2-2V5c0-1.1-.9-2-2-2zM9 17H7v-7h2v7zm4 0h-2V7h2v10zm4 0h-2v-4h2v4z\"/>\n",
              "    </g>\n",
              "</svg>\n",
              "      </button>\n",
              "    </div>\n",
              "\n",
              "<style>\n",
              "  .colab-df-quickchart {\n",
              "    background-color: #E8F0FE;\n",
              "    border: none;\n",
              "    border-radius: 50%;\n",
              "    cursor: pointer;\n",
              "    display: none;\n",
              "    fill: #1967D2;\n",
              "    height: 32px;\n",
              "    padding: 0 0 0 0;\n",
              "    width: 32px;\n",
              "  }\n",
              "\n",
              "  .colab-df-quickchart:hover {\n",
              "    background-color: #E2EBFA;\n",
              "    box-shadow: 0px 1px 2px rgba(60, 64, 67, 0.3), 0px 1px 3px 1px rgba(60, 64, 67, 0.15);\n",
              "    fill: #174EA6;\n",
              "  }\n",
              "\n",
              "  [theme=dark] .colab-df-quickchart {\n",
              "    background-color: #3B4455;\n",
              "    fill: #D2E3FC;\n",
              "  }\n",
              "\n",
              "  [theme=dark] .colab-df-quickchart:hover {\n",
              "    background-color: #434B5C;\n",
              "    box-shadow: 0px 1px 3px 1px rgba(0, 0, 0, 0.15);\n",
              "    filter: drop-shadow(0px 1px 2px rgba(0, 0, 0, 0.3));\n",
              "    fill: #FFFFFF;\n",
              "  }\n",
              "</style>\n",
              "\n",
              "    <script>\n",
              "      async function quickchart(key) {\n",
              "        const containerElement = document.querySelector('#' + key);\n",
              "        const charts = await google.colab.kernel.invokeFunction(\n",
              "            'suggestCharts', [key], {});\n",
              "      }\n",
              "    </script>\n",
              "\n",
              "      <script>\n",
              "\n",
              "function displayQuickchartButton(domScope) {\n",
              "  let quickchartButtonEl =\n",
              "    domScope.querySelector('#df-6e9536d4-0b0a-463d-9874-c62931afd884 button.colab-df-quickchart');\n",
              "  quickchartButtonEl.style.display =\n",
              "    google.colab.kernel.accessAllowed ? 'block' : 'none';\n",
              "}\n",
              "\n",
              "        displayQuickchartButton(document);\n",
              "      </script>\n",
              "      <style>\n",
              "    .colab-df-container {\n",
              "      display:flex;\n",
              "      flex-wrap:wrap;\n",
              "      gap: 12px;\n",
              "    }\n",
              "\n",
              "    .colab-df-convert {\n",
              "      background-color: #E8F0FE;\n",
              "      border: none;\n",
              "      border-radius: 50%;\n",
              "      cursor: pointer;\n",
              "      display: none;\n",
              "      fill: #1967D2;\n",
              "      height: 32px;\n",
              "      padding: 0 0 0 0;\n",
              "      width: 32px;\n",
              "    }\n",
              "\n",
              "    .colab-df-convert:hover {\n",
              "      background-color: #E2EBFA;\n",
              "      box-shadow: 0px 1px 2px rgba(60, 64, 67, 0.3), 0px 1px 3px 1px rgba(60, 64, 67, 0.15);\n",
              "      fill: #174EA6;\n",
              "    }\n",
              "\n",
              "    [theme=dark] .colab-df-convert {\n",
              "      background-color: #3B4455;\n",
              "      fill: #D2E3FC;\n",
              "    }\n",
              "\n",
              "    [theme=dark] .colab-df-convert:hover {\n",
              "      background-color: #434B5C;\n",
              "      box-shadow: 0px 1px 3px 1px rgba(0, 0, 0, 0.15);\n",
              "      filter: drop-shadow(0px 1px 2px rgba(0, 0, 0, 0.3));\n",
              "      fill: #FFFFFF;\n",
              "    }\n",
              "  </style>\n",
              "\n",
              "      <script>\n",
              "        const buttonEl =\n",
              "          document.querySelector('#df-81d304f8-5c54-4eab-bead-f3de33016f2d button.colab-df-convert');\n",
              "        buttonEl.style.display =\n",
              "          google.colab.kernel.accessAllowed ? 'block' : 'none';\n",
              "\n",
              "        async function convertToInteractive(key) {\n",
              "          const element = document.querySelector('#df-81d304f8-5c54-4eab-bead-f3de33016f2d');\n",
              "          const dataTable =\n",
              "            await google.colab.kernel.invokeFunction('convertToInteractive',\n",
              "                                                     [key], {});\n",
              "          if (!dataTable) return;\n",
              "\n",
              "          const docLinkHtml = 'Like what you see? Visit the ' +\n",
              "            '<a target=\"_blank\" href=https://colab.research.google.com/notebooks/data_table.ipynb>data table notebook</a>'\n",
              "            + ' to learn more about interactive tables.';\n",
              "          element.innerHTML = '';\n",
              "          dataTable['output_type'] = 'display_data';\n",
              "          await google.colab.output.renderOutput(dataTable, element);\n",
              "          const docLink = document.createElement('div');\n",
              "          docLink.innerHTML = docLinkHtml;\n",
              "          element.appendChild(docLink);\n",
              "        }\n",
              "      </script>\n",
              "    </div>\n",
              "  </div>\n"
            ],
            "text/plain": [
              "                                            Sentence Sentiment  label\n",
              "0  the geosolutions technology will leverage bene...  positive      2\n",
              "1   esi on lows  down  1 50 to  2 50 bk a real po...  negative      0\n",
              "2  for the last quarter of 2010   componenta  s n...  positive      2\n",
              "3  according to the finnish russian chamber of co...   neutral      1\n",
              "4  the swedish buyout firm has sold its remaining...   neutral      1"
            ]
          },
          "execution_count": 13,
          "metadata": {},
          "output_type": "execute_result"
        }
      ],
      "source": [
        "df.head()"
      ]
    },
    {
      "cell_type": "markdown",
      "metadata": {
        "id": "e7bQZ_FtAyxZ"
      },
      "source": [
        "## Visualizations"
      ]
    },
    {
      "cell_type": "markdown",
      "metadata": {
        "id": "55X-IFTZA_9F"
      },
      "source": [
        "### Word Cloud\n",
        "Word clouds generators work by breaking the text down into component words and counting how frequently they appear in the body of text. We can quickly obtain preliminary information about the data. We can understand what a dataset we don't know is talking about."
      ]
    },
    {
      "cell_type": "code",
      "execution_count": null,
      "metadata": {
        "id": "32vMg6uuAuwU"
      },
      "outputs": [],
      "source": [
        "def show_wordcloud(data, title = None):\n",
        "    wordcloud = WordCloud(\n",
        "        background_color='black',\n",
        "        max_words=200,\n",
        "        max_font_size=40,\n",
        "        scale=1,\n",
        "        random_state=1\n",
        ").generate(\" \".join(data))\n",
        "\n",
        "    fig = plt.figure(1, figsize=(15, 15))\n",
        "    plt.axis('off')\n",
        "    if title:\n",
        "        fig.suptitle(title, fontsize=20)\n",
        "        fig.subplots_adjust(top=2.3)\n",
        "\n",
        "    plt.imshow(wordcloud)\n",
        "    plt.show()"
      ]
    },
    {
      "cell_type": "code",
      "execution_count": null,
      "metadata": {
        "colab": {
          "base_uri": "https://localhost:8080/",
          "height": 606
        },
        "id": "bSYiPzVRBL3H",
        "outputId": "52c71a32-2905-4d9c-ef0e-832d9ede8177"
      },
      "outputs": [
        {
          "data": {
            "image/png": "[encoded data removed]",
            "text/plain": [
              "<Figure size 1500x1500 with 1 Axes>"
            ]
          },
          "metadata": {},
          "output_type": "display_data"
        }
      ],
      "source": [
        "show_wordcloud(df[\"Sentence\"].values)"
      ]
    },
    {
      "cell_type": "markdown",
      "metadata": {
        "id": "_rW-Z_sNBcFm"
      },
      "source": [
        "### Target Count\n",
        "How many targets do we have? Learning this information will give us an idea about the model we will build. It will also provide guidance on our methods of analyzing data."
      ]
    },
    {
      "cell_type": "code",
      "execution_count": null,
      "metadata": {
        "colab": {
          "base_uri": "https://localhost:8080/",
          "height": 542
        },
        "id": "QJVk9GSTBO4W",
        "outputId": "8afb11fe-ad65-46ec-e173-800b411624fe"
      },
      "outputs": [
        {
          "data": {
            "text/html": [
              "<html>\n",
              "<head><meta charset=\"utf-8\" /></head>\n",
              "<body>\n",
              "    <div>            <script src=\"https://cdnjs.cloudflare.com/ajax/libs/mathjax/2.7.5/MathJax.js?config=TeX-AMS-MML_SVG\"></script><script type=\"text/javascript\">if (window.MathJax && window.MathJax.Hub && window.MathJax.Hub.Config) {window.MathJax.Hub.Config({SVG: {font: \"STIX-Web\"}});}</script>                <script type=\"text/javascript\">window.PlotlyConfig = {MathJaxConfig: 'local'};</script>\n",
              "        <script src=\"https://cdn.plot.ly/plotly-2.18.2.min.js\"></script>                <div id=\"2f95e3d1-630a-4da2-a793-ea1b3dc09549\" class=\"plotly-graph-div\" style=\"height:525px; width:100%;\"></div>            <script type=\"text/javascript\">                                    window.PLOTLYENV=window.PLOTLYENV || {};                                    if (document.getElementById(\"2f95e3d1-630a-4da2-a793-ea1b3dc09549\")) {                    Plotly.newPlot(                        \"2f95e3d1-630a-4da2-a793-ea1b3dc09549\",                        [{\"labels\":[\"neutral\",\"positive\",\"negative\"],\"values\":[2916,1706,776],\"type\":\"pie\",\"domain\":{\"x\":[0.0,0.45],\"y\":[0.0,1.0]},\"textfont\":{\"size\":20},\"marker\":{\"line\":{\"color\":\"#000000\",\"width\":2},\"colors\":[\"gold\",\"mediumturquoise\",\"lightgreen\"]},\"hoverinfo\":\"label+percent\"},{\"marker\":{\"color\":[\"gold\",\"mediumturquoise\",\"lightgreen\"]},\"x\":[\"neutral\",\"positive\",\"negative\"],\"y\":[2916,1706,776],\"type\":\"bar\",\"xaxis\":\"x\",\"yaxis\":\"y\"}],                        {\"template\":{\"data\":{\"histogram2dcontour\":[{\"type\":\"histogram2dcontour\",\"colorbar\":{\"outlinewidth\":0,\"ticks\":\"\"},\"colorscale\":[[0.0,\"#0d0887\"],[0.1111111111111111,\"#46039f\"],[0.2222222222222222,\"#7201a8\"],[0.3333333333333333,\"#9c179e\"],[0.4444444444444444,\"#bd3786\"],[0.5555555555555556,\"#d8576b\"],[0.6666666666666666,\"#ed7953\"],[0.7777777777777778,\"#fb9f3a\"],[0.8888888888888888,\"#fdca26\"],[1.0,\"#f0f921\"]]}],\"choropleth\":[{\"type\":\"choropleth\",\"colorbar\":{\"outlinewidth\":0,\"ticks\":\"\"}}],\"histogram2d\":[{\"type\":\"histogram2d\",\"colorbar\":{\"outlinewidth\":0,\"ticks\":\"\"},\"colorscale\":[[0.0,\"#0d0887\"],[0.1111111111111111,\"#46039f\"],[0.2222222222222222,\"#7201a8\"],[0.3333333333333333,\"#9c179e\"],[0.4444444444444444,\"#bd3786\"],[0.5555555555555556,\"#d8576b\"],[0.6666666666666666,\"#ed7953\"],[0.7777777777777778,\"#fb9f3a\"],[0.8888888888888888,\"#fdca26\"],[1.0,\"#f0f921\"]]}],\"heatmap\":[{\"type\":\"heatmap\",\"colorbar\":{\"outlinewidth\":0,\"ticks\":\"\"},\"colorscale\":[[0.0,\"#0d0887\"],[0.1111111111111111,\"#46039f\"],[0.2222222222222222,\"#7201a8\"],[0.3333333333333333,\"#9c179e\"],[0.4444444444444444,\"#bd3786\"],[0.5555555555555556,\"#d8576b\"],[0.6666666666666666,\"#ed7953\"],[0.7777777777777778,\"#fb9f3a\"],[0.8888888888888888,\"#fdca26\"],[1.0,\"#f0f921\"]]}],\"heatmapgl\":[{\"type\":\"heatmapgl\",\"colorbar\":{\"outlinewidth\":0,\"ticks\":\"\"},\"colorscale\":[[0.0,\"#0d0887\"],[0.1111111111111111,\"#46039f\"],[0.2222222222222222,\"#7201a8\"],[0.3333333333333333,\"#9c179e\"],[0.4444444444444444,\"#bd3786\"],[0.5555555555555556,\"#d8576b\"],[0.6666666666666666,\"#ed7953\"],[0.7777777777777778,\"#fb9f3a\"],[0.8888888888888888,\"#fdca26\"],[1.0,\"#f0f921\"]]}],\"contourcarpet\":[{\"type\":\"contourcarpet\",\"colorbar\":{\"outlinewidth\":0,\"ticks\":\"\"}}],\"contour\":[{\"type\":\"contour\",\"colorbar\":{\"outlinewidth\":0,\"ticks\":\"\"},\"colorscale\":[[0.0,\"#0d0887\"],[0.1111111111111111,\"#46039f\"],[0.2222222222222222,\"#7201a8\"],[0.3333333333333333,\"#9c179e\"],[0.4444444444444444,\"#bd3786\"],[0.5555555555555556,\"#d8576b\"],[0.6666666666666666,\"#ed7953\"],[0.7777777777777778,\"#fb9f3a\"],[0.8888888888888888,\"#fdca26\"],[1.0,\"#f0f921\"]]}],\"surface\":[{\"type\":\"surface\",\"colorbar\":{\"outlinewidth\":0,\"ticks\":\"\"},\"colorscale\":[[0.0,\"#0d0887\"],[0.1111111111111111,\"#46039f\"],[0.2222222222222222,\"#7201a8\"],[0.3333333333333333,\"#9c179e\"],[0.4444444444444444,\"#bd3786\"],[0.5555555555555556,\"#d8576b\"],[0.6666666666666666,\"#ed7953\"],[0.7777777777777778,\"#fb9f3a\"],[0.8888888888888888,\"#fdca26\"],[1.0,\"#f0f921\"]]}],\"mesh3d\":[{\"type\":\"mesh3d\",\"colorbar\":{\"outlinewidth\":0,\"ticks\":\"\"}}],\"scatter\":[{\"fillpattern\":{\"fillmode\":\"overlay\",\"size\":10,\"solidity\":0.2},\"type\":\"scatter\"}],\"parcoords\":[{\"type\":\"parcoords\",\"line\":{\"colorbar\":{\"outlinewidth\":0,\"ticks\":\"\"}}}],\"scatterpolargl\":[{\"type\":\"scatterpolargl\",\"marker\":{\"colorbar\":{\"outlinewidth\":0,\"ticks\":\"\"}}}],\"bar\":[{\"error_x\":{\"color\":\"#2a3f5f\"},\"error_y\":{\"color\":\"#2a3f5f\"},\"marker\":{\"line\":{\"color\":\"#E5ECF6\",\"width\":0.5},\"pattern\":{\"fillmode\":\"overlay\",\"size\":10,\"solidity\":0.2}},\"type\":\"bar\"}],\"scattergeo\":[{\"type\":\"scattergeo\",\"marker\":{\"colorbar\":{\"outlinewidth\":0,\"ticks\":\"\"}}}],\"scatterpolar\":[{\"type\":\"scatterpolar\",\"marker\":{\"colorbar\":{\"outlinewidth\":0,\"ticks\":\"\"}}}],\"histogram\":[{\"marker\":{\"pattern\":{\"fillmode\":\"overlay\",\"size\":10,\"solidity\":0.2}},\"type\":\"histogram\"}],\"scattergl\":[{\"type\":\"scattergl\",\"marker\":{\"colorbar\":{\"outlinewidth\":0,\"ticks\":\"\"}}}],\"scatter3d\":[{\"type\":\"scatter3d\",\"line\":{\"colorbar\":{\"outlinewidth\":0,\"ticks\":\"\"}},\"marker\":{\"colorbar\":{\"outlinewidth\":0,\"ticks\":\"\"}}}],\"scattermapbox\":[{\"type\":\"scattermapbox\",\"marker\":{\"colorbar\":{\"outlinewidth\":0,\"ticks\":\"\"}}}],\"scatterternary\":[{\"type\":\"scatterternary\",\"marker\":{\"colorbar\":{\"outlinewidth\":0,\"ticks\":\"\"}}}],\"scattercarpet\":[{\"type\":\"scattercarpet\",\"marker\":{\"colorbar\":{\"outlinewidth\":0,\"ticks\":\"\"}}}],\"carpet\":[{\"aaxis\":{\"endlinecolor\":\"#2a3f5f\",\"gridcolor\":\"white\",\"linecolor\":\"white\",\"minorgridcolor\":\"white\",\"startlinecolor\":\"#2a3f5f\"},\"baxis\":{\"endlinecolor\":\"#2a3f5f\",\"gridcolor\":\"white\",\"linecolor\":\"white\",\"minorgridcolor\":\"white\",\"startlinecolor\":\"#2a3f5f\"},\"type\":\"carpet\"}],\"table\":[{\"cells\":{\"fill\":{\"color\":\"#EBF0F8\"},\"line\":{\"color\":\"white\"}},\"header\":{\"fill\":{\"color\":\"#C8D4E3\"},\"line\":{\"color\":\"white\"}},\"type\":\"table\"}],\"barpolar\":[{\"marker\":{\"line\":{\"color\":\"#E5ECF6\",\"width\":0.5},\"pattern\":{\"fillmode\":\"overlay\",\"size\":10,\"solidity\":0.2}},\"type\":\"barpolar\"}],\"pie\":[{\"automargin\":true,\"type\":\"pie\"}]},\"layout\":{\"autotypenumbers\":\"strict\",\"colorway\":[\"#636efa\",\"#EF553B\",\"#00cc96\",\"#ab63fa\",\"#FFA15A\",\"#19d3f3\",\"#FF6692\",\"#B6E880\",\"#FF97FF\",\"#FECB52\"],\"font\":{\"color\":\"#2a3f5f\"},\"hovermode\":\"closest\",\"hoverlabel\":{\"align\":\"left\"},\"paper_bgcolor\":\"white\",\"plot_bgcolor\":\"#E5ECF6\",\"polar\":{\"bgcolor\":\"#E5ECF6\",\"angularaxis\":{\"gridcolor\":\"white\",\"linecolor\":\"white\",\"ticks\":\"\"},\"radialaxis\":{\"gridcolor\":\"white\",\"linecolor\":\"white\",\"ticks\":\"\"}},\"ternary\":{\"bgcolor\":\"#E5ECF6\",\"aaxis\":{\"gridcolor\":\"white\",\"linecolor\":\"white\",\"ticks\":\"\"},\"baxis\":{\"gridcolor\":\"white\",\"linecolor\":\"white\",\"ticks\":\"\"},\"caxis\":{\"gridcolor\":\"white\",\"linecolor\":\"white\",\"ticks\":\"\"}},\"coloraxis\":{\"colorbar\":{\"outlinewidth\":0,\"ticks\":\"\"}},\"colorscale\":{\"sequential\":[[0.0,\"#0d0887\"],[0.1111111111111111,\"#46039f\"],[0.2222222222222222,\"#7201a8\"],[0.3333333333333333,\"#9c179e\"],[0.4444444444444444,\"#bd3786\"],[0.5555555555555556,\"#d8576b\"],[0.6666666666666666,\"#ed7953\"],[0.7777777777777778,\"#fb9f3a\"],[0.8888888888888888,\"#fdca26\"],[1.0,\"#f0f921\"]],\"sequentialminus\":[[0.0,\"#0d0887\"],[0.1111111111111111,\"#46039f\"],[0.2222222222222222,\"#7201a8\"],[0.3333333333333333,\"#9c179e\"],[0.4444444444444444,\"#bd3786\"],[0.5555555555555556,\"#d8576b\"],[0.6666666666666666,\"#ed7953\"],[0.7777777777777778,\"#fb9f3a\"],[0.8888888888888888,\"#fdca26\"],[1.0,\"#f0f921\"]],\"diverging\":[[0,\"#8e0152\"],[0.1,\"#c51b7d\"],[0.2,\"#de77ae\"],[0.3,\"#f1b6da\"],[0.4,\"#fde0ef\"],[0.5,\"#f7f7f7\"],[0.6,\"#e6f5d0\"],[0.7,\"#b8e186\"],[0.8,\"#7fbc41\"],[0.9,\"#4d9221\"],[1,\"#276419\"]]},\"xaxis\":{\"gridcolor\":\"white\",\"linecolor\":\"white\",\"ticks\":\"\",\"title\":{\"standoff\":15},\"zerolinecolor\":\"white\",\"automargin\":true,\"zerolinewidth\":2},\"yaxis\":{\"gridcolor\":\"white\",\"linecolor\":\"white\",\"ticks\":\"\",\"title\":{\"standoff\":15},\"zerolinecolor\":\"white\",\"automargin\":true,\"zerolinewidth\":2},\"scene\":{\"xaxis\":{\"backgroundcolor\":\"#E5ECF6\",\"gridcolor\":\"white\",\"linecolor\":\"white\",\"showbackground\":true,\"ticks\":\"\",\"zerolinecolor\":\"white\",\"gridwidth\":2},\"yaxis\":{\"backgroundcolor\":\"#E5ECF6\",\"gridcolor\":\"white\",\"linecolor\":\"white\",\"showbackground\":true,\"ticks\":\"\",\"zerolinecolor\":\"white\",\"gridwidth\":2},\"zaxis\":{\"backgroundcolor\":\"#E5ECF6\",\"gridcolor\":\"white\",\"linecolor\":\"white\",\"showbackground\":true,\"ticks\":\"\",\"zerolinecolor\":\"white\",\"gridwidth\":2}},\"shapedefaults\":{\"line\":{\"color\":\"#2a3f5f\"}},\"annotationdefaults\":{\"arrowcolor\":\"#2a3f5f\",\"arrowhead\":0,\"arrowwidth\":1},\"geo\":{\"bgcolor\":\"white\",\"landcolor\":\"#E5ECF6\",\"subunitcolor\":\"white\",\"showland\":true,\"showlakes\":true,\"lakecolor\":\"white\"},\"title\":{\"x\":0.05},\"mapbox\":{\"style\":\"light\"}}},\"xaxis\":{\"anchor\":\"y\",\"domain\":[0.55,1.0]},\"yaxis\":{\"anchor\":\"x\",\"domain\":[0.0,1.0]}},                        {\"responsive\": true}                    ).then(function(){\n",
              "                            \n",
              "var gd = document.getElementById('2f95e3d1-630a-4da2-a793-ea1b3dc09549');\n",
              "var x = new MutationObserver(function (mutations, observer) {{\n",
              "        var display = window.getComputedStyle(gd).display;\n",
              "        if (!display || display === 'none') {{\n",
              "            console.log([gd, 'removed!']);\n",
              "            Plotly.purge(gd);\n",
              "            observer.disconnect();\n",
              "        }}\n",
              "}});\n",
              "\n",
              "// Listen for the removal of the full notebook cells\n",
              "var notebookContainer = gd.closest('#notebook-container');\n",
              "if (notebookContainer) {{\n",
              "    x.observe(notebookContainer, {childList: true});\n",
              "}}\n",
              "\n",
              "// Listen for the clearing of the current output cell\n",
              "var outputEl = gd.closest('.output');\n",
              "if (outputEl) {{\n",
              "    x.observe(outputEl, {childList: true});\n",
              "}}\n",
              "\n",
              "                        })                };                            </script>        </div>\n",
              "</body>\n",
              "</html>"
            ]
          },
          "metadata": {},
          "output_type": "display_data"
        }
      ],
      "source": [
        "fig = make_subplots(rows=1, cols=2, specs=[[{\"type\": \"pie\"}, {\"type\": \"bar\"}]])\n",
        "colors = ['gold', 'mediumturquoise', 'lightgreen'] # darkorange\n",
        "fig.add_trace(go.Pie(labels=df[\"Sentiment\"].value_counts().index, values=df[\"Sentiment\"].value_counts().values), 1, 1)\n",
        "\n",
        "fig.update_traces(hoverinfo='label+percent', textfont_size=20, marker=dict(colors=colors, line=dict(color='#000000', width=2)))\n",
        "\n",
        "fig.add_trace(go.Bar(x=df[\"Sentiment\"].value_counts().index, y=df[\"Sentiment\"].value_counts().values, marker_color = colors), 1,2)\n",
        "\n",
        "fig.show()"
      ]
    },
    {
      "cell_type": "markdown",
      "metadata": {
        "id": "tubTxuh0ChN7"
      },
      "source": [
        "### Token Counts with simple tokenizer\n",
        "Finding out the number of tokens available for each sample will give us information about the length of our data. The classification algorithm we will use for a long text will not be the same as the algorithm used for a short text."
      ]
    },
    {
      "cell_type": "code",
      "execution_count": null,
      "metadata": {
        "id": "ExpS3IaRCdIR"
      },
      "outputs": [],
      "source": [
        "# tokenize data\n",
        "df[\"tokenized_review\"] = df[\"Sentence\"].apply(lambda x: tokenize(x))\n",
        "# calculate token count for any sent\n",
        "df[\"sent_token_length\"] = df[\"tokenized_review\"].apply(lambda x: len(x.split()))"
      ]
    },
    {
      "cell_type": "code",
      "execution_count": null,
      "metadata": {
        "colab": {
          "base_uri": "https://localhost:8080/",
          "height": 542
        },
        "id": "kCOE4j8fC62t",
        "outputId": "374bfc31-416a-491f-89d9-248b5834a9e9"
      },
      "outputs": [
        {
          "data": {
            "text/html": [
              "<html>\n",
              "<head><meta charset=\"utf-8\" /></head>\n",
              "<body>\n",
              "    <div>            <script src=\"https://cdnjs.cloudflare.com/ajax/libs/mathjax/2.7.5/MathJax.js?config=TeX-AMS-MML_SVG\"></script><script type=\"text/javascript\">if (window.MathJax && window.MathJax.Hub && window.MathJax.Hub.Config) {window.MathJax.Hub.Config({SVG: {font: \"STIX-Web\"}});}</script>                <script type=\"text/javascript\">window.PlotlyConfig = {MathJaxConfig: 'local'};</script>\n",
              "        <script src=\"https://cdn.plot.ly/plotly-2.18.2.min.js\"></script>                <div id=\"6a158063-c254-44fa-a98e-b531610b5d84\" class=\"plotly-graph-div\" style=\"height:525px; width:100%;\"></div>            <script type=\"text/javascript\">                                    window.PLOTLYENV=window.PLOTLYENV || {};                                    if (document.getElementById(\"6a158063-c254-44fa-a98e-b531610b5d84\")) {                    Plotly.newPlot(                        \"6a158063-c254-44fa-a98e-b531610b5d84\",                        [{\"alignmentgroup\":\"True\",\"bingroup\":\"x\",\"histnorm\":\"percent\",\"hovertemplate\":\"sent_token_length=%{x}<br>percent=%{y}<extra></extra>\",\"legendgroup\":\"\",\"marker\":{\"color\":\"rgb(214, 249, 207)\",\"pattern\":{\"shape\":\"\"}},\"name\":\"\",\"nbinsx\":20,\"offsetgroup\":\"\",\"orientation\":\"v\",\"showlegend\":false,\"x\":[29,13,44,19,22,10,9,33,18,33,14,23,30,6,39,5,21,26,13,10,23,12,21,20,13,10,17,23,31,3,37,35,10,10,11,18,27,36,13,16,21,25,9,31,24,12,21,26,29,10,28,27,14,10,5,18,33,14,22,29,20,10,25,8,18,24,14,17,24,40,28,21,21,45,9,17,15,19,13,13,25,21,34,29,53,20,18,17,22,29,5,10,11,28,33,20,29,43,2,28,12,18,23,10,21,22,7,21,19,49,29,27,13,21,31,11,32,25,27,16,49,32,13,30,13,23,16,19,18,14,39,11,39,16,26,40,22,45,19,13,19,15,11,12,8,13,30,12,17,18,17,27,13,23,23,14,12,3,23,12,14,19,22,16,19,14,16,17,16,29,21,12,22,24,19,14,13,17,17,19,22,30,16,16,17,38,17,36,32,17,22,31,21,20,16,11,22,15,42,10,19,34,19,38,11,17,16,22,29,4,22,27,11,11,15,14,29,28,19,15,21,21,13,10,24,22,13,7,28,25,27,7,16,32,21,15,28,13,34,11,13,9,11,20,27,18,21,15,10,15,18,10,11,24,42,25,19,11,17,18,22,18,14,30,20,14,14,46,11,9,24,11,29,17,8,34,15,16,17,13,19,11,16,16,15,39,18,40,26,15,18,14,23,35,9,11,16,15,8,18,33,23,17,25,18,28,8,12,20,32,14,11,12,35,6,10,40,9,8,25,27,15,15,26,22,10,8,47,23,21,33,14,44,32,12,36,30,14,14,24,8,16,8,17,17,8,29,7,25,11,29,16,20,29,34,21,9,43,17,25,14,7,18,28,10,13,39,22,27,19,9,23,3,17,29,10,9,15,30,10,21,28,15,21,13,17,19,29,13,5,24,31,8,16,24,15,36,17,18,19,8,19,29,26,25,42,22,8,6,27,15,29,21,28,24,23,17,41,30,20,35,14,20,44,36,26,20,45,27,12,42,9,8,13,16,40,34,13,14,9,17,15,3,38,15,12,24,9,23,14,8,23,27,10,21,10,8,14,17,17,35,14,24,9,32,11,13,13,17,34,12,28,18,39,11,17,16,16,10,25,27,8,12,25,17,20,19,13,15,10,30,37,14,6,26,27,34,4,44,37,15,18,22,10,12,28,50,34,32,18,35,48,22,18,17,14,31,16,9,18,32,12,15,7,24,26,31,40,20,8,23,38,25,15,24,20,15,10,17,23,17,14,10,23,21,19,33,15,37,26,11,22,24,33,29,26,13,9,34,26,7,24,17,22,18,8,16,27,39,8,13,22,23,30,17,41,11,18,24,22,25,24,10,21,22,16,20,18,16,32,9,16,11,31,17,11,22,14,10,18,17,45,20,5,17,26,17,34,20,30,18,28,33,15,8,7,15,20,11,18,23,18,10,33,10,15,20,16,12,40,9,28,15,12,19,18,13,15,19,14,21,32,31,18,18,13,12,13,26,8,13,15,13,20,31,11,9,11,21,22,16,25,10,12,8,15,19,21,29,16,11,17,40,17,16,14,9,22,15,21,19,11,20,10,31,18,5,40,11,10,18,9,10,25,17,31,38,10,23,29,17,31,23,37,15,11,9,23,21,11,11,18,39,7,12,13,23,16,26,17,23,27,15,19,32,25,10,26,16,10,11,15,24,11,16,22,26,18,19,27,43,25,20,15,23,10,19,18,16,30,42,13,10,25,11,8,23,23,14,16,22,25,25,22,42,26,16,6,22,10,24,12,41,35,36,15,30,30,20,20,13,30,22,22,40,28,13,27,12,23,43,14,26,14,15,20,13,16,26,7,22,18,12,29,43,19,41,26,10,11,20,31,22,28,5,9,40,19,37,27,35,24,39,12,25,16,13,34,10,20,12,10,24,15,19,8,34,18,17,18,28,39,7,9,27,29,21,18,21,23,9,24,11,17,44,41,14,45,43,17,11,33,5,2,13,42,21,11,19,11,25,6,19,30,23,20,9,13,10,9,26,17,24,18,18,31,21,21,19,39,21,13,24,15,19,19,12,44,22,23,16,12,19,11,33,35,35,17,23,21,15,14,31,33,8,15,37,14,39,23,25,3,10,11,23,13,31,22,19,7,43,15,7,12,16,51,8,21,8,10,21,26,16,15,37,8,34,13,38,41,9,10,20,5,10,7,27,19,18,13,23,13,21,13,34,21,11,28,22,15,27,18,20,25,16,14,6,7,24,11,13,26,32,22,13,41,31,20,13,14,34,9,8,21,9,35,23,38,15,18,32,18,14,13,17,14,30,7,6,37,39,11,35,18,19,15,45,11,31,18,32,16,14,19,12,11,26,35,20,15,20,7,16,26,9,29,25,13,14,14,20,10,9,9,15,23,36,21,17,25,25,43,37,27,19,33,22,39,21,8,12,17,11,41,16,13,12,33,17,30,27,27,14,40,39,18,35,11,35,7,21,6,35,9,10,36,6,12,13,29,14,17,14,13,12,23,10,18,9,18,34,13,17,17,25,31,23,18,15,24,31,27,5,19,10,20,23,13,8,24,8,11,32,24,17,25,17,8,28,15,13,23,6,8,15,25,25,16,19,20,26,18,12,16,14,25,30,21,12,18,17,17,10,35,12,28,25,28,15,12,22,16,25,9,33,22,13,18,32,23,19,16,26,10,28,17,14,11,12,16,22,29,22,20,14,14,46,21,30,19,10,11,25,30,22,11,16,19,17,12,24,10,16,25,25,22,45,28,14,15,12,27,20,15,31,30,12,46,23,22,7,20,13,16,14,10,41,16,18,18,12,24,29,9,6,20,13,38,46,17,49,17,21,9,18,18,25,24,19,25,15,35,10,12,36,8,9,23,11,9,12,11,12,14,10,13,11,10,27,10,21,28,15,24,8,18,26,15,12,37,11,24,35,16,25,16,19,7,12,39,6,20,22,9,14,26,31,50,10,22,23,13,10,18,19,18,20,26,6,17,7,33,14,16,17,29,21,37,21,30,38,10,15,14,29,30,9,22,10,20,25,10,20,48,21,20,11,17,9,21,27,25,9,7,29,13,33,8,35,13,29,14,4,21,23,25,19,14,14,33,22,22,18,29,21,23,23,32,33,38,22,3,20,7,5,27,10,42,22,12,37,13,16,23,37,5,12,13,14,32,13,19,21,32,22,18,26,12,25,7,7,9,36,19,43,36,27,20,27,10,31,35,20,5,17,41,3,7,13,20,26,41,17,21,12,18,29,12,8,18,15,24,25,17,32,35,22,12,36,31,16,23,22,13,28,27,14,15,15,18,17,19,19,13,25,12,23,14,28,17,18,21,43,10,42,26,34,20,19,27,26,11,20,22,19,16,7,7,14,26,35,13,28,25,7,21,27,8,38,24,25,9,17,28,23,10,9,20,15,43,22,9,23,13,13,12,20,18,16,18,19,9,24,35,12,20,49,24,4,13,19,4,24,15,19,23,39,28,16,18,17,18,25,22,18,20,35,9,16,23,15,11,26,15,18,11,26,19,15,15,16,22,20,9,19,12,34,12,23,28,32,9,28,17,18,18,23,21,23,8,9,19,8,31,6,29,13,15,21,17,13,37,7,21,27,15,26,20,29,6,31,23,11,19,22,10,3,20,15,25,21,15,20,26,18,21,26,8,17,21,30,27,14,25,12,10,49,20,15,12,21,25,10,14,25,18,11,14,16,21,21,13,19,9,8,11,12,4,32,26,29,30,21,7,17,37,8,39,38,28,27,18,10,15,20,24,16,32,25,8,19,20,12,8,13,32,30,51,25,8,16,22,15,14,21,21,21,19,44,20,10,11,23,22,15,17,35,11,18,23,21,10,10,20,8,13,28,9,22,13,7,25,35,21,33,24,13,15,42,27,38,20,31,35,13,14,40,27,32,41,3,19,23,16,22,20,29,14,7,7,13,14,13,16,26,14,21,38,28,6,18,11,16,25,17,11,11,23,43,26,31,20,34,20,18,10,26,19,19,33,17,13,13,43,12,23,33,13,14,20,19,28,17,27,21,26,16,4,25,16,10,14,5,19,28,29,9,32,26,26,26,26,8,28,11,25,21,13,15,19,25,32,35,15,14,34,26,14,9,24,26,20,9,25,25,34,8,9,13,27,12,14,32,25,16,40,21,49,6,16,23,19,37,25,20,20,28,14,23,12,21,20,15,9,11,39,13,10,11,17,12,17,16,23,26,18,11,24,9,9,16,29,14,20,41,34,9,20,38,30,13,19,35,20,19,29,9,30,14,20,19,29,20,18,30,16,51,23,44,21,21,28,19,18,20,10,30,33,11,27,19,17,17,16,14,8,32,32,26,28,18,26,31,8,16,10,30,9,26,17,28,8,37,39,31,31,14,13,14,27,28,19,19,20,10,23,35,12,15,25,12,20,18,5,25,43,21,13,15,17,14,26,19,10,22,25,10,17,16,13,31,26,27,42,17,16,40,27,12,47,26,35,8,3,24,23,16,23,17,29,9,40,8,15,22,23,7,42,14,10,12,13,18,17,9,12,27,12,15,8,10,29,21,35,21,34,36,19,40,6,23,24,21,11,11,27,12,21,11,17,25,23,31,39,18,8,10,37,10,21,32,11,10,13,42,21,24,17,26,27,22,18,22,4,15,17,19,27,14,40,18,14,23,25,17,23,17,33,12,30,30,25,20,9,37,28,26,23,10,13,11,13,29,16,15,13,23,4,13,28,13,14,25,28,30,13,18,14,34,19,17,10,29,18,25,23,11,25,39,26,47,11,10,31,27,34,12,25,18,24,20,10,21,11,11,5,26,35,12,16,42,13,10,8,10,14,8,22,14,47,22,21,46,21,34,34,14,12,32,17,12,31,15,17,27,1,37,30,31,12,16,28,24,21,17,5,18,29,17,17,9,29,11,14,32,19,34,41,29,25,13,13,17,17,34,7,24,39,35,11,12,14,30,9,18,12,19,27,36,15,21,26,22,31,16,12,25,23,18,20,16,30,31,18,50,23,33,12,10,17,9,31,23,19,10,30,22,46,20,13,15,10,32,23,24,17,17,41,8,8,30,44,29,34,10,41,18,12,28,24,11,24,5,10,26,20,21,14,21,30,17,47,22,9,30,15,11,32,30,20,23,32,46,33,14,10,9,7,30,30,13,13,18,25,14,17,21,27,21,8,26,25,18,10,32,21,23,34,8,21,14,14,19,30,13,10,39,23,24,15,35,29,35,20,16,8,7,20,13,21,27,27,14,15,9,37,9,21,39,15,42,29,31,17,13,40,25,20,8,29,4,20,43,9,29,14,7,25,29,15,11,13,20,19,9,11,19,30,13,11,21,18,25,14,7,10,14,19,19,9,8,47,16,7,13,19,21,26,19,23,21,11,17,22,11,23,24,14,25,40,11,11,20,18,19,21,17,8,29,10,9,48,10,14,24,19,11,10,26,11,8,14,22,21,6,18,30,19,18,10,13,21,25,36,8,17,30,21,22,17,13,28,13,39,19,28,21,15,24,18,22,11,19,20,18,16,14,4,13,18,21,24,30,13,11,10,14,29,20,19,35,18,39,13,20,13,10,13,15,23,22,12,11,30,13,31,20,36,16,26,16,27,21,11,5,19,46,11,9,34,30,30,29,12,34,38,34,23,46,8,11,21,10,13,26,8,17,41,14,28,13,46,8,44,17,29,11,30,17,8,30,13,25,35,22,16,17,15,24,28,29,13,13,11,29,14,9,28,18,17,20,16,19,22,19,16,35,40,9,20,10,33,10,16,13,18,26,22,13,13,28,19,17,11,13,14,37,11,9,21,14,12,10,17,22,8,30,28,37,17,14,14,28,22,17,20,7,12,30,7,8,45,25,19,21,13,22,17,13,29,21,31,20,33,9,16,21,34,7,16,11,23,31,31,12,11,18,10,21,18,18,22,14,27,11,16,21,13,27,8,17,10,25,32,9,29,16,40,13,40,20,4,7,33,12,16,35,32,13,11,23,21,18,28,16,22,15,13,29,30,15,17,43,15,35,9,19,13,17,17,14,3,30,44,22,15,11,20,6,14,8,27,10,19,11,31,7,30,30,17,25,16,9,13,23,23,15,12,14,13,18,35,21,15,15,29,31,11,18,19,15,30,21,15,22,32,23,8,20,19,17,13,17,9,32,22,17,39,21,30,15,11,12,12,14,17,19,20,7,25,25,20,16,29,18,28,24,8,17,21,28,23,18,11,12,18,27,21,11,31,21,23,13,29,21,21,39,24,45,23,23,32,44,15,9,12,23,15,20,12,32,20,11,18,10,15,27,13,27,22,21,27,25,17,26,26,7,9,13,21,14,24,9,23,11,23,17,20,13,23,14,35,11,30,9,8,11,17,7,13,9,11,34,19,32,10,26,31,30,20,7,26,17,26,26,20,7,26,23,21,17,8,11,16,19,29,12,25,16,13,19,17,25,15,10,11,37,18,23,29,35,19,10,28,12,14,20,8,27,8,17,37,15,21,35,36,12,20,9,22,12,36,14,18,18,13,14,19,19,13,13,16,30,15,9,16,23,26,24,19,22,40,45,10,18,10,20,12,11,16,34,20,30,17,5,23,15,16,37,30,9,15,5,10,12,24,11,31,10,13,30,29,19,17,16,27,16,21,20,30,33,12,9,14,31,44,15,15,37,16,17,29,38,24,14,33,21,11,11,5,18,10,20,20,10,12,25,41,16,15,16,20,13,18,15,23,15,24,41,11,17,12,25,11,35,15,37,25,12,25,9,6,15,47,26,7,11,10,25,13,15,15,23,11,25,21,21,34,25,22,30,21,11,18,14,12,16,19,14,17,34,16,10,31,11,15,17,41,26,10,31,12,24,22,16,20,27,10,24,17,9,29,17,25,18,30,20,18,19,8,15,17,7,20,6,10,12,9,22,12,16,17,17,22,24,19,21,26,24,24,29,18,15,37,16,17,35,34,41,24,20,22,20,17,13,43,9,16,27,31,14,10,25,24,27,38,23,20,10,19,11,11,21,21,33,14,9,14,31,6,34,13,13,35,31,21,3,39,19,14,16,8,11,39,42,16,21,8,9,31,14,22,9,20,35,34,13,44,16,13,31,43,16,26,12,22,24,22,8,11,20,17,19,25,35,12,10,4,24,13,18,24,8,15,12,28,21,28,33,8,10,13,29,21,13,36,20,21,35,11,26,7,8,7,22,17,27,20,7,17,12,29,20,20,26,40,17,20,5,5,17,10,29,19,17,9,22,22,15,31,24,12,19,20,14,37,26,26,10,15,10,25,21,10,22,23,19,23,23,12,30,21,27,29,20,21,31,26,8,13,13,15,25,10,41,6,23,21,36,8,20,36,38,11,17,22,14,31,16,14,15,31,19,22,19,11,14,18,26,8,40,11,21,20,29,37,12,18,19,9,12,20,31,30,24,18,25,43,7,14,14,23,31,44,18,9,23,25,30,29,27,27,32,7,30,14,24,31,17,14,21,15,13,14,18,5,12,43,14,17,14,8,33,10,11,20,18,20,16,22,20,30,40,9,9,27,28,13,31,28,14,7,26,9,27,15,15,25,11,12,33,31,36,34,12,23,27,25,13,8,8,15,29,41,20,13,47,9,11,22,25,8,21,23,17,11,10,33,33,34,19,26,17,11,15,16,32,11,21,14,22,43,18,18,10,25,19,18,23,25,41,17,8,26,53,30,31,23,19,17,41,17,10,26,33,10,11,29,35,15,10,20,13,20,18,21,10,15,14,4,15,23,9,32,17,9,18,10,12,25,21,40,31,16,33,24,10,17,16,37,19,19,11,13,19,15,10,18,6,7,13,26,13,27,22,9,20,25,24,26,22,25,40,13,13,18,30,21,19,19,15,11,37,15,7,20,21,17,10,9,37,17,30,10,27,29,15,13,11,10,16,14,27,29,8,13,31,16,10,12,33,33,8,36,24,17,15,26,13,21,36,26,14,22,41,9,43,12,19,15,2,19,19,10,22,10,8,20,8,22,43,8,16,24,18,18,22,31,15,37,19,27,23,18,23,31,35,29,17,15,6,6,30,14,18,17,14,22,31,14,28,38,10,19,30,48,17,20,16,14,30,16,30,21,16,29,20,26,26,39,17,21,30,32,26,19,14,22,19,19,14,19,10,15,13,12,40,11,11,22,36,26,30,34,11,19,18,29,16,22,22,48,20,46,49,20,14,25,9,18,26,11,18,35,30,30,39,32,26,9,9,23,14,8,6,24,20,15,27,23,11,10,15,28,9,19,10,11,31,23,24,19,21,30,12,22,9,30,18,41,10,19,13,20,22,18,10,46,33,10,29,34,14,21,15,10,33,43,37,25,29,16,24,45,24,38,22,13,29,48,19,27,16,17,8,11,31,28,23,18,21,8,9,11,24,15,4,25,12,15,14,21,31,15,16,20,23,17,19,13,39,25,12,25,7,9,16,6,13,22,23,10,10,32,13,15,22,27,28,12,23,22,16,31,19,14,40,11,9,21,23,23,16,23,36,8,11,6,13,9,46,10,20,38,37,38,16,12,26,17,25,40,18,13,28,10,22,8,11,8,31,23,36,22,23,26,13,15,15,11,22,29,10,13,33,24,31,42,10,24,80,16,29,16,12,28,36,4,18,28,35,9,13,20,20,16,20,22,30,23,11,16,8,16,16,27,15,31,23,22,16,35,14,28,31,30,34,8,17,52,34,12,34,26,18,37,18,10,17,15,16,24,20,15,35,12,28,18,11,51,29,20,18,11,41,13,25,22,25,28,12,17,16,51,21,29,19,14,30,16,11,5,11,22,5,14,22,22,13,12,25,34,14,13,32,19,16,30,35,17,14,24,20,23,20,34,9,15,3,19,37,15,14,34,15,21,15,9,12,5,24,10,10,13,7,13,8,14,19,21,18,15,21,33,17,19,19,5,24,20,22,13,20,27,9,12,20,9,16,27,7,9,22,19,4,26,15,24,35,17,31,16,37,28,16,13,13,7,12,15,19,15,14,36,19,16,19,10,16,13,27,23,37,10,37,30,11,23,4,35,13,38,24,21,26,35,19,24,23,10,40,7,29,10,29,4,7,28,14,14,21,25,6,10,10,12,19,18,22,9,22,30,19,14,28,20,17,26,41,11,21,26,17,44,38,20,21,11,30,10,21,22,13,10,20,32,18,10,22,32,17,37,36,15,10,20,20,23,19,14,19,15,11,17,10,6,30,22,43,24,16,17,8,24,19,17,23,19,26,21,7,7,23,10,22,10,35,11,13,18,36,11,19,18,44,20,17,22,13,12,11,22,30,11,18,23,25,23,14,18,31,23,26,16,26,13,35,13,13,13,10,12,23,8,16,10,29,11,21,18,21,14,45,14,22,24,12,11,10,6,31,39,42,21,16,32,12,22,29,20,15,25,14,24,26,29,22,28,23,11,24,14,23,9,10,12,22,6,20,28,23,19,10,36,21,25,15,29,11,31,9,9,31,9,12,11,43,22,17,20,15,45,20,9,12,19,7,27,21,13,11,8,21,13,33,7,3,15,11,28,21,7,26,2,25,31,25,13,4,38,27,5,16,11,14,13,11,30,24,15,19,10,20,31,6,29,8,40,17,11,20,15,28,11,9,24,19,20,19,20,20,23,39,24,34,18,15,29,35,15,12,13,44,18,17,17,9,12,8,25,16,19,13,13,13,5,20,10,9,15,23,32,10,19,19,32,11,32,17,8,33,15,20,33,22,11,2,39,13,28,32,24,25,19,20,8,29,43,25,9,23,20,17,30,21,9,15,18,12,30,25,30,10,8,16,27,24,27,18,31,11,10,43,21,38,18,17,25,16,10,12,29,26,20,14,13,24,18,23,8,16,21,22,28,12,30,20,18,22,21,38,15,24,20,12,30,5,19,18,23,22,19,27,17,2,5,33,14,12,15,30,12,47,25,16,8,20,15,27,22,25,9,29,8,27,10,17,11,14,19,43,20,14,11,9,21,9,39,22,24,6,23,25,25,19,33,13,14,15,15,10,29,27,28,14,17,11,11,13,28,41,17,10,10,23,26,40,20,25,12,20,10,19,42,18,29,51,21,14,24,20,9,11,32,23,13,43,29,30,27,14,21,26,17,43,21,21,33,26,12,14,32,25,7,14,9,22,7,11,7,5,25,10,41,21,10,10,8,12,35,10,19,16,19,18,21,29,38,28,26,18,11,19,13,17,10,10,19,30,16,10,9,10,16,27,26,18,22,26,9,21,23,19,22,27,24,49,10,36,35,21,14,24,24,19,23,7,23,32,12,36,10,21,9,30,23,13,25,20,25,15,30,18,13,13,16,12,21,20,14,22,26,6,11,19,9,25,23,47,25,13,25,9,14,22,15,3,15,38,11,25,11,7,25,16,40,8,14,14,18,16,10,12,27,42,39,27,33,18,19,19,10,30,16,15,19,19,12,9,39,26,8,13,26,29,9,9,24,12,13,14,10,16,22,15,18,15,9,25,30,25,15,15,27,14,19,40,19,26,32,48,19,18,20,13,12,8,22,8,11,35,10,49,28,8,18,26,16,21,42,24,7,10,43,21,14,20,18,28,9,37,31,21,16,15,12,16,22,20,10,13,12,24,11,16,5,39,20,10,7,10,18,18,9,22,14,24,18,22,39,28,9,29,25,19,20,15,26,13,20,12,19,10,19,33,24,12,23,7,28,6,18,36,10,19,9,11,9,12,26,7,3,5,12,15,19,22,14,5,12,7,28,8,19,35,14,33,11,23,10,25,22,22,51,9,17,5,35,31,10,23,15,20,20,20,17,31,44,43,20,43,42,40,43,19,8,17,15,10,15,22,14,44,11,18,25,9,16,13,23,26,18,10,20,16,23,19,19,11,16,27,31,8,11,19,22,6,11,18,30,19,19,23,23,8,35,49,7,15,35,27,9,4,23,41,15,19,12,31,16,25,10,14,5,12,23,22,10,18,33,15,14,24,17,21,13,19,31,9,19,14,28,6,4,21,18,28,27,27,17,14,17,19,10,40,20,11,27,11,28,6,11,25,15,13,2,12,13,10,20,44,17,29,22,18,8,26,25,10,18,7,36,27,23,8,40,11,20,36,27,10,27,28,16,15,23,39,26,21,18,23,12,14,11,31,11,22,20,22,29,26,41,22,23,21,28,41,7,8,11,16,7,14,23,14,12,17,21,25,30,46,23,11,11,22,28,10,21,13,14,9,11,7,11,24,7,23,13,14,13,29,21,14,15,10,15,23,39,28,24,32,51,23,11,16,34,18,47,35,11,17,23,41,23,21,14,9,11,10,35,12,20,43,24,6,23,9,12,43,34,19,27,22,38,33,12,32,25,14,21,30,30,14,14,17,16,13,25,23,22,19,4,12,16,19,14,25,22,20,21,26,15,20,19,26,13,35,29,30,28,25,10,27,11,8,9,17,18,16,20,22,18,14,10,19,37,9,36,17,11,3,15,30,5,8,33,20,10,14,18,21,17,23,17,18,17,10,8,15,12,13,15,10,18,32,22,17,7,21,18,10,29,11,5,9,21,4,25,15,14,8,11,22,12,33,21,9,24,16,10,39,21,30,11,15,31,22,22,8,16,36,18,25,5,33,42,15,30,28,8,24,17,8,41,23,10,14,10,18,15,25,17,8,20,9,38,15,16,39,21,18,13,21,42,12,17,26,34,17,24,10,37,23,24,25,13,15,29,43,31,11,18,10,31,44,6,12,11,20,35,31,17,8,6,17,28,9,22,28,26,13,34,14,9,15,19,13,16,11,11,18,18,24,18,14,12,16,19,27,17,13,9,12,9,30,16,21,10,25,13,13,12,31,17,7,3,9,13,8,12,24,21,16,20,16,21,19,16,19,25,8,19,13,21,28,15,27,9,29,14,22,23,16,16,22,46,12,19,4,20,20,24,14,9,7,39,12,9,11,25,14,38,27,26,17,14,19,11,12,22,33,18,8,16,13,12,31,12,36,27,9,7,33,19,24,43,13,43,15,22,11,23,10,7,10,15,20,25,10,46,9,29,19,33,20,17,9,15,23,17,31,38,16,9,29,16,11,17,15,38,12,28,18,13,41,13,10,13,34,29,13,7,41,17,31,6,36,4,7,37,37,22,16,42,17,27,17,9,16,19,7,11,29,20,29,8,20,34,25,37,25,12,23,15,41,17,18,18,24,7,15,15,13,12,29,40,8,19,19,29,13,26,9,32,23,12,25,14],\"xaxis\":\"x\",\"yaxis\":\"y\",\"type\":\"histogram\"}],                        {\"template\":{\"data\":{\"histogram2dcontour\":[{\"type\":\"histogram2dcontour\",\"colorbar\":{\"outlinewidth\":0,\"ticks\":\"\"},\"colorscale\":[[0.0,\"#0d0887\"],[0.1111111111111111,\"#46039f\"],[0.2222222222222222,\"#7201a8\"],[0.3333333333333333,\"#9c179e\"],[0.4444444444444444,\"#bd3786\"],[0.5555555555555556,\"#d8576b\"],[0.6666666666666666,\"#ed7953\"],[0.7777777777777778,\"#fb9f3a\"],[0.8888888888888888,\"#fdca26\"],[1.0,\"#f0f921\"]]}],\"choropleth\":[{\"type\":\"choropleth\",\"colorbar\":{\"outlinewidth\":0,\"ticks\":\"\"}}],\"histogram2d\":[{\"type\":\"histogram2d\",\"colorbar\":{\"outlinewidth\":0,\"ticks\":\"\"},\"colorscale\":[[0.0,\"#0d0887\"],[0.1111111111111111,\"#46039f\"],[0.2222222222222222,\"#7201a8\"],[0.3333333333333333,\"#9c179e\"],[0.4444444444444444,\"#bd3786\"],[0.5555555555555556,\"#d8576b\"],[0.6666666666666666,\"#ed7953\"],[0.7777777777777778,\"#fb9f3a\"],[0.8888888888888888,\"#fdca26\"],[1.0,\"#f0f921\"]]}],\"heatmap\":[{\"type\":\"heatmap\",\"colorbar\":{\"outlinewidth\":0,\"ticks\":\"\"},\"colorscale\":[[0.0,\"#0d0887\"],[0.1111111111111111,\"#46039f\"],[0.2222222222222222,\"#7201a8\"],[0.3333333333333333,\"#9c179e\"],[0.4444444444444444,\"#bd3786\"],[0.5555555555555556,\"#d8576b\"],[0.6666666666666666,\"#ed7953\"],[0.7777777777777778,\"#fb9f3a\"],[0.8888888888888888,\"#fdca26\"],[1.0,\"#f0f921\"]]}],\"heatmapgl\":[{\"type\":\"heatmapgl\",\"colorbar\":{\"outlinewidth\":0,\"ticks\":\"\"},\"colorscale\":[[0.0,\"#0d0887\"],[0.1111111111111111,\"#46039f\"],[0.2222222222222222,\"#7201a8\"],[0.3333333333333333,\"#9c179e\"],[0.4444444444444444,\"#bd3786\"],[0.5555555555555556,\"#d8576b\"],[0.6666666666666666,\"#ed7953\"],[0.7777777777777778,\"#fb9f3a\"],[0.8888888888888888,\"#fdca26\"],[1.0,\"#f0f921\"]]}],\"contourcarpet\":[{\"type\":\"contourcarpet\",\"colorbar\":{\"outlinewidth\":0,\"ticks\":\"\"}}],\"contour\":[{\"type\":\"contour\",\"colorbar\":{\"outlinewidth\":0,\"ticks\":\"\"},\"colorscale\":[[0.0,\"#0d0887\"],[0.1111111111111111,\"#46039f\"],[0.2222222222222222,\"#7201a8\"],[0.3333333333333333,\"#9c179e\"],[0.4444444444444444,\"#bd3786\"],[0.5555555555555556,\"#d8576b\"],[0.6666666666666666,\"#ed7953\"],[0.7777777777777778,\"#fb9f3a\"],[0.8888888888888888,\"#fdca26\"],[1.0,\"#f0f921\"]]}],\"surface\":[{\"type\":\"surface\",\"colorbar\":{\"outlinewidth\":0,\"ticks\":\"\"},\"colorscale\":[[0.0,\"#0d0887\"],[0.1111111111111111,\"#46039f\"],[0.2222222222222222,\"#7201a8\"],[0.3333333333333333,\"#9c179e\"],[0.4444444444444444,\"#bd3786\"],[0.5555555555555556,\"#d8576b\"],[0.6666666666666666,\"#ed7953\"],[0.7777777777777778,\"#fb9f3a\"],[0.8888888888888888,\"#fdca26\"],[1.0,\"#f0f921\"]]}],\"mesh3d\":[{\"type\":\"mesh3d\",\"colorbar\":{\"outlinewidth\":0,\"ticks\":\"\"}}],\"scatter\":[{\"fillpattern\":{\"fillmode\":\"overlay\",\"size\":10,\"solidity\":0.2},\"type\":\"scatter\"}],\"parcoords\":[{\"type\":\"parcoords\",\"line\":{\"colorbar\":{\"outlinewidth\":0,\"ticks\":\"\"}}}],\"scatterpolargl\":[{\"type\":\"scatterpolargl\",\"marker\":{\"colorbar\":{\"outlinewidth\":0,\"ticks\":\"\"}}}],\"bar\":[{\"error_x\":{\"color\":\"#2a3f5f\"},\"error_y\":{\"color\":\"#2a3f5f\"},\"marker\":{\"line\":{\"color\":\"#E5ECF6\",\"width\":0.5},\"pattern\":{\"fillmode\":\"overlay\",\"size\":10,\"solidity\":0.2}},\"type\":\"bar\"}],\"scattergeo\":[{\"type\":\"scattergeo\",\"marker\":{\"colorbar\":{\"outlinewidth\":0,\"ticks\":\"\"}}}],\"scatterpolar\":[{\"type\":\"scatterpolar\",\"marker\":{\"colorbar\":{\"outlinewidth\":0,\"ticks\":\"\"}}}],\"histogram\":[{\"marker\":{\"pattern\":{\"fillmode\":\"overlay\",\"size\":10,\"solidity\":0.2}},\"type\":\"histogram\"}],\"scattergl\":[{\"type\":\"scattergl\",\"marker\":{\"colorbar\":{\"outlinewidth\":0,\"ticks\":\"\"}}}],\"scatter3d\":[{\"type\":\"scatter3d\",\"line\":{\"colorbar\":{\"outlinewidth\":0,\"ticks\":\"\"}},\"marker\":{\"colorbar\":{\"outlinewidth\":0,\"ticks\":\"\"}}}],\"scattermapbox\":[{\"type\":\"scattermapbox\",\"marker\":{\"colorbar\":{\"outlinewidth\":0,\"ticks\":\"\"}}}],\"scatterternary\":[{\"type\":\"scatterternary\",\"marker\":{\"colorbar\":{\"outlinewidth\":0,\"ticks\":\"\"}}}],\"scattercarpet\":[{\"type\":\"scattercarpet\",\"marker\":{\"colorbar\":{\"outlinewidth\":0,\"ticks\":\"\"}}}],\"carpet\":[{\"aaxis\":{\"endlinecolor\":\"#2a3f5f\",\"gridcolor\":\"white\",\"linecolor\":\"white\",\"minorgridcolor\":\"white\",\"startlinecolor\":\"#2a3f5f\"},\"baxis\":{\"endlinecolor\":\"#2a3f5f\",\"gridcolor\":\"white\",\"linecolor\":\"white\",\"minorgridcolor\":\"white\",\"startlinecolor\":\"#2a3f5f\"},\"type\":\"carpet\"}],\"table\":[{\"cells\":{\"fill\":{\"color\":\"#EBF0F8\"},\"line\":{\"color\":\"white\"}},\"header\":{\"fill\":{\"color\":\"#C8D4E3\"},\"line\":{\"color\":\"white\"}},\"type\":\"table\"}],\"barpolar\":[{\"marker\":{\"line\":{\"color\":\"#E5ECF6\",\"width\":0.5},\"pattern\":{\"fillmode\":\"overlay\",\"size\":10,\"solidity\":0.2}},\"type\":\"barpolar\"}],\"pie\":[{\"automargin\":true,\"type\":\"pie\"}]},\"layout\":{\"autotypenumbers\":\"strict\",\"colorway\":[\"#636efa\",\"#EF553B\",\"#00cc96\",\"#ab63fa\",\"#FFA15A\",\"#19d3f3\",\"#FF6692\",\"#B6E880\",\"#FF97FF\",\"#FECB52\"],\"font\":{\"color\":\"#2a3f5f\"},\"hovermode\":\"closest\",\"hoverlabel\":{\"align\":\"left\"},\"paper_bgcolor\":\"white\",\"plot_bgcolor\":\"#E5ECF6\",\"polar\":{\"bgcolor\":\"#E5ECF6\",\"angularaxis\":{\"gridcolor\":\"white\",\"linecolor\":\"white\",\"ticks\":\"\"},\"radialaxis\":{\"gridcolor\":\"white\",\"linecolor\":\"white\",\"ticks\":\"\"}},\"ternary\":{\"bgcolor\":\"#E5ECF6\",\"aaxis\":{\"gridcolor\":\"white\",\"linecolor\":\"white\",\"ticks\":\"\"},\"baxis\":{\"gridcolor\":\"white\",\"linecolor\":\"white\",\"ticks\":\"\"},\"caxis\":{\"gridcolor\":\"white\",\"linecolor\":\"white\",\"ticks\":\"\"}},\"coloraxis\":{\"colorbar\":{\"outlinewidth\":0,\"ticks\":\"\"}},\"colorscale\":{\"sequential\":[[0.0,\"#0d0887\"],[0.1111111111111111,\"#46039f\"],[0.2222222222222222,\"#7201a8\"],[0.3333333333333333,\"#9c179e\"],[0.4444444444444444,\"#bd3786\"],[0.5555555555555556,\"#d8576b\"],[0.6666666666666666,\"#ed7953\"],[0.7777777777777778,\"#fb9f3a\"],[0.8888888888888888,\"#fdca26\"],[1.0,\"#f0f921\"]],\"sequentialminus\":[[0.0,\"#0d0887\"],[0.1111111111111111,\"#46039f\"],[0.2222222222222222,\"#7201a8\"],[0.3333333333333333,\"#9c179e\"],[0.4444444444444444,\"#bd3786\"],[0.5555555555555556,\"#d8576b\"],[0.6666666666666666,\"#ed7953\"],[0.7777777777777778,\"#fb9f3a\"],[0.8888888888888888,\"#fdca26\"],[1.0,\"#f0f921\"]],\"diverging\":[[0,\"#8e0152\"],[0.1,\"#c51b7d\"],[0.2,\"#de77ae\"],[0.3,\"#f1b6da\"],[0.4,\"#fde0ef\"],[0.5,\"#f7f7f7\"],[0.6,\"#e6f5d0\"],[0.7,\"#b8e186\"],[0.8,\"#7fbc41\"],[0.9,\"#4d9221\"],[1,\"#276419\"]]},\"xaxis\":{\"gridcolor\":\"white\",\"linecolor\":\"white\",\"ticks\":\"\",\"title\":{\"standoff\":15},\"zerolinecolor\":\"white\",\"automargin\":true,\"zerolinewidth\":2},\"yaxis\":{\"gridcolor\":\"white\",\"linecolor\":\"white\",\"ticks\":\"\",\"title\":{\"standoff\":15},\"zerolinecolor\":\"white\",\"automargin\":true,\"zerolinewidth\":2},\"scene\":{\"xaxis\":{\"backgroundcolor\":\"#E5ECF6\",\"gridcolor\":\"white\",\"linecolor\":\"white\",\"showbackground\":true,\"ticks\":\"\",\"zerolinecolor\":\"white\",\"gridwidth\":2},\"yaxis\":{\"backgroundcolor\":\"#E5ECF6\",\"gridcolor\":\"white\",\"linecolor\":\"white\",\"showbackground\":true,\"ticks\":\"\",\"zerolinecolor\":\"white\",\"gridwidth\":2},\"zaxis\":{\"backgroundcolor\":\"#E5ECF6\",\"gridcolor\":\"white\",\"linecolor\":\"white\",\"showbackground\":true,\"ticks\":\"\",\"zerolinecolor\":\"white\",\"gridwidth\":2}},\"shapedefaults\":{\"line\":{\"color\":\"#2a3f5f\"}},\"annotationdefaults\":{\"arrowcolor\":\"#2a3f5f\",\"arrowhead\":0,\"arrowwidth\":1},\"geo\":{\"bgcolor\":\"white\",\"landcolor\":\"#E5ECF6\",\"subunitcolor\":\"white\",\"showland\":true,\"showlakes\":true,\"lakecolor\":\"white\"},\"title\":{\"x\":0.05},\"mapbox\":{\"style\":\"light\"}}},\"xaxis\":{\"anchor\":\"y\",\"domain\":[0.0,1.0],\"title\":{\"text\":\"sent_token_length\"}},\"yaxis\":{\"anchor\":\"x\",\"domain\":[0.0,1.0],\"title\":{\"text\":\"percent\"}},\"legend\":{\"tracegroupgap\":0},\"margin\":{\"t\":60},\"barmode\":\"group\"},                        {\"responsive\": true}                    ).then(function(){\n",
              "                            \n",
              "var gd = document.getElementById('6a158063-c254-44fa-a98e-b531610b5d84');\n",
              "var x = new MutationObserver(function (mutations, observer) {{\n",
              "        var display = window.getComputedStyle(gd).display;\n",
              "        if (!display || display === 'none') {{\n",
              "            console.log([gd, 'removed!']);\n",
              "            Plotly.purge(gd);\n",
              "            observer.disconnect();\n",
              "        }}\n",
              "}});\n",
              "\n",
              "// Listen for the removal of the full notebook cells\n",
              "var notebookContainer = gd.closest('#notebook-container');\n",
              "if (notebookContainer) {{\n",
              "    x.observe(notebookContainer, {childList: true});\n",
              "}}\n",
              "\n",
              "// Listen for the clearing of the current output cell\n",
              "var outputEl = gd.closest('.output');\n",
              "if (outputEl) {{\n",
              "    x.observe(outputEl, {childList: true});\n",
              "}}\n",
              "\n",
              "                        })                };                            </script>        </div>\n",
              "</body>\n",
              "</html>"
            ]
          },
          "metadata": {},
          "output_type": "display_data"
        }
      ],
      "source": [
        "fig = px.histogram(df, x=\"sent_token_length\", nbins=20, color_discrete_sequence=px.colors.cmocean.algae, barmode='group', histnorm=\"percent\")\n",
        "fig.show()"
      ]
    },
    {
      "cell_type": "code",
      "execution_count": null,
      "metadata": {
        "colab": {
          "base_uri": "https://localhost:8080/"
        },
        "id": "41ZMFmqWDUfS",
        "outputId": "86982154-59da-49b4-ec11-6f23bb0adac6"
      },
      "outputs": [
        {
          "data": {
            "text/plain": [
              "1.0"
            ]
          },
          "execution_count": 19,
          "metadata": {},
          "output_type": "execute_result"
        }
      ],
      "source": [
        "(df.sent_token_length < 512).mean()"
      ]
    },
    {
      "cell_type": "markdown",
      "metadata": {
        "id": "PgKajZYlDbMo"
      },
      "source": [
        "Token Counts with BERT tokenizer"
      ]
    },
    {
      "cell_type": "markdown",
      "metadata": {
        "id": "orbZNk8qDfrq"
      },
      "source": [
        "Since we will create a Transformers-based model, the value that BERT tokinezer will give us is very important. With the information here, the value of the seq_len parameter that we will use while encoding the data will be decided."
      ]
    },
    {
      "cell_type": "code",
      "execution_count": null,
      "metadata": {
        "colab": {
          "base_uri": "https://localhost:8080/"
        },
        "id": "GUh6ULD0DsSA",
        "outputId": "d3871e06-d9f9-4858-bd3d-af58da7e2ca2"
      },
      "outputs": [
        {
          "name": "stdout",
          "output_type": "stream",
          "text": [
            "Collecting transformers\n",
            "  Downloading transformers-4.30.2-py3-none-any.whl (7.2 MB)\n",
            "\u001b[2K     \u001b[90m━━━━━━━━━━━━━━━━━━━━━━━━━━━━━━━━━━━━━━━━\u001b[0m \u001b[32m7.2/7.2 MB\u001b[0m \u001b[31m43.7 MB/s\u001b[0m eta \u001b[36m0:00:00\u001b[0m\n",
            "\u001b[?25hRequirement already satisfied: filelock in /usr/local/lib/python3.10/dist-packages (from transformers) (3.12.2)\n",
            "Collecting huggingface-hub<1.0,>=0.14.1 (from transformers)\n",
            "  Downloading huggingface_hub-0.16.4-py3-none-any.whl (268 kB)\n",
            "\u001b[2K     \u001b[90m━━━━━━━━━━━━━━━━━━━━━━━━━━━━━━━━━━━━━━\u001b[0m \u001b[32m268.8/268.8 kB\u001b[0m \u001b[31m24.3 MB/s\u001b[0m eta \u001b[36m0:00:00\u001b[0m\n",
            "\u001b[?25hRequirement already satisfied: numpy>=1.17 in /usr/local/lib/python3.10/dist-packages (from transformers) (1.22.4)\n",
            "Requirement already satisfied: packaging>=20.0 in /usr/local/lib/python3.10/dist-packages (from transformers) (23.1)\n",
            "Requirement already satisfied: pyyaml>=5.1 in /usr/local/lib/python3.10/dist-packages (from transformers) (6.0)\n",
            "Requirement already satisfied: regex!=2019.12.17 in /usr/local/lib/python3.10/dist-packages (from transformers) (2022.10.31)\n",
            "Requirement already satisfied: requests in /usr/local/lib/python3.10/dist-packages (from transformers) (2.27.1)\n",
            "Collecting tokenizers!=0.11.3,<0.14,>=0.11.1 (from transformers)\n",
            "  Downloading tokenizers-0.13.3-cp310-cp310-manylinux_2_17_x86_64.manylinux2014_x86_64.whl (7.8 MB)\n",
            "\u001b[2K     \u001b[90m━━━━━━━━━━━━━━━━━━━━━━━━━━━━━━━━━━━━━━━━\u001b[0m \u001b[32m7.8/7.8 MB\u001b[0m \u001b[31m59.2 MB/s\u001b[0m eta \u001b[36m0:00:00\u001b[0m\n",
            "\u001b[?25hCollecting safetensors>=0.3.1 (from transformers)\n",
            "  Downloading safetensors-0.3.1-cp310-cp310-manylinux_2_17_x86_64.manylinux2014_x86_64.whl (1.3 MB)\n",
            "\u001b[2K     \u001b[90m━━━━━━━━━━━━━━━━━━━━━━━━━━━━━━━━━━━━━━━━\u001b[0m \u001b[32m1.3/1.3 MB\u001b[0m \u001b[31m50.5 MB/s\u001b[0m eta \u001b[36m0:00:00\u001b[0m\n",
            "\u001b[?25hRequirement already satisfied: tqdm>=4.27 in /usr/local/lib/python3.10/dist-packages (from transformers) (4.65.0)\n",
            "Requirement already satisfied: fsspec in /usr/local/lib/python3.10/dist-packages (from huggingface-hub<1.0,>=0.14.1->transformers) (2023.6.0)\n",
            "Requirement already satisfied: typing-extensions>=3.7.4.3 in /usr/local/lib/python3.10/dist-packages (from huggingface-hub<1.0,>=0.14.1->transformers) (4.7.1)\n",
            "Requirement already satisfied: urllib3<1.27,>=1.21.1 in /usr/local/lib/python3.10/dist-packages (from requests->transformers) (1.26.16)\n",
            "Requirement already satisfied: certifi>=2017.4.17 in /usr/local/lib/python3.10/dist-packages (from requests->transformers) (2023.5.7)\n",
            "Requirement already satisfied: charset-normalizer~=2.0.0 in /usr/local/lib/python3.10/dist-packages (from requests->transformers) (2.0.12)\n",
            "Requirement already satisfied: idna<4,>=2.5 in /usr/local/lib/python3.10/dist-packages (from requests->transformers) (3.4)\n",
            "Installing collected packages: tokenizers, safetensors, huggingface-hub, transformers\n",
            "Successfully installed huggingface-hub-0.16.4 safetensors-0.3.1 tokenizers-0.13.3 transformers-4.30.2\n"
          ]
        }
      ],
      "source": [
        "!pip install transformers"
      ]
    },
    {
      "cell_type": "code",
      "execution_count": null,
      "metadata": {
        "colab": {
          "base_uri": "https://localhost:8080/",
          "height": 113,
          "referenced_widgets": [
            "5c141317f5bb4ace96e15e45792613b9",
            "c2d33c7ee25c49358c8985a2ece27c71",
            "e1ea5a60285d4f0d9f0cd593154c0116",
            "91dae7c77be646be9d854f3191f50ebf",
            "0345c5e8cb82421ca3ec17a6cfb10c6f",
            "281a6b0986e34b3b981d472eb27e4c10",
            "eaca5cbb426a42268f195e525ee9b72c",
            "5d3d18a4f4ff43f582ffa53b28de7279",
            "9d8d8d9683234598ba9b3696ec8c6f6c",
            "725de979bee842c69664296b57368e2f",
            "5971cdcee6344c9eb74f121191ef7561",
            "849a0404df5d47dcb219ac265acee227",
            "7e251a806a854b428027bdc9c54489dc",
            "03415d8e28a1426f9bcf479041ca732b",
            "6d26e991ab9c4559a0c9560177d6ff78",
            "24ee5cdefc4a4b4b9a9129d91cd8d418",
            "b0d2de342c404ac7a1ba68ce0262130c",
            "78866b2d8daa4ca88cc8d59e94af00ff",
            "93f9dd8d4d284575a6441bfae10ce585",
            "c2d524f33f6d4029bd653b523917584e",
            "8cd682b696d54b07b5b5a71759729590",
            "a378e88c23984668be29e9ffe8defa4a",
            "7c95dcc65e334121921ed9784feb8141",
            "41e79f3419f94f7bad96ec5f4073cd8a",
            "918d52497d2d4dca843f0dc57d120134",
            "7147f57eeaf34abf8f717e50fcc83ba0",
            "776f367671374b1f8c2f2df39d94aea7",
            "d5f1705b20a84df3b23cb5242bb366b7",
            "68ffea772e5e46989b13ec565409ea5d",
            "d214297404ea4b74ad85e02153e5e0d2",
            "37e7e9817c06410f9b748e35650d374b",
            "5e6e5b3132ce4616a7d6aab898ccbb8d",
            "80fe8653cc6a4be69619a8ed3b1eb596"
          ]
        },
        "id": "to6YlDt8DXw0",
        "outputId": "bbb71f6f-7e4f-4f2b-f978-0ad0b8a1c673"
      },
      "outputs": [
        {
          "data": {
            "application/vnd.jupyter.widget-view+json": {
              "model_id": "5c141317f5bb4ace96e15e45792613b9",
              "version_major": 2,
              "version_minor": 0
            },
            "text/plain": [
              "Downloading (…)solve/main/vocab.txt:   0%|          | 0.00/232k [00:00<?, ?B/s]"
            ]
          },
          "metadata": {},
          "output_type": "display_data"
        },
        {
          "data": {
            "application/vnd.jupyter.widget-view+json": {
              "model_id": "849a0404df5d47dcb219ac265acee227",
              "version_major": 2,
              "version_minor": 0
            },
            "text/plain": [
              "Downloading (…)okenizer_config.json:   0%|          | 0.00/28.0 [00:00<?, ?B/s]"
            ]
          },
          "metadata": {},
          "output_type": "display_data"
        },
        {
          "data": {
            "application/vnd.jupyter.widget-view+json": {
              "model_id": "7c95dcc65e334121921ed9784feb8141",
              "version_major": 2,
              "version_minor": 0
            },
            "text/plain": [
              "Downloading (…)lve/main/config.json:   0%|          | 0.00/570 [00:00<?, ?B/s]"
            ]
          },
          "metadata": {},
          "output_type": "display_data"
        }
      ],
      "source": [
        "from transformers import BertTokenizer\n",
        "tokenizer = BertTokenizer.from_pretrained('bert-base-uncased', do_lower_case=True)"
      ]
    },
    {
      "cell_type": "code",
      "execution_count": null,
      "metadata": {
        "id": "n-CwxQFED38V"
      },
      "outputs": [],
      "source": [
        "# data tokenize with bert tokenizer\n",
        "df[\"sent_bert_token_length\"] = df[\"Sentence\"].apply(lambda x: len(tokenizer(x, add_special_tokens=False)[\"input_ids\"]))"
      ]
    },
    {
      "cell_type": "code",
      "execution_count": null,
      "metadata": {
        "colab": {
          "base_uri": "https://localhost:8080/",
          "height": 542
        },
        "id": "mtX8CQ2qEeDB",
        "outputId": "1d57d3f9-c60b-4fc8-eb43-14ffd317dd48"
      },
      "outputs": [
        {
          "data": {
            "text/html": [
              "<html>\n",
              "<head><meta charset=\"utf-8\" /></head>\n",
              "<body>\n",
              "    <div>            <script src=\"https://cdnjs.cloudflare.com/ajax/libs/mathjax/2.7.5/MathJax.js?config=TeX-AMS-MML_SVG\"></script><script type=\"text/javascript\">if (window.MathJax && window.MathJax.Hub && window.MathJax.Hub.Config) {window.MathJax.Hub.Config({SVG: {font: \"STIX-Web\"}});}</script>                <script type=\"text/javascript\">window.PlotlyConfig = {MathJaxConfig: 'local'};</script>\n",
              "        <script src=\"https://cdn.plot.ly/plotly-2.18.2.min.js\"></script>                <div id=\"78d2d764-9ffc-4faa-882d-d7a502ae13f0\" class=\"plotly-graph-div\" style=\"height:525px; width:100%;\"></div>            <script type=\"text/javascript\">                                    window.PLOTLYENV=window.PLOTLYENV || {};                                    if (document.getElementById(\"78d2d764-9ffc-4faa-882d-d7a502ae13f0\")) {                    Plotly.newPlot(                        \"78d2d764-9ffc-4faa-882d-d7a502ae13f0\",                        [{\"alignmentgroup\":\"True\",\"bingroup\":\"x\",\"histnorm\":\"percent\",\"hovertemplate\":\"sent_token_length=%{x}<br>percent=%{y}<extra></extra>\",\"legendgroup\":\"\",\"marker\":{\"color\":\"rgb(214, 249, 207)\",\"pattern\":{\"shape\":\"\"}},\"name\":\"\",\"nbinsx\":20,\"offsetgroup\":\"\",\"orientation\":\"v\",\"showlegend\":false,\"x\":[29,13,44,19,22,10,9,33,18,33,14,23,30,6,39,5,21,26,13,10,23,12,21,20,13,10,17,23,31,3,37,35,10,10,11,18,27,36,13,16,21,25,9,31,24,12,21,26,29,10,28,27,14,10,5,18,33,14,22,29,20,10,25,8,18,24,14,17,24,40,28,21,21,45,9,17,15,19,13,13,25,21,34,29,53,20,18,17,22,29,5,10,11,28,33,20,29,43,2,28,12,18,23,10,21,22,7,21,19,49,29,27,13,21,31,11,32,25,27,16,49,32,13,30,13,23,16,19,18,14,39,11,39,16,26,40,22,45,19,13,19,15,11,12,8,13,30,12,17,18,17,27,13,23,23,14,12,3,23,12,14,19,22,16,19,14,16,17,16,29,21,12,22,24,19,14,13,17,17,19,22,30,16,16,17,38,17,36,32,17,22,31,21,20,16,11,22,15,42,10,19,34,19,38,11,17,16,22,29,4,22,27,11,11,15,14,29,28,19,15,21,21,13,10,24,22,13,7,28,25,27,7,16,32,21,15,28,13,34,11,13,9,11,20,27,18,21,15,10,15,18,10,11,24,42,25,19,11,17,18,22,18,14,30,20,14,14,46,11,9,24,11,29,17,8,34,15,16,17,13,19,11,16,16,15,39,18,40,26,15,18,14,23,35,9,11,16,15,8,18,33,23,17,25,18,28,8,12,20,32,14,11,12,35,6,10,40,9,8,25,27,15,15,26,22,10,8,47,23,21,33,14,44,32,12,36,30,14,14,24,8,16,8,17,17,8,29,7,25,11,29,16,20,29,34,21,9,43,17,25,14,7,18,28,10,13,39,22,27,19,9,23,3,17,29,10,9,15,30,10,21,28,15,21,13,17,19,29,13,5,24,31,8,16,24,15,36,17,18,19,8,19,29,26,25,42,22,8,6,27,15,29,21,28,24,23,17,41,30,20,35,14,20,44,36,26,20,45,27,12,42,9,8,13,16,40,34,13,14,9,17,15,3,38,15,12,24,9,23,14,8,23,27,10,21,10,8,14,17,17,35,14,24,9,32,11,13,13,17,34,12,28,18,39,11,17,16,16,10,25,27,8,12,25,17,20,19,13,15,10,30,37,14,6,26,27,34,4,44,37,15,18,22,10,12,28,50,34,32,18,35,48,22,18,17,14,31,16,9,18,32,12,15,7,24,26,31,40,20,8,23,38,25,15,24,20,15,10,17,23,17,14,10,23,21,19,33,15,37,26,11,22,24,33,29,26,13,9,34,26,7,24,17,22,18,8,16,27,39,8,13,22,23,30,17,41,11,18,24,22,25,24,10,21,22,16,20,18,16,32,9,16,11,31,17,11,22,14,10,18,17,45,20,5,17,26,17,34,20,30,18,28,33,15,8,7,15,20,11,18,23,18,10,33,10,15,20,16,12,40,9,28,15,12,19,18,13,15,19,14,21,32,31,18,18,13,12,13,26,8,13,15,13,20,31,11,9,11,21,22,16,25,10,12,8,15,19,21,29,16,11,17,40,17,16,14,9,22,15,21,19,11,20,10,31,18,5,40,11,10,18,9,10,25,17,31,38,10,23,29,17,31,23,37,15,11,9,23,21,11,11,18,39,7,12,13,23,16,26,17,23,27,15,19,32,25,10,26,16,10,11,15,24,11,16,22,26,18,19,27,43,25,20,15,23,10,19,18,16,30,42,13,10,25,11,8,23,23,14,16,22,25,25,22,42,26,16,6,22,10,24,12,41,35,36,15,30,30,20,20,13,30,22,22,40,28,13,27,12,23,43,14,26,14,15,20,13,16,26,7,22,18,12,29,43,19,41,26,10,11,20,31,22,28,5,9,40,19,37,27,35,24,39,12,25,16,13,34,10,20,12,10,24,15,19,8,34,18,17,18,28,39,7,9,27,29,21,18,21,23,9,24,11,17,44,41,14,45,43,17,11,33,5,2,13,42,21,11,19,11,25,6,19,30,23,20,9,13,10,9,26,17,24,18,18,31,21,21,19,39,21,13,24,15,19,19,12,44,22,23,16,12,19,11,33,35,35,17,23,21,15,14,31,33,8,15,37,14,39,23,25,3,10,11,23,13,31,22,19,7,43,15,7,12,16,51,8,21,8,10,21,26,16,15,37,8,34,13,38,41,9,10,20,5,10,7,27,19,18,13,23,13,21,13,34,21,11,28,22,15,27,18,20,25,16,14,6,7,24,11,13,26,32,22,13,41,31,20,13,14,34,9,8,21,9,35,23,38,15,18,32,18,14,13,17,14,30,7,6,37,39,11,35,18,19,15,45,11,31,18,32,16,14,19,12,11,26,35,20,15,20,7,16,26,9,29,25,13,14,14,20,10,9,9,15,23,36,21,17,25,25,43,37,27,19,33,22,39,21,8,12,17,11,41,16,13,12,33,17,30,27,27,14,40,39,18,35,11,35,7,21,6,35,9,10,36,6,12,13,29,14,17,14,13,12,23,10,18,9,18,34,13,17,17,25,31,23,18,15,24,31,27,5,19,10,20,23,13,8,24,8,11,32,24,17,25,17,8,28,15,13,23,6,8,15,25,25,16,19,20,26,18,12,16,14,25,30,21,12,18,17,17,10,35,12,28,25,28,15,12,22,16,25,9,33,22,13,18,32,23,19,16,26,10,28,17,14,11,12,16,22,29,22,20,14,14,46,21,30,19,10,11,25,30,22,11,16,19,17,12,24,10,16,25,25,22,45,28,14,15,12,27,20,15,31,30,12,46,23,22,7,20,13,16,14,10,41,16,18,18,12,24,29,9,6,20,13,38,46,17,49,17,21,9,18,18,25,24,19,25,15,35,10,12,36,8,9,23,11,9,12,11,12,14,10,13,11,10,27,10,21,28,15,24,8,18,26,15,12,37,11,24,35,16,25,16,19,7,12,39,6,20,22,9,14,26,31,50,10,22,23,13,10,18,19,18,20,26,6,17,7,33,14,16,17,29,21,37,21,30,38,10,15,14,29,30,9,22,10,20,25,10,20,48,21,20,11,17,9,21,27,25,9,7,29,13,33,8,35,13,29,14,4,21,23,25,19,14,14,33,22,22,18,29,21,23,23,32,33,38,22,3,20,7,5,27,10,42,22,12,37,13,16,23,37,5,12,13,14,32,13,19,21,32,22,18,26,12,25,7,7,9,36,19,43,36,27,20,27,10,31,35,20,5,17,41,3,7,13,20,26,41,17,21,12,18,29,12,8,18,15,24,25,17,32,35,22,12,36,31,16,23,22,13,28,27,14,15,15,18,17,19,19,13,25,12,23,14,28,17,18,21,43,10,42,26,34,20,19,27,26,11,20,22,19,16,7,7,14,26,35,13,28,25,7,21,27,8,38,24,25,9,17,28,23,10,9,20,15,43,22,9,23,13,13,12,20,18,16,18,19,9,24,35,12,20,49,24,4,13,19,4,24,15,19,23,39,28,16,18,17,18,25,22,18,20,35,9,16,23,15,11,26,15,18,11,26,19,15,15,16,22,20,9,19,12,34,12,23,28,32,9,28,17,18,18,23,21,23,8,9,19,8,31,6,29,13,15,21,17,13,37,7,21,27,15,26,20,29,6,31,23,11,19,22,10,3,20,15,25,21,15,20,26,18,21,26,8,17,21,30,27,14,25,12,10,49,20,15,12,21,25,10,14,25,18,11,14,16,21,21,13,19,9,8,11,12,4,32,26,29,30,21,7,17,37,8,39,38,28,27,18,10,15,20,24,16,32,25,8,19,20,12,8,13,32,30,51,25,8,16,22,15,14,21,21,21,19,44,20,10,11,23,22,15,17,35,11,18,23,21,10,10,20,8,13,28,9,22,13,7,25,35,21,33,24,13,15,42,27,38,20,31,35,13,14,40,27,32,41,3,19,23,16,22,20,29,14,7,7,13,14,13,16,26,14,21,38,28,6,18,11,16,25,17,11,11,23,43,26,31,20,34,20,18,10,26,19,19,33,17,13,13,43,12,23,33,13,14,20,19,28,17,27,21,26,16,4,25,16,10,14,5,19,28,29,9,32,26,26,26,26,8,28,11,25,21,13,15,19,25,32,35,15,14,34,26,14,9,24,26,20,9,25,25,34,8,9,13,27,12,14,32,25,16,40,21,49,6,16,23,19,37,25,20,20,28,14,23,12,21,20,15,9,11,39,13,10,11,17,12,17,16,23,26,18,11,24,9,9,16,29,14,20,41,34,9,20,38,30,13,19,35,20,19,29,9,30,14,20,19,29,20,18,30,16,51,23,44,21,21,28,19,18,20,10,30,33,11,27,19,17,17,16,14,8,32,32,26,28,18,26,31,8,16,10,30,9,26,17,28,8,37,39,31,31,14,13,14,27,28,19,19,20,10,23,35,12,15,25,12,20,18,5,25,43,21,13,15,17,14,26,19,10,22,25,10,17,16,13,31,26,27,42,17,16,40,27,12,47,26,35,8,3,24,23,16,23,17,29,9,40,8,15,22,23,7,42,14,10,12,13,18,17,9,12,27,12,15,8,10,29,21,35,21,34,36,19,40,6,23,24,21,11,11,27,12,21,11,17,25,23,31,39,18,8,10,37,10,21,32,11,10,13,42,21,24,17,26,27,22,18,22,4,15,17,19,27,14,40,18,14,23,25,17,23,17,33,12,30,30,25,20,9,37,28,26,23,10,13,11,13,29,16,15,13,23,4,13,28,13,14,25,28,30,13,18,14,34,19,17,10,29,18,25,23,11,25,39,26,47,11,10,31,27,34,12,25,18,24,20,10,21,11,11,5,26,35,12,16,42,13,10,8,10,14,8,22,14,47,22,21,46,21,34,34,14,12,32,17,12,31,15,17,27,1,37,30,31,12,16,28,24,21,17,5,18,29,17,17,9,29,11,14,32,19,34,41,29,25,13,13,17,17,34,7,24,39,35,11,12,14,30,9,18,12,19,27,36,15,21,26,22,31,16,12,25,23,18,20,16,30,31,18,50,23,33,12,10,17,9,31,23,19,10,30,22,46,20,13,15,10,32,23,24,17,17,41,8,8,30,44,29,34,10,41,18,12,28,24,11,24,5,10,26,20,21,14,21,30,17,47,22,9,30,15,11,32,30,20,23,32,46,33,14,10,9,7,30,30,13,13,18,25,14,17,21,27,21,8,26,25,18,10,32,21,23,34,8,21,14,14,19,30,13,10,39,23,24,15,35,29,35,20,16,8,7,20,13,21,27,27,14,15,9,37,9,21,39,15,42,29,31,17,13,40,25,20,8,29,4,20,43,9,29,14,7,25,29,15,11,13,20,19,9,11,19,30,13,11,21,18,25,14,7,10,14,19,19,9,8,47,16,7,13,19,21,26,19,23,21,11,17,22,11,23,24,14,25,40,11,11,20,18,19,21,17,8,29,10,9,48,10,14,24,19,11,10,26,11,8,14,22,21,6,18,30,19,18,10,13,21,25,36,8,17,30,21,22,17,13,28,13,39,19,28,21,15,24,18,22,11,19,20,18,16,14,4,13,18,21,24,30,13,11,10,14,29,20,19,35,18,39,13,20,13,10,13,15,23,22,12,11,30,13,31,20,36,16,26,16,27,21,11,5,19,46,11,9,34,30,30,29,12,34,38,34,23,46,8,11,21,10,13,26,8,17,41,14,28,13,46,8,44,17,29,11,30,17,8,30,13,25,35,22,16,17,15,24,28,29,13,13,11,29,14,9,28,18,17,20,16,19,22,19,16,35,40,9,20,10,33,10,16,13,18,26,22,13,13,28,19,17,11,13,14,37,11,9,21,14,12,10,17,22,8,30,28,37,17,14,14,28,22,17,20,7,12,30,7,8,45,25,19,21,13,22,17,13,29,21,31,20,33,9,16,21,34,7,16,11,23,31,31,12,11,18,10,21,18,18,22,14,27,11,16,21,13,27,8,17,10,25,32,9,29,16,40,13,40,20,4,7,33,12,16,35,32,13,11,23,21,18,28,16,22,15,13,29,30,15,17,43,15,35,9,19,13,17,17,14,3,30,44,22,15,11,20,6,14,8,27,10,19,11,31,7,30,30,17,25,16,9,13,23,23,15,12,14,13,18,35,21,15,15,29,31,11,18,19,15,30,21,15,22,32,23,8,20,19,17,13,17,9,32,22,17,39,21,30,15,11,12,12,14,17,19,20,7,25,25,20,16,29,18,28,24,8,17,21,28,23,18,11,12,18,27,21,11,31,21,23,13,29,21,21,39,24,45,23,23,32,44,15,9,12,23,15,20,12,32,20,11,18,10,15,27,13,27,22,21,27,25,17,26,26,7,9,13,21,14,24,9,23,11,23,17,20,13,23,14,35,11,30,9,8,11,17,7,13,9,11,34,19,32,10,26,31,30,20,7,26,17,26,26,20,7,26,23,21,17,8,11,16,19,29,12,25,16,13,19,17,25,15,10,11,37,18,23,29,35,19,10,28,12,14,20,8,27,8,17,37,15,21,35,36,12,20,9,22,12,36,14,18,18,13,14,19,19,13,13,16,30,15,9,16,23,26,24,19,22,40,45,10,18,10,20,12,11,16,34,20,30,17,5,23,15,16,37,30,9,15,5,10,12,24,11,31,10,13,30,29,19,17,16,27,16,21,20,30,33,12,9,14,31,44,15,15,37,16,17,29,38,24,14,33,21,11,11,5,18,10,20,20,10,12,25,41,16,15,16,20,13,18,15,23,15,24,41,11,17,12,25,11,35,15,37,25,12,25,9,6,15,47,26,7,11,10,25,13,15,15,23,11,25,21,21,34,25,22,30,21,11,18,14,12,16,19,14,17,34,16,10,31,11,15,17,41,26,10,31,12,24,22,16,20,27,10,24,17,9,29,17,25,18,30,20,18,19,8,15,17,7,20,6,10,12,9,22,12,16,17,17,22,24,19,21,26,24,24,29,18,15,37,16,17,35,34,41,24,20,22,20,17,13,43,9,16,27,31,14,10,25,24,27,38,23,20,10,19,11,11,21,21,33,14,9,14,31,6,34,13,13,35,31,21,3,39,19,14,16,8,11,39,42,16,21,8,9,31,14,22,9,20,35,34,13,44,16,13,31,43,16,26,12,22,24,22,8,11,20,17,19,25,35,12,10,4,24,13,18,24,8,15,12,28,21,28,33,8,10,13,29,21,13,36,20,21,35,11,26,7,8,7,22,17,27,20,7,17,12,29,20,20,26,40,17,20,5,5,17,10,29,19,17,9,22,22,15,31,24,12,19,20,14,37,26,26,10,15,10,25,21,10,22,23,19,23,23,12,30,21,27,29,20,21,31,26,8,13,13,15,25,10,41,6,23,21,36,8,20,36,38,11,17,22,14,31,16,14,15,31,19,22,19,11,14,18,26,8,40,11,21,20,29,37,12,18,19,9,12,20,31,30,24,18,25,43,7,14,14,23,31,44,18,9,23,25,30,29,27,27,32,7,30,14,24,31,17,14,21,15,13,14,18,5,12,43,14,17,14,8,33,10,11,20,18,20,16,22,20,30,40,9,9,27,28,13,31,28,14,7,26,9,27,15,15,25,11,12,33,31,36,34,12,23,27,25,13,8,8,15,29,41,20,13,47,9,11,22,25,8,21,23,17,11,10,33,33,34,19,26,17,11,15,16,32,11,21,14,22,43,18,18,10,25,19,18,23,25,41,17,8,26,53,30,31,23,19,17,41,17,10,26,33,10,11,29,35,15,10,20,13,20,18,21,10,15,14,4,15,23,9,32,17,9,18,10,12,25,21,40,31,16,33,24,10,17,16,37,19,19,11,13,19,15,10,18,6,7,13,26,13,27,22,9,20,25,24,26,22,25,40,13,13,18,30,21,19,19,15,11,37,15,7,20,21,17,10,9,37,17,30,10,27,29,15,13,11,10,16,14,27,29,8,13,31,16,10,12,33,33,8,36,24,17,15,26,13,21,36,26,14,22,41,9,43,12,19,15,2,19,19,10,22,10,8,20,8,22,43,8,16,24,18,18,22,31,15,37,19,27,23,18,23,31,35,29,17,15,6,6,30,14,18,17,14,22,31,14,28,38,10,19,30,48,17,20,16,14,30,16,30,21,16,29,20,26,26,39,17,21,30,32,26,19,14,22,19,19,14,19,10,15,13,12,40,11,11,22,36,26,30,34,11,19,18,29,16,22,22,48,20,46,49,20,14,25,9,18,26,11,18,35,30,30,39,32,26,9,9,23,14,8,6,24,20,15,27,23,11,10,15,28,9,19,10,11,31,23,24,19,21,30,12,22,9,30,18,41,10,19,13,20,22,18,10,46,33,10,29,34,14,21,15,10,33,43,37,25,29,16,24,45,24,38,22,13,29,48,19,27,16,17,8,11,31,28,23,18,21,8,9,11,24,15,4,25,12,15,14,21,31,15,16,20,23,17,19,13,39,25,12,25,7,9,16,6,13,22,23,10,10,32,13,15,22,27,28,12,23,22,16,31,19,14,40,11,9,21,23,23,16,23,36,8,11,6,13,9,46,10,20,38,37,38,16,12,26,17,25,40,18,13,28,10,22,8,11,8,31,23,36,22,23,26,13,15,15,11,22,29,10,13,33,24,31,42,10,24,80,16,29,16,12,28,36,4,18,28,35,9,13,20,20,16,20,22,30,23,11,16,8,16,16,27,15,31,23,22,16,35,14,28,31,30,34,8,17,52,34,12,34,26,18,37,18,10,17,15,16,24,20,15,35,12,28,18,11,51,29,20,18,11,41,13,25,22,25,28,12,17,16,51,21,29,19,14,30,16,11,5,11,22,5,14,22,22,13,12,25,34,14,13,32,19,16,30,35,17,14,24,20,23,20,34,9,15,3,19,37,15,14,34,15,21,15,9,12,5,24,10,10,13,7,13,8,14,19,21,18,15,21,33,17,19,19,5,24,20,22,13,20,27,9,12,20,9,16,27,7,9,22,19,4,26,15,24,35,17,31,16,37,28,16,13,13,7,12,15,19,15,14,36,19,16,19,10,16,13,27,23,37,10,37,30,11,23,4,35,13,38,24,21,26,35,19,24,23,10,40,7,29,10,29,4,7,28,14,14,21,25,6,10,10,12,19,18,22,9,22,30,19,14,28,20,17,26,41,11,21,26,17,44,38,20,21,11,30,10,21,22,13,10,20,32,18,10,22,32,17,37,36,15,10,20,20,23,19,14,19,15,11,17,10,6,30,22,43,24,16,17,8,24,19,17,23,19,26,21,7,7,23,10,22,10,35,11,13,18,36,11,19,18,44,20,17,22,13,12,11,22,30,11,18,23,25,23,14,18,31,23,26,16,26,13,35,13,13,13,10,12,23,8,16,10,29,11,21,18,21,14,45,14,22,24,12,11,10,6,31,39,42,21,16,32,12,22,29,20,15,25,14,24,26,29,22,28,23,11,24,14,23,9,10,12,22,6,20,28,23,19,10,36,21,25,15,29,11,31,9,9,31,9,12,11,43,22,17,20,15,45,20,9,12,19,7,27,21,13,11,8,21,13,33,7,3,15,11,28,21,7,26,2,25,31,25,13,4,38,27,5,16,11,14,13,11,30,24,15,19,10,20,31,6,29,8,40,17,11,20,15,28,11,9,24,19,20,19,20,20,23,39,24,34,18,15,29,35,15,12,13,44,18,17,17,9,12,8,25,16,19,13,13,13,5,20,10,9,15,23,32,10,19,19,32,11,32,17,8,33,15,20,33,22,11,2,39,13,28,32,24,25,19,20,8,29,43,25,9,23,20,17,30,21,9,15,18,12,30,25,30,10,8,16,27,24,27,18,31,11,10,43,21,38,18,17,25,16,10,12,29,26,20,14,13,24,18,23,8,16,21,22,28,12,30,20,18,22,21,38,15,24,20,12,30,5,19,18,23,22,19,27,17,2,5,33,14,12,15,30,12,47,25,16,8,20,15,27,22,25,9,29,8,27,10,17,11,14,19,43,20,14,11,9,21,9,39,22,24,6,23,25,25,19,33,13,14,15,15,10,29,27,28,14,17,11,11,13,28,41,17,10,10,23,26,40,20,25,12,20,10,19,42,18,29,51,21,14,24,20,9,11,32,23,13,43,29,30,27,14,21,26,17,43,21,21,33,26,12,14,32,25,7,14,9,22,7,11,7,5,25,10,41,21,10,10,8,12,35,10,19,16,19,18,21,29,38,28,26,18,11,19,13,17,10,10,19,30,16,10,9,10,16,27,26,18,22,26,9,21,23,19,22,27,24,49,10,36,35,21,14,24,24,19,23,7,23,32,12,36,10,21,9,30,23,13,25,20,25,15,30,18,13,13,16,12,21,20,14,22,26,6,11,19,9,25,23,47,25,13,25,9,14,22,15,3,15,38,11,25,11,7,25,16,40,8,14,14,18,16,10,12,27,42,39,27,33,18,19,19,10,30,16,15,19,19,12,9,39,26,8,13,26,29,9,9,24,12,13,14,10,16,22,15,18,15,9,25,30,25,15,15,27,14,19,40,19,26,32,48,19,18,20,13,12,8,22,8,11,35,10,49,28,8,18,26,16,21,42,24,7,10,43,21,14,20,18,28,9,37,31,21,16,15,12,16,22,20,10,13,12,24,11,16,5,39,20,10,7,10,18,18,9,22,14,24,18,22,39,28,9,29,25,19,20,15,26,13,20,12,19,10,19,33,24,12,23,7,28,6,18,36,10,19,9,11,9,12,26,7,3,5,12,15,19,22,14,5,12,7,28,8,19,35,14,33,11,23,10,25,22,22,51,9,17,5,35,31,10,23,15,20,20,20,17,31,44,43,20,43,42,40,43,19,8,17,15,10,15,22,14,44,11,18,25,9,16,13,23,26,18,10,20,16,23,19,19,11,16,27,31,8,11,19,22,6,11,18,30,19,19,23,23,8,35,49,7,15,35,27,9,4,23,41,15,19,12,31,16,25,10,14,5,12,23,22,10,18,33,15,14,24,17,21,13,19,31,9,19,14,28,6,4,21,18,28,27,27,17,14,17,19,10,40,20,11,27,11,28,6,11,25,15,13,2,12,13,10,20,44,17,29,22,18,8,26,25,10,18,7,36,27,23,8,40,11,20,36,27,10,27,28,16,15,23,39,26,21,18,23,12,14,11,31,11,22,20,22,29,26,41,22,23,21,28,41,7,8,11,16,7,14,23,14,12,17,21,25,30,46,23,11,11,22,28,10,21,13,14,9,11,7,11,24,7,23,13,14,13,29,21,14,15,10,15,23,39,28,24,32,51,23,11,16,34,18,47,35,11,17,23,41,23,21,14,9,11,10,35,12,20,43,24,6,23,9,12,43,34,19,27,22,38,33,12,32,25,14,21,30,30,14,14,17,16,13,25,23,22,19,4,12,16,19,14,25,22,20,21,26,15,20,19,26,13,35,29,30,28,25,10,27,11,8,9,17,18,16,20,22,18,14,10,19,37,9,36,17,11,3,15,30,5,8,33,20,10,14,18,21,17,23,17,18,17,10,8,15,12,13,15,10,18,32,22,17,7,21,18,10,29,11,5,9,21,4,25,15,14,8,11,22,12,33,21,9,24,16,10,39,21,30,11,15,31,22,22,8,16,36,18,25,5,33,42,15,30,28,8,24,17,8,41,23,10,14,10,18,15,25,17,8,20,9,38,15,16,39,21,18,13,21,42,12,17,26,34,17,24,10,37,23,24,25,13,15,29,43,31,11,18,10,31,44,6,12,11,20,35,31,17,8,6,17,28,9,22,28,26,13,34,14,9,15,19,13,16,11,11,18,18,24,18,14,12,16,19,27,17,13,9,12,9,30,16,21,10,25,13,13,12,31,17,7,3,9,13,8,12,24,21,16,20,16,21,19,16,19,25,8,19,13,21,28,15,27,9,29,14,22,23,16,16,22,46,12,19,4,20,20,24,14,9,7,39,12,9,11,25,14,38,27,26,17,14,19,11,12,22,33,18,8,16,13,12,31,12,36,27,9,7,33,19,24,43,13,43,15,22,11,23,10,7,10,15,20,25,10,46,9,29,19,33,20,17,9,15,23,17,31,38,16,9,29,16,11,17,15,38,12,28,18,13,41,13,10,13,34,29,13,7,41,17,31,6,36,4,7,37,37,22,16,42,17,27,17,9,16,19,7,11,29,20,29,8,20,34,25,37,25,12,23,15,41,17,18,18,24,7,15,15,13,12,29,40,8,19,19,29,13,26,9,32,23,12,25,14],\"xaxis\":\"x\",\"yaxis\":\"y\",\"type\":\"histogram\"}],                        {\"template\":{\"data\":{\"histogram2dcontour\":[{\"type\":\"histogram2dcontour\",\"colorbar\":{\"outlinewidth\":0,\"ticks\":\"\"},\"colorscale\":[[0.0,\"#0d0887\"],[0.1111111111111111,\"#46039f\"],[0.2222222222222222,\"#7201a8\"],[0.3333333333333333,\"#9c179e\"],[0.4444444444444444,\"#bd3786\"],[0.5555555555555556,\"#d8576b\"],[0.6666666666666666,\"#ed7953\"],[0.7777777777777778,\"#fb9f3a\"],[0.8888888888888888,\"#fdca26\"],[1.0,\"#f0f921\"]]}],\"choropleth\":[{\"type\":\"choropleth\",\"colorbar\":{\"outlinewidth\":0,\"ticks\":\"\"}}],\"histogram2d\":[{\"type\":\"histogram2d\",\"colorbar\":{\"outlinewidth\":0,\"ticks\":\"\"},\"colorscale\":[[0.0,\"#0d0887\"],[0.1111111111111111,\"#46039f\"],[0.2222222222222222,\"#7201a8\"],[0.3333333333333333,\"#9c179e\"],[0.4444444444444444,\"#bd3786\"],[0.5555555555555556,\"#d8576b\"],[0.6666666666666666,\"#ed7953\"],[0.7777777777777778,\"#fb9f3a\"],[0.8888888888888888,\"#fdca26\"],[1.0,\"#f0f921\"]]}],\"heatmap\":[{\"type\":\"heatmap\",\"colorbar\":{\"outlinewidth\":0,\"ticks\":\"\"},\"colorscale\":[[0.0,\"#0d0887\"],[0.1111111111111111,\"#46039f\"],[0.2222222222222222,\"#7201a8\"],[0.3333333333333333,\"#9c179e\"],[0.4444444444444444,\"#bd3786\"],[0.5555555555555556,\"#d8576b\"],[0.6666666666666666,\"#ed7953\"],[0.7777777777777778,\"#fb9f3a\"],[0.8888888888888888,\"#fdca26\"],[1.0,\"#f0f921\"]]}],\"heatmapgl\":[{\"type\":\"heatmapgl\",\"colorbar\":{\"outlinewidth\":0,\"ticks\":\"\"},\"colorscale\":[[0.0,\"#0d0887\"],[0.1111111111111111,\"#46039f\"],[0.2222222222222222,\"#7201a8\"],[0.3333333333333333,\"#9c179e\"],[0.4444444444444444,\"#bd3786\"],[0.5555555555555556,\"#d8576b\"],[0.6666666666666666,\"#ed7953\"],[0.7777777777777778,\"#fb9f3a\"],[0.8888888888888888,\"#fdca26\"],[1.0,\"#f0f921\"]]}],\"contourcarpet\":[{\"type\":\"contourcarpet\",\"colorbar\":{\"outlinewidth\":0,\"ticks\":\"\"}}],\"contour\":[{\"type\":\"contour\",\"colorbar\":{\"outlinewidth\":0,\"ticks\":\"\"},\"colorscale\":[[0.0,\"#0d0887\"],[0.1111111111111111,\"#46039f\"],[0.2222222222222222,\"#7201a8\"],[0.3333333333333333,\"#9c179e\"],[0.4444444444444444,\"#bd3786\"],[0.5555555555555556,\"#d8576b\"],[0.6666666666666666,\"#ed7953\"],[0.7777777777777778,\"#fb9f3a\"],[0.8888888888888888,\"#fdca26\"],[1.0,\"#f0f921\"]]}],\"surface\":[{\"type\":\"surface\",\"colorbar\":{\"outlinewidth\":0,\"ticks\":\"\"},\"colorscale\":[[0.0,\"#0d0887\"],[0.1111111111111111,\"#46039f\"],[0.2222222222222222,\"#7201a8\"],[0.3333333333333333,\"#9c179e\"],[0.4444444444444444,\"#bd3786\"],[0.5555555555555556,\"#d8576b\"],[0.6666666666666666,\"#ed7953\"],[0.7777777777777778,\"#fb9f3a\"],[0.8888888888888888,\"#fdca26\"],[1.0,\"#f0f921\"]]}],\"mesh3d\":[{\"type\":\"mesh3d\",\"colorbar\":{\"outlinewidth\":0,\"ticks\":\"\"}}],\"scatter\":[{\"fillpattern\":{\"fillmode\":\"overlay\",\"size\":10,\"solidity\":0.2},\"type\":\"scatter\"}],\"parcoords\":[{\"type\":\"parcoords\",\"line\":{\"colorbar\":{\"outlinewidth\":0,\"ticks\":\"\"}}}],\"scatterpolargl\":[{\"type\":\"scatterpolargl\",\"marker\":{\"colorbar\":{\"outlinewidth\":0,\"ticks\":\"\"}}}],\"bar\":[{\"error_x\":{\"color\":\"#2a3f5f\"},\"error_y\":{\"color\":\"#2a3f5f\"},\"marker\":{\"line\":{\"color\":\"#E5ECF6\",\"width\":0.5},\"pattern\":{\"fillmode\":\"overlay\",\"size\":10,\"solidity\":0.2}},\"type\":\"bar\"}],\"scattergeo\":[{\"type\":\"scattergeo\",\"marker\":{\"colorbar\":{\"outlinewidth\":0,\"ticks\":\"\"}}}],\"scatterpolar\":[{\"type\":\"scatterpolar\",\"marker\":{\"colorbar\":{\"outlinewidth\":0,\"ticks\":\"\"}}}],\"histogram\":[{\"marker\":{\"pattern\":{\"fillmode\":\"overlay\",\"size\":10,\"solidity\":0.2}},\"type\":\"histogram\"}],\"scattergl\":[{\"type\":\"scattergl\",\"marker\":{\"colorbar\":{\"outlinewidth\":0,\"ticks\":\"\"}}}],\"scatter3d\":[{\"type\":\"scatter3d\",\"line\":{\"colorbar\":{\"outlinewidth\":0,\"ticks\":\"\"}},\"marker\":{\"colorbar\":{\"outlinewidth\":0,\"ticks\":\"\"}}}],\"scattermapbox\":[{\"type\":\"scattermapbox\",\"marker\":{\"colorbar\":{\"outlinewidth\":0,\"ticks\":\"\"}}}],\"scatterternary\":[{\"type\":\"scatterternary\",\"marker\":{\"colorbar\":{\"outlinewidth\":0,\"ticks\":\"\"}}}],\"scattercarpet\":[{\"type\":\"scattercarpet\",\"marker\":{\"colorbar\":{\"outlinewidth\":0,\"ticks\":\"\"}}}],\"carpet\":[{\"aaxis\":{\"endlinecolor\":\"#2a3f5f\",\"gridcolor\":\"white\",\"linecolor\":\"white\",\"minorgridcolor\":\"white\",\"startlinecolor\":\"#2a3f5f\"},\"baxis\":{\"endlinecolor\":\"#2a3f5f\",\"gridcolor\":\"white\",\"linecolor\":\"white\",\"minorgridcolor\":\"white\",\"startlinecolor\":\"#2a3f5f\"},\"type\":\"carpet\"}],\"table\":[{\"cells\":{\"fill\":{\"color\":\"#EBF0F8\"},\"line\":{\"color\":\"white\"}},\"header\":{\"fill\":{\"color\":\"#C8D4E3\"},\"line\":{\"color\":\"white\"}},\"type\":\"table\"}],\"barpolar\":[{\"marker\":{\"line\":{\"color\":\"#E5ECF6\",\"width\":0.5},\"pattern\":{\"fillmode\":\"overlay\",\"size\":10,\"solidity\":0.2}},\"type\":\"barpolar\"}],\"pie\":[{\"automargin\":true,\"type\":\"pie\"}]},\"layout\":{\"autotypenumbers\":\"strict\",\"colorway\":[\"#636efa\",\"#EF553B\",\"#00cc96\",\"#ab63fa\",\"#FFA15A\",\"#19d3f3\",\"#FF6692\",\"#B6E880\",\"#FF97FF\",\"#FECB52\"],\"font\":{\"color\":\"#2a3f5f\"},\"hovermode\":\"closest\",\"hoverlabel\":{\"align\":\"left\"},\"paper_bgcolor\":\"white\",\"plot_bgcolor\":\"#E5ECF6\",\"polar\":{\"bgcolor\":\"#E5ECF6\",\"angularaxis\":{\"gridcolor\":\"white\",\"linecolor\":\"white\",\"ticks\":\"\"},\"radialaxis\":{\"gridcolor\":\"white\",\"linecolor\":\"white\",\"ticks\":\"\"}},\"ternary\":{\"bgcolor\":\"#E5ECF6\",\"aaxis\":{\"gridcolor\":\"white\",\"linecolor\":\"white\",\"ticks\":\"\"},\"baxis\":{\"gridcolor\":\"white\",\"linecolor\":\"white\",\"ticks\":\"\"},\"caxis\":{\"gridcolor\":\"white\",\"linecolor\":\"white\",\"ticks\":\"\"}},\"coloraxis\":{\"colorbar\":{\"outlinewidth\":0,\"ticks\":\"\"}},\"colorscale\":{\"sequential\":[[0.0,\"#0d0887\"],[0.1111111111111111,\"#46039f\"],[0.2222222222222222,\"#7201a8\"],[0.3333333333333333,\"#9c179e\"],[0.4444444444444444,\"#bd3786\"],[0.5555555555555556,\"#d8576b\"],[0.6666666666666666,\"#ed7953\"],[0.7777777777777778,\"#fb9f3a\"],[0.8888888888888888,\"#fdca26\"],[1.0,\"#f0f921\"]],\"sequentialminus\":[[0.0,\"#0d0887\"],[0.1111111111111111,\"#46039f\"],[0.2222222222222222,\"#7201a8\"],[0.3333333333333333,\"#9c179e\"],[0.4444444444444444,\"#bd3786\"],[0.5555555555555556,\"#d8576b\"],[0.6666666666666666,\"#ed7953\"],[0.7777777777777778,\"#fb9f3a\"],[0.8888888888888888,\"#fdca26\"],[1.0,\"#f0f921\"]],\"diverging\":[[0,\"#8e0152\"],[0.1,\"#c51b7d\"],[0.2,\"#de77ae\"],[0.3,\"#f1b6da\"],[0.4,\"#fde0ef\"],[0.5,\"#f7f7f7\"],[0.6,\"#e6f5d0\"],[0.7,\"#b8e186\"],[0.8,\"#7fbc41\"],[0.9,\"#4d9221\"],[1,\"#276419\"]]},\"xaxis\":{\"gridcolor\":\"white\",\"linecolor\":\"white\",\"ticks\":\"\",\"title\":{\"standoff\":15},\"zerolinecolor\":\"white\",\"automargin\":true,\"zerolinewidth\":2},\"yaxis\":{\"gridcolor\":\"white\",\"linecolor\":\"white\",\"ticks\":\"\",\"title\":{\"standoff\":15},\"zerolinecolor\":\"white\",\"automargin\":true,\"zerolinewidth\":2},\"scene\":{\"xaxis\":{\"backgroundcolor\":\"#E5ECF6\",\"gridcolor\":\"white\",\"linecolor\":\"white\",\"showbackground\":true,\"ticks\":\"\",\"zerolinecolor\":\"white\",\"gridwidth\":2},\"yaxis\":{\"backgroundcolor\":\"#E5ECF6\",\"gridcolor\":\"white\",\"linecolor\":\"white\",\"showbackground\":true,\"ticks\":\"\",\"zerolinecolor\":\"white\",\"gridwidth\":2},\"zaxis\":{\"backgroundcolor\":\"#E5ECF6\",\"gridcolor\":\"white\",\"linecolor\":\"white\",\"showbackground\":true,\"ticks\":\"\",\"zerolinecolor\":\"white\",\"gridwidth\":2}},\"shapedefaults\":{\"line\":{\"color\":\"#2a3f5f\"}},\"annotationdefaults\":{\"arrowcolor\":\"#2a3f5f\",\"arrowhead\":0,\"arrowwidth\":1},\"geo\":{\"bgcolor\":\"white\",\"landcolor\":\"#E5ECF6\",\"subunitcolor\":\"white\",\"showland\":true,\"showlakes\":true,\"lakecolor\":\"white\"},\"title\":{\"x\":0.05},\"mapbox\":{\"style\":\"light\"}}},\"xaxis\":{\"anchor\":\"y\",\"domain\":[0.0,1.0],\"title\":{\"text\":\"sent_token_length\"}},\"yaxis\":{\"anchor\":\"x\",\"domain\":[0.0,1.0],\"title\":{\"text\":\"percent\"}},\"legend\":{\"tracegroupgap\":0},\"margin\":{\"t\":60},\"barmode\":\"group\"},                        {\"responsive\": true}                    ).then(function(){\n",
              "                            \n",
              "var gd = document.getElementById('78d2d764-9ffc-4faa-882d-d7a502ae13f0');\n",
              "var x = new MutationObserver(function (mutations, observer) {{\n",
              "        var display = window.getComputedStyle(gd).display;\n",
              "        if (!display || display === 'none') {{\n",
              "            console.log([gd, 'removed!']);\n",
              "            Plotly.purge(gd);\n",
              "            observer.disconnect();\n",
              "        }}\n",
              "}});\n",
              "\n",
              "// Listen for the removal of the full notebook cells\n",
              "var notebookContainer = gd.closest('#notebook-container');\n",
              "if (notebookContainer) {{\n",
              "    x.observe(notebookContainer, {childList: true});\n",
              "}}\n",
              "\n",
              "// Listen for the clearing of the current output cell\n",
              "var outputEl = gd.closest('.output');\n",
              "if (outputEl) {{\n",
              "    x.observe(outputEl, {childList: true});\n",
              "}}\n",
              "\n",
              "                        })                };                            </script>        </div>\n",
              "</body>\n",
              "</html>"
            ]
          },
          "metadata": {},
          "output_type": "display_data"
        }
      ],
      "source": [
        "fig = px.histogram(df, x=\"sent_token_length\", nbins=20, color_discrete_sequence=px.colors.cmocean.algae, barmode='group', histnorm=\"percent\")\n",
        "fig.show()"
      ]
    },
    {
      "cell_type": "code",
      "execution_count": null,
      "metadata": {
        "colab": {
          "base_uri": "https://localhost:8080/"
        },
        "id": "YRJGRb5sEe8q",
        "outputId": "671c11fd-3d25-418e-f742-d282fccb8b37"
      },
      "outputs": [
        {
          "data": {
            "text/plain": [
              "1.0"
            ]
          },
          "execution_count": 24,
          "metadata": {},
          "output_type": "execute_result"
        }
      ],
      "source": [
        "# Less than 512 covers how many of the data\n",
        "(df.sent_bert_token_length < 512).mean()"
      ]
    },
    {
      "cell_type": "markdown",
      "metadata": {
        "id": "srFai5p5Ets-"
      },
      "source": [
        "### Characters Count in the Data\n",
        "Let's look at the frequency of the number of characters. It will give us information about the overall size of our data"
      ]
    },
    {
      "cell_type": "code",
      "execution_count": null,
      "metadata": {
        "id": "I_AFqABFEoJK"
      },
      "outputs": [],
      "source": [
        "# plot_dist3(df, 'char_count', 'Characters Count in Data')"
      ]
    },
    {
      "cell_type": "markdown",
      "metadata": {
        "id": "qBzvPOalHuy5"
      },
      "source": [
        "### Reviews Lengths\n",
        "When we look at the number of characters per comment, it can give us very striking information about the data. Here, when we look at the length of the comments made by people according to their feelings, negative comments are shorter than neutral and positive comments. We can come to the notion that people simply express negative things :)"
      ]
    },
    {
      "cell_type": "code",
      "execution_count": null,
      "metadata": {
        "id": "cyrVUs8IFQ5H"
      },
      "outputs": [],
      "source": [
        "# plot_dist3(df[df['label'] == 0], 'Character Count', 'Characters Count \"Negative\" Review')"
      ]
    },
    {
      "cell_type": "code",
      "execution_count": null,
      "metadata": {
        "id": "vtn044q2H3hT"
      },
      "outputs": [],
      "source": [
        "# plot_dist3(df[df['label'] == 2], 'Character Count', 'Characters Per \"Positive\" Review')"
      ]
    },
    {
      "cell_type": "code",
      "execution_count": null,
      "metadata": {
        "id": "I6MQM3XCH7kH"
      },
      "outputs": [],
      "source": [
        "# plot_dist3(df[df['label'] == 1], 'Character Count', 'Characters Per \"Neutral\" Rewiev')"
      ]
    },
    {
      "cell_type": "markdown",
      "metadata": {
        "id": "79dZeC2CIJvW"
      },
      "source": [
        "### Word Counts \\\n",
        "We see that the situation in the number of characters and the situation in the number of words are the same. We have seen that people use less word count when expressing negative things."
      ]
    },
    {
      "cell_type": "code",
      "execution_count": null,
      "metadata": {
        "id": "LxcImBaWIF8N"
      },
      "outputs": [],
      "source": [
        "# plot_word_number_histogram(df[df['label'] == 0]['Sentence'],\n",
        "#                            df[df['label'] == 1]['Sentence'],\n",
        "#                            df[df['label'] == 2]['Sentence'],\n",
        "#                           )"
      ]
    },
    {
      "cell_type": "code",
      "execution_count": null,
      "metadata": {
        "id": "3tUt40-dIVEl"
      },
      "outputs": [],
      "source": [
        "# remove punk\n",
        "df['tokenized_review'] = df['tokenized_review'].apply(lambda x: remove_punct(x))"
      ]
    },
    {
      "cell_type": "code",
      "execution_count": null,
      "metadata": {
        "colab": {
          "base_uri": "https://localhost:8080/",
          "height": 542
        },
        "id": "bfqciKBMIX_j",
        "outputId": "9b55d94b-34cb-4bc6-e72d-62ec6815fc62"
      },
      "outputs": [
        {
          "data": {
            "text/html": [
              "<html>\n",
              "<head><meta charset=\"utf-8\" /></head>\n",
              "<body>\n",
              "    <div>            <script src=\"https://cdnjs.cloudflare.com/ajax/libs/mathjax/2.7.5/MathJax.js?config=TeX-AMS-MML_SVG\"></script><script type=\"text/javascript\">if (window.MathJax && window.MathJax.Hub && window.MathJax.Hub.Config) {window.MathJax.Hub.Config({SVG: {font: \"STIX-Web\"}});}</script>                <script type=\"text/javascript\">window.PlotlyConfig = {MathJaxConfig: 'local'};</script>\n",
              "        <script src=\"https://cdn.plot.ly/plotly-2.18.2.min.js\"></script>                <div id=\"f55d8320-3620-4751-9f36-741397afb779\" class=\"plotly-graph-div\" style=\"height:525px; width:100%;\"></div>            <script type=\"text/javascript\">                                    window.PLOTLYENV=window.PLOTLYENV || {};                                    if (document.getElementById(\"f55d8320-3620-4751-9f36-741397afb779\")) {                    Plotly.newPlot(                        \"f55d8320-3620-4751-9f36-741397afb779\",                        [{\"marker\":{\"color\":\"rgba(50, 171, 96, 0.6)\",\"line\":{\"color\":\"rgba(50, 171, 96, 1.0)\",\"width\":1}},\"name\":\"Most common Word\",\"orientation\":\"h\",\"x\":[1591,797,761,743,526,511,507,497,475,470],\"y\":[\"eur\",\"1\",\"company\",\"mn\",\"profit\",\"2\",\"sales\",\"finnish\",\"said\",\"3\"],\"type\":\"bar\"}],                        {\"template\":{\"data\":{\"histogram2dcontour\":[{\"type\":\"histogram2dcontour\",\"colorbar\":{\"outlinewidth\":0,\"ticks\":\"\"},\"colorscale\":[[0.0,\"#0d0887\"],[0.1111111111111111,\"#46039f\"],[0.2222222222222222,\"#7201a8\"],[0.3333333333333333,\"#9c179e\"],[0.4444444444444444,\"#bd3786\"],[0.5555555555555556,\"#d8576b\"],[0.6666666666666666,\"#ed7953\"],[0.7777777777777778,\"#fb9f3a\"],[0.8888888888888888,\"#fdca26\"],[1.0,\"#f0f921\"]]}],\"choropleth\":[{\"type\":\"choropleth\",\"colorbar\":{\"outlinewidth\":0,\"ticks\":\"\"}}],\"histogram2d\":[{\"type\":\"histogram2d\",\"colorbar\":{\"outlinewidth\":0,\"ticks\":\"\"},\"colorscale\":[[0.0,\"#0d0887\"],[0.1111111111111111,\"#46039f\"],[0.2222222222222222,\"#7201a8\"],[0.3333333333333333,\"#9c179e\"],[0.4444444444444444,\"#bd3786\"],[0.5555555555555556,\"#d8576b\"],[0.6666666666666666,\"#ed7953\"],[0.7777777777777778,\"#fb9f3a\"],[0.8888888888888888,\"#fdca26\"],[1.0,\"#f0f921\"]]}],\"heatmap\":[{\"type\":\"heatmap\",\"colorbar\":{\"outlinewidth\":0,\"ticks\":\"\"},\"colorscale\":[[0.0,\"#0d0887\"],[0.1111111111111111,\"#46039f\"],[0.2222222222222222,\"#7201a8\"],[0.3333333333333333,\"#9c179e\"],[0.4444444444444444,\"#bd3786\"],[0.5555555555555556,\"#d8576b\"],[0.6666666666666666,\"#ed7953\"],[0.7777777777777778,\"#fb9f3a\"],[0.8888888888888888,\"#fdca26\"],[1.0,\"#f0f921\"]]}],\"heatmapgl\":[{\"type\":\"heatmapgl\",\"colorbar\":{\"outlinewidth\":0,\"ticks\":\"\"},\"colorscale\":[[0.0,\"#0d0887\"],[0.1111111111111111,\"#46039f\"],[0.2222222222222222,\"#7201a8\"],[0.3333333333333333,\"#9c179e\"],[0.4444444444444444,\"#bd3786\"],[0.5555555555555556,\"#d8576b\"],[0.6666666666666666,\"#ed7953\"],[0.7777777777777778,\"#fb9f3a\"],[0.8888888888888888,\"#fdca26\"],[1.0,\"#f0f921\"]]}],\"contourcarpet\":[{\"type\":\"contourcarpet\",\"colorbar\":{\"outlinewidth\":0,\"ticks\":\"\"}}],\"contour\":[{\"type\":\"contour\",\"colorbar\":{\"outlinewidth\":0,\"ticks\":\"\"},\"colorscale\":[[0.0,\"#0d0887\"],[0.1111111111111111,\"#46039f\"],[0.2222222222222222,\"#7201a8\"],[0.3333333333333333,\"#9c179e\"],[0.4444444444444444,\"#bd3786\"],[0.5555555555555556,\"#d8576b\"],[0.6666666666666666,\"#ed7953\"],[0.7777777777777778,\"#fb9f3a\"],[0.8888888888888888,\"#fdca26\"],[1.0,\"#f0f921\"]]}],\"surface\":[{\"type\":\"surface\",\"colorbar\":{\"outlinewidth\":0,\"ticks\":\"\"},\"colorscale\":[[0.0,\"#0d0887\"],[0.1111111111111111,\"#46039f\"],[0.2222222222222222,\"#7201a8\"],[0.3333333333333333,\"#9c179e\"],[0.4444444444444444,\"#bd3786\"],[0.5555555555555556,\"#d8576b\"],[0.6666666666666666,\"#ed7953\"],[0.7777777777777778,\"#fb9f3a\"],[0.8888888888888888,\"#fdca26\"],[1.0,\"#f0f921\"]]}],\"mesh3d\":[{\"type\":\"mesh3d\",\"colorbar\":{\"outlinewidth\":0,\"ticks\":\"\"}}],\"scatter\":[{\"fillpattern\":{\"fillmode\":\"overlay\",\"size\":10,\"solidity\":0.2},\"type\":\"scatter\"}],\"parcoords\":[{\"type\":\"parcoords\",\"line\":{\"colorbar\":{\"outlinewidth\":0,\"ticks\":\"\"}}}],\"scatterpolargl\":[{\"type\":\"scatterpolargl\",\"marker\":{\"colorbar\":{\"outlinewidth\":0,\"ticks\":\"\"}}}],\"bar\":[{\"error_x\":{\"color\":\"#2a3f5f\"},\"error_y\":{\"color\":\"#2a3f5f\"},\"marker\":{\"line\":{\"color\":\"#E5ECF6\",\"width\":0.5},\"pattern\":{\"fillmode\":\"overlay\",\"size\":10,\"solidity\":0.2}},\"type\":\"bar\"}],\"scattergeo\":[{\"type\":\"scattergeo\",\"marker\":{\"colorbar\":{\"outlinewidth\":0,\"ticks\":\"\"}}}],\"scatterpolar\":[{\"type\":\"scatterpolar\",\"marker\":{\"colorbar\":{\"outlinewidth\":0,\"ticks\":\"\"}}}],\"histogram\":[{\"marker\":{\"pattern\":{\"fillmode\":\"overlay\",\"size\":10,\"solidity\":0.2}},\"type\":\"histogram\"}],\"scattergl\":[{\"type\":\"scattergl\",\"marker\":{\"colorbar\":{\"outlinewidth\":0,\"ticks\":\"\"}}}],\"scatter3d\":[{\"type\":\"scatter3d\",\"line\":{\"colorbar\":{\"outlinewidth\":0,\"ticks\":\"\"}},\"marker\":{\"colorbar\":{\"outlinewidth\":0,\"ticks\":\"\"}}}],\"scattermapbox\":[{\"type\":\"scattermapbox\",\"marker\":{\"colorbar\":{\"outlinewidth\":0,\"ticks\":\"\"}}}],\"scatterternary\":[{\"type\":\"scatterternary\",\"marker\":{\"colorbar\":{\"outlinewidth\":0,\"ticks\":\"\"}}}],\"scattercarpet\":[{\"type\":\"scattercarpet\",\"marker\":{\"colorbar\":{\"outlinewidth\":0,\"ticks\":\"\"}}}],\"carpet\":[{\"aaxis\":{\"endlinecolor\":\"#2a3f5f\",\"gridcolor\":\"white\",\"linecolor\":\"white\",\"minorgridcolor\":\"white\",\"startlinecolor\":\"#2a3f5f\"},\"baxis\":{\"endlinecolor\":\"#2a3f5f\",\"gridcolor\":\"white\",\"linecolor\":\"white\",\"minorgridcolor\":\"white\",\"startlinecolor\":\"#2a3f5f\"},\"type\":\"carpet\"}],\"table\":[{\"cells\":{\"fill\":{\"color\":\"#EBF0F8\"},\"line\":{\"color\":\"white\"}},\"header\":{\"fill\":{\"color\":\"#C8D4E3\"},\"line\":{\"color\":\"white\"}},\"type\":\"table\"}],\"barpolar\":[{\"marker\":{\"line\":{\"color\":\"#E5ECF6\",\"width\":0.5},\"pattern\":{\"fillmode\":\"overlay\",\"size\":10,\"solidity\":0.2}},\"type\":\"barpolar\"}],\"pie\":[{\"automargin\":true,\"type\":\"pie\"}]},\"layout\":{\"autotypenumbers\":\"strict\",\"colorway\":[\"#636efa\",\"#EF553B\",\"#00cc96\",\"#ab63fa\",\"#FFA15A\",\"#19d3f3\",\"#FF6692\",\"#B6E880\",\"#FF97FF\",\"#FECB52\"],\"font\":{\"color\":\"#2a3f5f\"},\"hovermode\":\"closest\",\"hoverlabel\":{\"align\":\"left\"},\"paper_bgcolor\":\"white\",\"plot_bgcolor\":\"#E5ECF6\",\"polar\":{\"bgcolor\":\"#E5ECF6\",\"angularaxis\":{\"gridcolor\":\"white\",\"linecolor\":\"white\",\"ticks\":\"\"},\"radialaxis\":{\"gridcolor\":\"white\",\"linecolor\":\"white\",\"ticks\":\"\"}},\"ternary\":{\"bgcolor\":\"#E5ECF6\",\"aaxis\":{\"gridcolor\":\"white\",\"linecolor\":\"white\",\"ticks\":\"\"},\"baxis\":{\"gridcolor\":\"white\",\"linecolor\":\"white\",\"ticks\":\"\"},\"caxis\":{\"gridcolor\":\"white\",\"linecolor\":\"white\",\"ticks\":\"\"}},\"coloraxis\":{\"colorbar\":{\"outlinewidth\":0,\"ticks\":\"\"}},\"colorscale\":{\"sequential\":[[0.0,\"#0d0887\"],[0.1111111111111111,\"#46039f\"],[0.2222222222222222,\"#7201a8\"],[0.3333333333333333,\"#9c179e\"],[0.4444444444444444,\"#bd3786\"],[0.5555555555555556,\"#d8576b\"],[0.6666666666666666,\"#ed7953\"],[0.7777777777777778,\"#fb9f3a\"],[0.8888888888888888,\"#fdca26\"],[1.0,\"#f0f921\"]],\"sequentialminus\":[[0.0,\"#0d0887\"],[0.1111111111111111,\"#46039f\"],[0.2222222222222222,\"#7201a8\"],[0.3333333333333333,\"#9c179e\"],[0.4444444444444444,\"#bd3786\"],[0.5555555555555556,\"#d8576b\"],[0.6666666666666666,\"#ed7953\"],[0.7777777777777778,\"#fb9f3a\"],[0.8888888888888888,\"#fdca26\"],[1.0,\"#f0f921\"]],\"diverging\":[[0,\"#8e0152\"],[0.1,\"#c51b7d\"],[0.2,\"#de77ae\"],[0.3,\"#f1b6da\"],[0.4,\"#fde0ef\"],[0.5,\"#f7f7f7\"],[0.6,\"#e6f5d0\"],[0.7,\"#b8e186\"],[0.8,\"#7fbc41\"],[0.9,\"#4d9221\"],[1,\"#276419\"]]},\"xaxis\":{\"gridcolor\":\"white\",\"linecolor\":\"white\",\"ticks\":\"\",\"title\":{\"standoff\":15},\"zerolinecolor\":\"white\",\"automargin\":true,\"zerolinewidth\":2},\"yaxis\":{\"gridcolor\":\"white\",\"linecolor\":\"white\",\"ticks\":\"\",\"title\":{\"standoff\":15},\"zerolinecolor\":\"white\",\"automargin\":true,\"zerolinewidth\":2},\"scene\":{\"xaxis\":{\"backgroundcolor\":\"#E5ECF6\",\"gridcolor\":\"white\",\"linecolor\":\"white\",\"showbackground\":true,\"ticks\":\"\",\"zerolinecolor\":\"white\",\"gridwidth\":2},\"yaxis\":{\"backgroundcolor\":\"#E5ECF6\",\"gridcolor\":\"white\",\"linecolor\":\"white\",\"showbackground\":true,\"ticks\":\"\",\"zerolinecolor\":\"white\",\"gridwidth\":2},\"zaxis\":{\"backgroundcolor\":\"#E5ECF6\",\"gridcolor\":\"white\",\"linecolor\":\"white\",\"showbackground\":true,\"ticks\":\"\",\"zerolinecolor\":\"white\",\"gridwidth\":2}},\"shapedefaults\":{\"line\":{\"color\":\"#2a3f5f\"}},\"annotationdefaults\":{\"arrowcolor\":\"#2a3f5f\",\"arrowhead\":0,\"arrowwidth\":1},\"geo\":{\"bgcolor\":\"white\",\"landcolor\":\"#E5ECF6\",\"subunitcolor\":\"white\",\"showland\":true,\"showlakes\":true,\"lakecolor\":\"white\"},\"title\":{\"x\":0.05},\"mapbox\":{\"style\":\"light\"}}},\"title\":{\"text\":\"Most Common Words\",\"y\":0.9,\"x\":0.5,\"xanchor\":\"center\",\"yanchor\":\"top\"},\"font\":{\"family\":\"Courier New, monospace\",\"size\":18,\"color\":\"RebeccaPurple\"}},                        {\"responsive\": true}                    ).then(function(){\n",
              "                            \n",
              "var gd = document.getElementById('f55d8320-3620-4751-9f36-741397afb779');\n",
              "var x = new MutationObserver(function (mutations, observer) {{\n",
              "        var display = window.getComputedStyle(gd).display;\n",
              "        if (!display || display === 'none') {{\n",
              "            console.log([gd, 'removed!']);\n",
              "            Plotly.purge(gd);\n",
              "            observer.disconnect();\n",
              "        }}\n",
              "}});\n",
              "\n",
              "// Listen for the removal of the full notebook cells\n",
              "var notebookContainer = gd.closest('#notebook-container');\n",
              "if (notebookContainer) {{\n",
              "    x.observe(notebookContainer, {childList: true});\n",
              "}}\n",
              "\n",
              "// Listen for the clearing of the current output cell\n",
              "var outputEl = gd.closest('.output');\n",
              "if (outputEl) {{\n",
              "    x.observe(outputEl, {childList: true});\n",
              "}}\n",
              "\n",
              "                        })                };                            </script>        </div>\n",
              "</body>\n",
              "</html>"
            ]
          },
          "metadata": {},
          "output_type": "display_data"
        }
      ],
      "source": [
        "texts = df['tokenized_review']\n",
        "new = texts.str.split()\n",
        "new = new.values.tolist()\n",
        "corpus = [word for i in new for word in i]\n",
        "counter = Counter(corpus)\n",
        "most = counter.most_common()\n",
        "x, y = [], []\n",
        "for word, count in most[:30]:\n",
        "    if word not in stopWords_nltk:\n",
        "        x.append(word)\n",
        "        y.append(count)\n",
        "\n",
        "fig = go.Figure(go.Bar(\n",
        "            x=y,\n",
        "            y=x,\n",
        "            orientation='h',  marker=dict(\n",
        "        color='rgba(50, 171, 96, 0.6)',\n",
        "        line=dict(\n",
        "            color='rgba(50, 171, 96, 1.0)',\n",
        "            width=1),\n",
        "    ),\n",
        "    name='Most common Word',))\n",
        "\n",
        "fig.update_layout( title={\n",
        "        'text': \"Most Common Words\",\n",
        "        'y':0.9,\n",
        "        'x':0.5,\n",
        "        'xanchor': 'center',\n",
        "        'yanchor': 'top'}, font=dict(\n",
        "        family=\"Courier New, monospace\",\n",
        "        size=18,\n",
        "        color=\"RebeccaPurple\"\n",
        "    ))\n",
        "\n",
        "fig.show()"
      ]
    },
    {
      "cell_type": "markdown",
      "metadata": {
        "id": "J5CZC8AbJkAr"
      },
      "source": [
        "Most Common ngrams"
      ]
    },
    {
      "cell_type": "code",
      "execution_count": null,
      "metadata": {
        "colab": {
          "base_uri": "https://localhost:8080/",
          "height": 637
        },
        "id": "7G2RXXF7JUMM",
        "outputId": "641fa816-e3ba-48c9-c14f-01065f27c676"
      },
      "outputs": [
        {
          "data": {
            "text/html": [
              "<html>\n",
              "<head><meta charset=\"utf-8\" /></head>\n",
              "<body>\n",
              "    <div>            <script src=\"https://cdnjs.cloudflare.com/ajax/libs/mathjax/2.7.5/MathJax.js?config=TeX-AMS-MML_SVG\"></script><script type=\"text/javascript\">if (window.MathJax && window.MathJax.Hub && window.MathJax.Hub.Config) {window.MathJax.Hub.Config({SVG: {font: \"STIX-Web\"}});}</script>                <script type=\"text/javascript\">window.PlotlyConfig = {MathJaxConfig: 'local'};</script>\n",
              "        <script src=\"https://cdn.plot.ly/plotly-2.18.2.min.js\"></script>                <div id=\"fb252286-ee6a-4ae3-9077-1b18863292bc\" class=\"plotly-graph-div\" style=\"height:600px; width:2000px;\"></div>            <script type=\"text/javascript\">                                    window.PLOTLYENV=window.PLOTLYENV || {};                                    if (document.getElementById(\"fb252286-ee6a-4ae3-9077-1b18863292bc\")) {                    Plotly.newPlot(                        \"fb252286-ee6a-4ae3-9077-1b18863292bc\",                        [{\"marker\":{\"color\":\"gold\"},\"name\":\"negative\",\"orientation\":\"h\",\"x\":[355,212,166,140,131,112,104,94,92,90,88,82,81,81,78],\"y\":[\"eur\",\"mn\",\"1\",\"profit\",\"2\",\"3\",\"0\",\"5\",\"year\",\"sales\",\"net\",\"finnish\",\"quarter\",\"operating\",\"co\"],\"type\":\"bar\",\"xaxis\":\"x\",\"yaxis\":\"y\"},{\"marker\":{\"color\":\"mediumturquoise\"},\"name\":\"neutral\",\"orientation\":\"h\",\"x\":[667,496,349,297,250,242,238,222],\"y\":[\"eur\",\"company\",\"1\",\"mn\",\"finnish\",\"said\",\"million\",\"finland\"],\"type\":\"bar\",\"xaxis\":\"x2\",\"yaxis\":\"y2\"},{\"marker\":{\"color\":\"lightgreen\"},\"name\":\"positive\",\"orientation\":\"h\",\"x\":[569,282,234,197,193,188,188,174,172,172,168,167,165],\"y\":[\"eur\",\"1\",\"mn\",\"sales\",\"year\",\"profit\",\"company\",\"2\",\"net\",\"said\",\"0\",\"co\",\"finnish\"],\"type\":\"bar\",\"xaxis\":\"x3\",\"yaxis\":\"y3\"}],                        {\"template\":{\"data\":{\"histogram2dcontour\":[{\"type\":\"histogram2dcontour\",\"colorbar\":{\"outlinewidth\":0,\"ticks\":\"\"},\"colorscale\":[[0.0,\"#0d0887\"],[0.1111111111111111,\"#46039f\"],[0.2222222222222222,\"#7201a8\"],[0.3333333333333333,\"#9c179e\"],[0.4444444444444444,\"#bd3786\"],[0.5555555555555556,\"#d8576b\"],[0.6666666666666666,\"#ed7953\"],[0.7777777777777778,\"#fb9f3a\"],[0.8888888888888888,\"#fdca26\"],[1.0,\"#f0f921\"]]}],\"choropleth\":[{\"type\":\"choropleth\",\"colorbar\":{\"outlinewidth\":0,\"ticks\":\"\"}}],\"histogram2d\":[{\"type\":\"histogram2d\",\"colorbar\":{\"outlinewidth\":0,\"ticks\":\"\"},\"colorscale\":[[0.0,\"#0d0887\"],[0.1111111111111111,\"#46039f\"],[0.2222222222222222,\"#7201a8\"],[0.3333333333333333,\"#9c179e\"],[0.4444444444444444,\"#bd3786\"],[0.5555555555555556,\"#d8576b\"],[0.6666666666666666,\"#ed7953\"],[0.7777777777777778,\"#fb9f3a\"],[0.8888888888888888,\"#fdca26\"],[1.0,\"#f0f921\"]]}],\"heatmap\":[{\"type\":\"heatmap\",\"colorbar\":{\"outlinewidth\":0,\"ticks\":\"\"},\"colorscale\":[[0.0,\"#0d0887\"],[0.1111111111111111,\"#46039f\"],[0.2222222222222222,\"#7201a8\"],[0.3333333333333333,\"#9c179e\"],[0.4444444444444444,\"#bd3786\"],[0.5555555555555556,\"#d8576b\"],[0.6666666666666666,\"#ed7953\"],[0.7777777777777778,\"#fb9f3a\"],[0.8888888888888888,\"#fdca26\"],[1.0,\"#f0f921\"]]}],\"heatmapgl\":[{\"type\":\"heatmapgl\",\"colorbar\":{\"outlinewidth\":0,\"ticks\":\"\"},\"colorscale\":[[0.0,\"#0d0887\"],[0.1111111111111111,\"#46039f\"],[0.2222222222222222,\"#7201a8\"],[0.3333333333333333,\"#9c179e\"],[0.4444444444444444,\"#bd3786\"],[0.5555555555555556,\"#d8576b\"],[0.6666666666666666,\"#ed7953\"],[0.7777777777777778,\"#fb9f3a\"],[0.8888888888888888,\"#fdca26\"],[1.0,\"#f0f921\"]]}],\"contourcarpet\":[{\"type\":\"contourcarpet\",\"colorbar\":{\"outlinewidth\":0,\"ticks\":\"\"}}],\"contour\":[{\"type\":\"contour\",\"colorbar\":{\"outlinewidth\":0,\"ticks\":\"\"},\"colorscale\":[[0.0,\"#0d0887\"],[0.1111111111111111,\"#46039f\"],[0.2222222222222222,\"#7201a8\"],[0.3333333333333333,\"#9c179e\"],[0.4444444444444444,\"#bd3786\"],[0.5555555555555556,\"#d8576b\"],[0.6666666666666666,\"#ed7953\"],[0.7777777777777778,\"#fb9f3a\"],[0.8888888888888888,\"#fdca26\"],[1.0,\"#f0f921\"]]}],\"surface\":[{\"type\":\"surface\",\"colorbar\":{\"outlinewidth\":0,\"ticks\":\"\"},\"colorscale\":[[0.0,\"#0d0887\"],[0.1111111111111111,\"#46039f\"],[0.2222222222222222,\"#7201a8\"],[0.3333333333333333,\"#9c179e\"],[0.4444444444444444,\"#bd3786\"],[0.5555555555555556,\"#d8576b\"],[0.6666666666666666,\"#ed7953\"],[0.7777777777777778,\"#fb9f3a\"],[0.8888888888888888,\"#fdca26\"],[1.0,\"#f0f921\"]]}],\"mesh3d\":[{\"type\":\"mesh3d\",\"colorbar\":{\"outlinewidth\":0,\"ticks\":\"\"}}],\"scatter\":[{\"fillpattern\":{\"fillmode\":\"overlay\",\"size\":10,\"solidity\":0.2},\"type\":\"scatter\"}],\"parcoords\":[{\"type\":\"parcoords\",\"line\":{\"colorbar\":{\"outlinewidth\":0,\"ticks\":\"\"}}}],\"scatterpolargl\":[{\"type\":\"scatterpolargl\",\"marker\":{\"colorbar\":{\"outlinewidth\":0,\"ticks\":\"\"}}}],\"bar\":[{\"error_x\":{\"color\":\"#2a3f5f\"},\"error_y\":{\"color\":\"#2a3f5f\"},\"marker\":{\"line\":{\"color\":\"#E5ECF6\",\"width\":0.5},\"pattern\":{\"fillmode\":\"overlay\",\"size\":10,\"solidity\":0.2}},\"type\":\"bar\"}],\"scattergeo\":[{\"type\":\"scattergeo\",\"marker\":{\"colorbar\":{\"outlinewidth\":0,\"ticks\":\"\"}}}],\"scatterpolar\":[{\"type\":\"scatterpolar\",\"marker\":{\"colorbar\":{\"outlinewidth\":0,\"ticks\":\"\"}}}],\"histogram\":[{\"marker\":{\"pattern\":{\"fillmode\":\"overlay\",\"size\":10,\"solidity\":0.2}},\"type\":\"histogram\"}],\"scattergl\":[{\"type\":\"scattergl\",\"marker\":{\"colorbar\":{\"outlinewidth\":0,\"ticks\":\"\"}}}],\"scatter3d\":[{\"type\":\"scatter3d\",\"line\":{\"colorbar\":{\"outlinewidth\":0,\"ticks\":\"\"}},\"marker\":{\"colorbar\":{\"outlinewidth\":0,\"ticks\":\"\"}}}],\"scattermapbox\":[{\"type\":\"scattermapbox\",\"marker\":{\"colorbar\":{\"outlinewidth\":0,\"ticks\":\"\"}}}],\"scatterternary\":[{\"type\":\"scatterternary\",\"marker\":{\"colorbar\":{\"outlinewidth\":0,\"ticks\":\"\"}}}],\"scattercarpet\":[{\"type\":\"scattercarpet\",\"marker\":{\"colorbar\":{\"outlinewidth\":0,\"ticks\":\"\"}}}],\"carpet\":[{\"aaxis\":{\"endlinecolor\":\"#2a3f5f\",\"gridcolor\":\"white\",\"linecolor\":\"white\",\"minorgridcolor\":\"white\",\"startlinecolor\":\"#2a3f5f\"},\"baxis\":{\"endlinecolor\":\"#2a3f5f\",\"gridcolor\":\"white\",\"linecolor\":\"white\",\"minorgridcolor\":\"white\",\"startlinecolor\":\"#2a3f5f\"},\"type\":\"carpet\"}],\"table\":[{\"cells\":{\"fill\":{\"color\":\"#EBF0F8\"},\"line\":{\"color\":\"white\"}},\"header\":{\"fill\":{\"color\":\"#C8D4E3\"},\"line\":{\"color\":\"white\"}},\"type\":\"table\"}],\"barpolar\":[{\"marker\":{\"line\":{\"color\":\"#E5ECF6\",\"width\":0.5},\"pattern\":{\"fillmode\":\"overlay\",\"size\":10,\"solidity\":0.2}},\"type\":\"barpolar\"}],\"pie\":[{\"automargin\":true,\"type\":\"pie\"}]},\"layout\":{\"autotypenumbers\":\"strict\",\"colorway\":[\"#636efa\",\"#EF553B\",\"#00cc96\",\"#ab63fa\",\"#FFA15A\",\"#19d3f3\",\"#FF6692\",\"#B6E880\",\"#FF97FF\",\"#FECB52\"],\"font\":{\"color\":\"#2a3f5f\"},\"hovermode\":\"closest\",\"hoverlabel\":{\"align\":\"left\"},\"paper_bgcolor\":\"white\",\"plot_bgcolor\":\"#E5ECF6\",\"polar\":{\"bgcolor\":\"#E5ECF6\",\"angularaxis\":{\"gridcolor\":\"white\",\"linecolor\":\"white\",\"ticks\":\"\"},\"radialaxis\":{\"gridcolor\":\"white\",\"linecolor\":\"white\",\"ticks\":\"\"}},\"ternary\":{\"bgcolor\":\"#E5ECF6\",\"aaxis\":{\"gridcolor\":\"white\",\"linecolor\":\"white\",\"ticks\":\"\"},\"baxis\":{\"gridcolor\":\"white\",\"linecolor\":\"white\",\"ticks\":\"\"},\"caxis\":{\"gridcolor\":\"white\",\"linecolor\":\"white\",\"ticks\":\"\"}},\"coloraxis\":{\"colorbar\":{\"outlinewidth\":0,\"ticks\":\"\"}},\"colorscale\":{\"sequential\":[[0.0,\"#0d0887\"],[0.1111111111111111,\"#46039f\"],[0.2222222222222222,\"#7201a8\"],[0.3333333333333333,\"#9c179e\"],[0.4444444444444444,\"#bd3786\"],[0.5555555555555556,\"#d8576b\"],[0.6666666666666666,\"#ed7953\"],[0.7777777777777778,\"#fb9f3a\"],[0.8888888888888888,\"#fdca26\"],[1.0,\"#f0f921\"]],\"sequentialminus\":[[0.0,\"#0d0887\"],[0.1111111111111111,\"#46039f\"],[0.2222222222222222,\"#7201a8\"],[0.3333333333333333,\"#9c179e\"],[0.4444444444444444,\"#bd3786\"],[0.5555555555555556,\"#d8576b\"],[0.6666666666666666,\"#ed7953\"],[0.7777777777777778,\"#fb9f3a\"],[0.8888888888888888,\"#fdca26\"],[1.0,\"#f0f921\"]],\"diverging\":[[0,\"#8e0152\"],[0.1,\"#c51b7d\"],[0.2,\"#de77ae\"],[0.3,\"#f1b6da\"],[0.4,\"#fde0ef\"],[0.5,\"#f7f7f7\"],[0.6,\"#e6f5d0\"],[0.7,\"#b8e186\"],[0.8,\"#7fbc41\"],[0.9,\"#4d9221\"],[1,\"#276419\"]]},\"xaxis\":{\"gridcolor\":\"white\",\"linecolor\":\"white\",\"ticks\":\"\",\"title\":{\"standoff\":15},\"zerolinecolor\":\"white\",\"automargin\":true,\"zerolinewidth\":2},\"yaxis\":{\"gridcolor\":\"white\",\"linecolor\":\"white\",\"ticks\":\"\",\"title\":{\"standoff\":15},\"zerolinecolor\":\"white\",\"automargin\":true,\"zerolinewidth\":2},\"scene\":{\"xaxis\":{\"backgroundcolor\":\"#E5ECF6\",\"gridcolor\":\"white\",\"linecolor\":\"white\",\"showbackground\":true,\"ticks\":\"\",\"zerolinecolor\":\"white\",\"gridwidth\":2},\"yaxis\":{\"backgroundcolor\":\"#E5ECF6\",\"gridcolor\":\"white\",\"linecolor\":\"white\",\"showbackground\":true,\"ticks\":\"\",\"zerolinecolor\":\"white\",\"gridwidth\":2},\"zaxis\":{\"backgroundcolor\":\"#E5ECF6\",\"gridcolor\":\"white\",\"linecolor\":\"white\",\"showbackground\":true,\"ticks\":\"\",\"zerolinecolor\":\"white\",\"gridwidth\":2}},\"shapedefaults\":{\"line\":{\"color\":\"#2a3f5f\"}},\"annotationdefaults\":{\"arrowcolor\":\"#2a3f5f\",\"arrowhead\":0,\"arrowwidth\":1},\"geo\":{\"bgcolor\":\"white\",\"landcolor\":\"#E5ECF6\",\"subunitcolor\":\"white\",\"showland\":true,\"showlakes\":true,\"lakecolor\":\"white\"},\"title\":{\"x\":0.05},\"mapbox\":{\"style\":\"light\"}}},\"xaxis\":{\"anchor\":\"y\",\"domain\":[0.0,0.2888888888888889]},\"yaxis\":{\"anchor\":\"x\",\"domain\":[0.0,1.0]},\"xaxis2\":{\"anchor\":\"y2\",\"domain\":[0.35555555555555557,0.6444444444444445]},\"yaxis2\":{\"anchor\":\"x2\",\"domain\":[0.0,1.0]},\"xaxis3\":{\"anchor\":\"y3\",\"domain\":[0.7111111111111111,1.0]},\"yaxis3\":{\"anchor\":\"x3\",\"domain\":[0.0,1.0]},\"title\":{\"font\":{\"family\":\"Courier New, monospace\",\"size\":24,\"color\":\"RebeccaPurple\"},\"text\":\"<b>Most Common ngrams per Classes</b>\",\"x\":0.5,\"y\":0.95},\"autosize\":false,\"width\":2000,\"height\":600},                        {\"responsive\": true}                    ).then(function(){\n",
              "                            \n",
              "var gd = document.getElementById('fb252286-ee6a-4ae3-9077-1b18863292bc');\n",
              "var x = new MutationObserver(function (mutations, observer) {{\n",
              "        var display = window.getComputedStyle(gd).display;\n",
              "        if (!display || display === 'none') {{\n",
              "            console.log([gd, 'removed!']);\n",
              "            Plotly.purge(gd);\n",
              "            observer.disconnect();\n",
              "        }}\n",
              "}});\n",
              "\n",
              "// Listen for the removal of the full notebook cells\n",
              "var notebookContainer = gd.closest('#notebook-container');\n",
              "if (notebookContainer) {{\n",
              "    x.observe(notebookContainer, {childList: true});\n",
              "}}\n",
              "\n",
              "// Listen for the clearing of the current output cell\n",
              "var outputEl = gd.closest('.output');\n",
              "if (outputEl) {{\n",
              "    x.observe(outputEl, {childList: true});\n",
              "}}\n",
              "\n",
              "                        })                };                            </script>        </div>\n",
              "</body>\n",
              "</html>"
            ]
          },
          "metadata": {},
          "output_type": "display_data"
        }
      ],
      "source": [
        "fig = make_subplots(rows=1, cols=3)\n",
        "title_ = [\"negative\", \"neutral\", \"positive\"]\n",
        "\n",
        "for i in range(3):\n",
        "    texts = df[df[\"label\"] == i]['tokenized_review']\n",
        "\n",
        "    new = texts.str.split()\n",
        "    new = new.values.tolist()\n",
        "    corpus = [word for i in new for word in i]\n",
        "    counter = Counter(corpus)\n",
        "    most = counter.most_common()\n",
        "    x, y = [], []\n",
        "\n",
        "    for word, count in most[:30]:\n",
        "        if word not in stopWords_nltk:\n",
        "            x.append(word)\n",
        "            y.append(count)\n",
        "\n",
        "    fig.add_trace(go.Bar(\n",
        "                x=y,\n",
        "                y=x,\n",
        "                orientation='h', type=\"bar\",\n",
        "        name=title_[i], marker=dict(color=colors[i])), 1, i+1)\n",
        "\n",
        "fig.update_layout(\n",
        "    autosize=False,\n",
        "    width=2000,\n",
        "    height=600,title=dict(\n",
        "        text='<b>Most Common ngrams per Classes</b>',\n",
        "        x=0.5,\n",
        "        y=0.95,\n",
        "        font=dict(\n",
        "            family=\"Courier New, monospace\",\n",
        "        size=24,\n",
        "        color=\"RebeccaPurple\"\n",
        "        )\n",
        "    ),)\n",
        "\n",
        "\n",
        "fig.show()"
      ]
    },
    {
      "cell_type": "code",
      "execution_count": null,
      "metadata": {
        "id": "05IXBU5WKIL-"
      },
      "outputs": [],
      "source": [
        "def _get_top_ngram(corpus, n=None):\n",
        "    #getting top ngrams\n",
        "    vec = CountVectorizer(ngram_range=(n, n),\n",
        "                          max_df=0.9,\n",
        "                          ).fit(corpus)\n",
        "    bag_of_words = vec.transform(corpus)\n",
        "    sum_words = bag_of_words.sum(axis=0)\n",
        "    words_freq = [(word, sum_words[0, idx])\n",
        "                  for word, idx in vec.vocabulary_.items()]\n",
        "    words_freq = sorted(words_freq, key=lambda x: x[1], reverse=True)\n",
        "    return words_freq[:15]"
      ]
    },
    {
      "cell_type": "code",
      "execution_count": null,
      "metadata": {
        "colab": {
          "base_uri": "https://localhost:8080/",
          "height": 637
        },
        "id": "rKIvqTQ7KSjU",
        "outputId": "8fc4af8f-dbbc-41c7-d79f-4864d4ecda47"
      },
      "outputs": [
        {
          "data": {
            "text/html": [
              "<html>\n",
              "<head><meta charset=\"utf-8\" /></head>\n",
              "<body>\n",
              "    <div>            <script src=\"https://cdnjs.cloudflare.com/ajax/libs/mathjax/2.7.5/MathJax.js?config=TeX-AMS-MML_SVG\"></script><script type=\"text/javascript\">if (window.MathJax && window.MathJax.Hub && window.MathJax.Hub.Config) {window.MathJax.Hub.Config({SVG: {font: \"STIX-Web\"}});}</script>                <script type=\"text/javascript\">window.PlotlyConfig = {MathJaxConfig: 'local'};</script>\n",
              "        <script src=\"https://cdn.plot.ly/plotly-2.18.2.min.js\"></script>                <div id=\"acb1ac4e-a691-4296-bf8e-5db01fb277c7\" class=\"plotly-graph-div\" style=\"height:600px; width:2000px;\"></div>            <script type=\"text/javascript\">                                    window.PLOTLYENV=window.PLOTLYENV || {};                                    if (document.getElementById(\"acb1ac4e-a691-4296-bf8e-5db01fb277c7\")) {                    Plotly.newPlot(                        \"acb1ac4e-a691-4296-bf8e-5db01fb277c7\",                        [{\"marker\":{\"color\":\"gold\"},\"name\":\"negative\",\"orientation\":\"h\",\"x\":[153,101,96,95,95,69,65,52,50,49,48,47,45,45,43],\"y\":[\"in the\",\"to eur\",\"from eur\",\"eur mn\",\"mn in\",\"for the\",\"of eur\",\"compared to\",\"the first\",\"the company\",\"quarter of\",\"operating profit\",\"https co\",\"down from\",\"of the\"],\"type\":\"bar\",\"xaxis\":\"x\",\"yaxis\":\"y\"},{\"marker\":{\"color\":\"mediumturquoise\"},\"name\":\"neutral\",\"orientation\":\"h\",\"x\":[495,408,310,203,178,156,140,128,118,114,114,114,106,101,95],\"y\":[\"of the\",\"in the\",\"the company\",\"will be\",\"for the\",\"to the\",\"of eur\",\"and the\",\"net sales\",\"on the\",\"eur mn\",\"to eur\",\"mn in\",\"from eur\",\"in finland\"],\"type\":\"bar\",\"xaxis\":\"x2\",\"yaxis\":\"y2\"},{\"marker\":{\"color\":\"lightgreen\"},\"name\":\"positive\",\"orientation\":\"h\",\"x\":[239,162,157,141,109,98,94,92,88,88,80,78,69,67,65],\"y\":[\"in the\",\"from eur\",\"to eur\",\"for the\",\"the company\",\"of the\",\"operating profit\",\"net sales\",\"http stks\",\"stks co\",\"eur mn\",\"mn in\",\"https co\",\"quarter of\",\"of eur\"],\"type\":\"bar\",\"xaxis\":\"x3\",\"yaxis\":\"y3\"}],                        {\"template\":{\"data\":{\"histogram2dcontour\":[{\"type\":\"histogram2dcontour\",\"colorbar\":{\"outlinewidth\":0,\"ticks\":\"\"},\"colorscale\":[[0.0,\"#0d0887\"],[0.1111111111111111,\"#46039f\"],[0.2222222222222222,\"#7201a8\"],[0.3333333333333333,\"#9c179e\"],[0.4444444444444444,\"#bd3786\"],[0.5555555555555556,\"#d8576b\"],[0.6666666666666666,\"#ed7953\"],[0.7777777777777778,\"#fb9f3a\"],[0.8888888888888888,\"#fdca26\"],[1.0,\"#f0f921\"]]}],\"choropleth\":[{\"type\":\"choropleth\",\"colorbar\":{\"outlinewidth\":0,\"ticks\":\"\"}}],\"histogram2d\":[{\"type\":\"histogram2d\",\"colorbar\":{\"outlinewidth\":0,\"ticks\":\"\"},\"colorscale\":[[0.0,\"#0d0887\"],[0.1111111111111111,\"#46039f\"],[0.2222222222222222,\"#7201a8\"],[0.3333333333333333,\"#9c179e\"],[0.4444444444444444,\"#bd3786\"],[0.5555555555555556,\"#d8576b\"],[0.6666666666666666,\"#ed7953\"],[0.7777777777777778,\"#fb9f3a\"],[0.8888888888888888,\"#fdca26\"],[1.0,\"#f0f921\"]]}],\"heatmap\":[{\"type\":\"heatmap\",\"colorbar\":{\"outlinewidth\":0,\"ticks\":\"\"},\"colorscale\":[[0.0,\"#0d0887\"],[0.1111111111111111,\"#46039f\"],[0.2222222222222222,\"#7201a8\"],[0.3333333333333333,\"#9c179e\"],[0.4444444444444444,\"#bd3786\"],[0.5555555555555556,\"#d8576b\"],[0.6666666666666666,\"#ed7953\"],[0.7777777777777778,\"#fb9f3a\"],[0.8888888888888888,\"#fdca26\"],[1.0,\"#f0f921\"]]}],\"heatmapgl\":[{\"type\":\"heatmapgl\",\"colorbar\":{\"outlinewidth\":0,\"ticks\":\"\"},\"colorscale\":[[0.0,\"#0d0887\"],[0.1111111111111111,\"#46039f\"],[0.2222222222222222,\"#7201a8\"],[0.3333333333333333,\"#9c179e\"],[0.4444444444444444,\"#bd3786\"],[0.5555555555555556,\"#d8576b\"],[0.6666666666666666,\"#ed7953\"],[0.7777777777777778,\"#fb9f3a\"],[0.8888888888888888,\"#fdca26\"],[1.0,\"#f0f921\"]]}],\"contourcarpet\":[{\"type\":\"contourcarpet\",\"colorbar\":{\"outlinewidth\":0,\"ticks\":\"\"}}],\"contour\":[{\"type\":\"contour\",\"colorbar\":{\"outlinewidth\":0,\"ticks\":\"\"},\"colorscale\":[[0.0,\"#0d0887\"],[0.1111111111111111,\"#46039f\"],[0.2222222222222222,\"#7201a8\"],[0.3333333333333333,\"#9c179e\"],[0.4444444444444444,\"#bd3786\"],[0.5555555555555556,\"#d8576b\"],[0.6666666666666666,\"#ed7953\"],[0.7777777777777778,\"#fb9f3a\"],[0.8888888888888888,\"#fdca26\"],[1.0,\"#f0f921\"]]}],\"surface\":[{\"type\":\"surface\",\"colorbar\":{\"outlinewidth\":0,\"ticks\":\"\"},\"colorscale\":[[0.0,\"#0d0887\"],[0.1111111111111111,\"#46039f\"],[0.2222222222222222,\"#7201a8\"],[0.3333333333333333,\"#9c179e\"],[0.4444444444444444,\"#bd3786\"],[0.5555555555555556,\"#d8576b\"],[0.6666666666666666,\"#ed7953\"],[0.7777777777777778,\"#fb9f3a\"],[0.8888888888888888,\"#fdca26\"],[1.0,\"#f0f921\"]]}],\"mesh3d\":[{\"type\":\"mesh3d\",\"colorbar\":{\"outlinewidth\":0,\"ticks\":\"\"}}],\"scatter\":[{\"fillpattern\":{\"fillmode\":\"overlay\",\"size\":10,\"solidity\":0.2},\"type\":\"scatter\"}],\"parcoords\":[{\"type\":\"parcoords\",\"line\":{\"colorbar\":{\"outlinewidth\":0,\"ticks\":\"\"}}}],\"scatterpolargl\":[{\"type\":\"scatterpolargl\",\"marker\":{\"colorbar\":{\"outlinewidth\":0,\"ticks\":\"\"}}}],\"bar\":[{\"error_x\":{\"color\":\"#2a3f5f\"},\"error_y\":{\"color\":\"#2a3f5f\"},\"marker\":{\"line\":{\"color\":\"#E5ECF6\",\"width\":0.5},\"pattern\":{\"fillmode\":\"overlay\",\"size\":10,\"solidity\":0.2}},\"type\":\"bar\"}],\"scattergeo\":[{\"type\":\"scattergeo\",\"marker\":{\"colorbar\":{\"outlinewidth\":0,\"ticks\":\"\"}}}],\"scatterpolar\":[{\"type\":\"scatterpolar\",\"marker\":{\"colorbar\":{\"outlinewidth\":0,\"ticks\":\"\"}}}],\"histogram\":[{\"marker\":{\"pattern\":{\"fillmode\":\"overlay\",\"size\":10,\"solidity\":0.2}},\"type\":\"histogram\"}],\"scattergl\":[{\"type\":\"scattergl\",\"marker\":{\"colorbar\":{\"outlinewidth\":0,\"ticks\":\"\"}}}],\"scatter3d\":[{\"type\":\"scatter3d\",\"line\":{\"colorbar\":{\"outlinewidth\":0,\"ticks\":\"\"}},\"marker\":{\"colorbar\":{\"outlinewidth\":0,\"ticks\":\"\"}}}],\"scattermapbox\":[{\"type\":\"scattermapbox\",\"marker\":{\"colorbar\":{\"outlinewidth\":0,\"ticks\":\"\"}}}],\"scatterternary\":[{\"type\":\"scatterternary\",\"marker\":{\"colorbar\":{\"outlinewidth\":0,\"ticks\":\"\"}}}],\"scattercarpet\":[{\"type\":\"scattercarpet\",\"marker\":{\"colorbar\":{\"outlinewidth\":0,\"ticks\":\"\"}}}],\"carpet\":[{\"aaxis\":{\"endlinecolor\":\"#2a3f5f\",\"gridcolor\":\"white\",\"linecolor\":\"white\",\"minorgridcolor\":\"white\",\"startlinecolor\":\"#2a3f5f\"},\"baxis\":{\"endlinecolor\":\"#2a3f5f\",\"gridcolor\":\"white\",\"linecolor\":\"white\",\"minorgridcolor\":\"white\",\"startlinecolor\":\"#2a3f5f\"},\"type\":\"carpet\"}],\"table\":[{\"cells\":{\"fill\":{\"color\":\"#EBF0F8\"},\"line\":{\"color\":\"white\"}},\"header\":{\"fill\":{\"color\":\"#C8D4E3\"},\"line\":{\"color\":\"white\"}},\"type\":\"table\"}],\"barpolar\":[{\"marker\":{\"line\":{\"color\":\"#E5ECF6\",\"width\":0.5},\"pattern\":{\"fillmode\":\"overlay\",\"size\":10,\"solidity\":0.2}},\"type\":\"barpolar\"}],\"pie\":[{\"automargin\":true,\"type\":\"pie\"}]},\"layout\":{\"autotypenumbers\":\"strict\",\"colorway\":[\"#636efa\",\"#EF553B\",\"#00cc96\",\"#ab63fa\",\"#FFA15A\",\"#19d3f3\",\"#FF6692\",\"#B6E880\",\"#FF97FF\",\"#FECB52\"],\"font\":{\"color\":\"#2a3f5f\"},\"hovermode\":\"closest\",\"hoverlabel\":{\"align\":\"left\"},\"paper_bgcolor\":\"white\",\"plot_bgcolor\":\"#E5ECF6\",\"polar\":{\"bgcolor\":\"#E5ECF6\",\"angularaxis\":{\"gridcolor\":\"white\",\"linecolor\":\"white\",\"ticks\":\"\"},\"radialaxis\":{\"gridcolor\":\"white\",\"linecolor\":\"white\",\"ticks\":\"\"}},\"ternary\":{\"bgcolor\":\"#E5ECF6\",\"aaxis\":{\"gridcolor\":\"white\",\"linecolor\":\"white\",\"ticks\":\"\"},\"baxis\":{\"gridcolor\":\"white\",\"linecolor\":\"white\",\"ticks\":\"\"},\"caxis\":{\"gridcolor\":\"white\",\"linecolor\":\"white\",\"ticks\":\"\"}},\"coloraxis\":{\"colorbar\":{\"outlinewidth\":0,\"ticks\":\"\"}},\"colorscale\":{\"sequential\":[[0.0,\"#0d0887\"],[0.1111111111111111,\"#46039f\"],[0.2222222222222222,\"#7201a8\"],[0.3333333333333333,\"#9c179e\"],[0.4444444444444444,\"#bd3786\"],[0.5555555555555556,\"#d8576b\"],[0.6666666666666666,\"#ed7953\"],[0.7777777777777778,\"#fb9f3a\"],[0.8888888888888888,\"#fdca26\"],[1.0,\"#f0f921\"]],\"sequentialminus\":[[0.0,\"#0d0887\"],[0.1111111111111111,\"#46039f\"],[0.2222222222222222,\"#7201a8\"],[0.3333333333333333,\"#9c179e\"],[0.4444444444444444,\"#bd3786\"],[0.5555555555555556,\"#d8576b\"],[0.6666666666666666,\"#ed7953\"],[0.7777777777777778,\"#fb9f3a\"],[0.8888888888888888,\"#fdca26\"],[1.0,\"#f0f921\"]],\"diverging\":[[0,\"#8e0152\"],[0.1,\"#c51b7d\"],[0.2,\"#de77ae\"],[0.3,\"#f1b6da\"],[0.4,\"#fde0ef\"],[0.5,\"#f7f7f7\"],[0.6,\"#e6f5d0\"],[0.7,\"#b8e186\"],[0.8,\"#7fbc41\"],[0.9,\"#4d9221\"],[1,\"#276419\"]]},\"xaxis\":{\"gridcolor\":\"white\",\"linecolor\":\"white\",\"ticks\":\"\",\"title\":{\"standoff\":15},\"zerolinecolor\":\"white\",\"automargin\":true,\"zerolinewidth\":2},\"yaxis\":{\"gridcolor\":\"white\",\"linecolor\":\"white\",\"ticks\":\"\",\"title\":{\"standoff\":15},\"zerolinecolor\":\"white\",\"automargin\":true,\"zerolinewidth\":2},\"scene\":{\"xaxis\":{\"backgroundcolor\":\"#E5ECF6\",\"gridcolor\":\"white\",\"linecolor\":\"white\",\"showbackground\":true,\"ticks\":\"\",\"zerolinecolor\":\"white\",\"gridwidth\":2},\"yaxis\":{\"backgroundcolor\":\"#E5ECF6\",\"gridcolor\":\"white\",\"linecolor\":\"white\",\"showbackground\":true,\"ticks\":\"\",\"zerolinecolor\":\"white\",\"gridwidth\":2},\"zaxis\":{\"backgroundcolor\":\"#E5ECF6\",\"gridcolor\":\"white\",\"linecolor\":\"white\",\"showbackground\":true,\"ticks\":\"\",\"zerolinecolor\":\"white\",\"gridwidth\":2}},\"shapedefaults\":{\"line\":{\"color\":\"#2a3f5f\"}},\"annotationdefaults\":{\"arrowcolor\":\"#2a3f5f\",\"arrowhead\":0,\"arrowwidth\":1},\"geo\":{\"bgcolor\":\"white\",\"landcolor\":\"#E5ECF6\",\"subunitcolor\":\"white\",\"showland\":true,\"showlakes\":true,\"lakecolor\":\"white\"},\"title\":{\"x\":0.05},\"mapbox\":{\"style\":\"light\"}}},\"xaxis\":{\"anchor\":\"y\",\"domain\":[0.0,0.2888888888888889]},\"yaxis\":{\"anchor\":\"x\",\"domain\":[0.0,1.0]},\"xaxis2\":{\"anchor\":\"y2\",\"domain\":[0.35555555555555557,0.6444444444444445]},\"yaxis2\":{\"anchor\":\"x2\",\"domain\":[0.0,1.0]},\"xaxis3\":{\"anchor\":\"y3\",\"domain\":[0.7111111111111111,1.0]},\"yaxis3\":{\"anchor\":\"x3\",\"domain\":[0.0,1.0]},\"title\":{\"font\":{\"family\":\"Courier New, monospace\",\"size\":24,\"color\":\"RebeccaPurple\"},\"text\":\"<b>Most Common unigrams per Classes</b>\",\"x\":0.5,\"y\":0.95},\"autosize\":false,\"width\":2000,\"height\":600},                        {\"responsive\": true}                    ).then(function(){\n",
              "                            \n",
              "var gd = document.getElementById('acb1ac4e-a691-4296-bf8e-5db01fb277c7');\n",
              "var x = new MutationObserver(function (mutations, observer) {{\n",
              "        var display = window.getComputedStyle(gd).display;\n",
              "        if (!display || display === 'none') {{\n",
              "            console.log([gd, 'removed!']);\n",
              "            Plotly.purge(gd);\n",
              "            observer.disconnect();\n",
              "        }}\n",
              "}});\n",
              "\n",
              "// Listen for the removal of the full notebook cells\n",
              "var notebookContainer = gd.closest('#notebook-container');\n",
              "if (notebookContainer) {{\n",
              "    x.observe(notebookContainer, {childList: true});\n",
              "}}\n",
              "\n",
              "// Listen for the clearing of the current output cell\n",
              "var outputEl = gd.closest('.output');\n",
              "if (outputEl) {{\n",
              "    x.observe(outputEl, {childList: true});\n",
              "}}\n",
              "\n",
              "                        })                };                            </script>        </div>\n",
              "</body>\n",
              "</html>"
            ]
          },
          "metadata": {},
          "output_type": "display_data"
        }
      ],
      "source": [
        "# unigram\n",
        "fig = make_subplots(rows=1, cols=3)\n",
        "\n",
        "title_ = [\"negative\", \"neutral\", \"positive\"]\n",
        "\n",
        "for i in range(3):\n",
        "    texts = df[df[\"label\"] == i]['tokenized_review']\n",
        "\n",
        "    new = texts.str.split()\n",
        "    new = new.values.tolist()\n",
        "    corpus = [word for i in new for word in i]\n",
        "    top_n_bigrams = _get_top_ngram(texts, 2)[:15]\n",
        "    x, y = map(list, zip(*top_n_bigrams))\n",
        "\n",
        "    fig.add_trace(go.Bar(\n",
        "                x=y,\n",
        "                y=x,\n",
        "                orientation='h', type=\"bar\",\n",
        "        name=title_[i], marker=dict(color=colors[i])), 1, i+1)\n",
        "\n",
        "fig.update_layout(\n",
        "    autosize=False,\n",
        "    width=2000,\n",
        "    height=600,title=dict(\n",
        "        text='<b>Most Common unigrams per Classes</b>',\n",
        "        x=0.5,\n",
        "        y=0.95,\n",
        "        font=dict(\n",
        "        family=\"Courier New, monospace\",\n",
        "        size=24,\n",
        "        color=\"RebeccaPurple\"\n",
        "        )\n",
        "    ))\n",
        "fig.show()"
      ]
    },
    {
      "cell_type": "code",
      "execution_count": null,
      "metadata": {
        "colab": {
          "base_uri": "https://localhost:8080/",
          "height": 637
        },
        "id": "iucZQoG5Kh0C",
        "outputId": "74f47632-8361-430c-e43a-465e82987624"
      },
      "outputs": [
        {
          "data": {
            "text/html": [
              "<html>\n",
              "<head><meta charset=\"utf-8\" /></head>\n",
              "<body>\n",
              "    <div>            <script src=\"https://cdnjs.cloudflare.com/ajax/libs/mathjax/2.7.5/MathJax.js?config=TeX-AMS-MML_SVG\"></script><script type=\"text/javascript\">if (window.MathJax && window.MathJax.Hub && window.MathJax.Hub.Config) {window.MathJax.Hub.Config({SVG: {font: \"STIX-Web\"}});}</script>                <script type=\"text/javascript\">window.PlotlyConfig = {MathJaxConfig: 'local'};</script>\n",
              "        <script src=\"https://cdn.plot.ly/plotly-2.18.2.min.js\"></script>                <div id=\"250d9f1a-8086-454b-96b6-bac1e1842b23\" class=\"plotly-graph-div\" style=\"height:600px; width:2000px;\"></div>            <script type=\"text/javascript\">                                    window.PLOTLYENV=window.PLOTLYENV || {};                                    if (document.getElementById(\"250d9f1a-8086-454b-96b6-bac1e1842b23\")) {                    Plotly.newPlot(                        \"250d9f1a-8086-454b-96b6-bac1e1842b23\",                        [{\"marker\":{\"color\":\"gold\"},\"name\":\"negative\",\"orientation\":\"h\",\"x\":[63,43,38,34,33,32,32,30,29,27,27,25,24,24,23],\"y\":[\"mn in the\",\"eur mn in\",\"the corresponding period\",\"in the first\",\"profit of eur\",\"http stks co\",\"down from eur\",\"in the corresponding\",\"corresponding period in\",\"mn compared to\",\"mn down from\",\"the first half\",\"first half of\",\"mn from eur\",\"of eur mn\"],\"type\":\"bar\",\"xaxis\":\"x\",\"yaxis\":\"y\"},{\"marker\":{\"color\":\"mediumturquoise\"},\"name\":\"neutral\",\"orientation\":\"h\",\"x\":[64,59,46,46,45,45,42,37,36,34,34,32,32,31,31],\"y\":[\"mn in the\",\"as well as\",\"net sales of\",\"eur mn in\",\"profit of eur\",\"value of the\",\"the corresponding period\",\"the end of\",\"the company said\",\"down from eur\",\"in the first\",\"in the corresponding\",\"corresponding period in\",\"the value of\",\"part of the\"],\"type\":\"bar\",\"xaxis\":\"x2\",\"yaxis\":\"y2\"},{\"marker\":{\"color\":\"lightgreen\"},\"name\":\"positive\",\"orientation\":\"h\",\"x\":[88,59,51,49,43,43,37,33,32,30,27,27,26,25,25],\"y\":[\"http stks co\",\"the corresponding period\",\"mn in the\",\"corresponding period in\",\"rose to eur\",\"mn from eur\",\"in the corresponding\",\"profit rose to\",\"up from eur\",\"from eur mn\",\"in the first\",\"mn up from\",\"loss of eur\",\"the same period\",\"year on year\"],\"type\":\"bar\",\"xaxis\":\"x3\",\"yaxis\":\"y3\"}],                        {\"template\":{\"data\":{\"histogram2dcontour\":[{\"type\":\"histogram2dcontour\",\"colorbar\":{\"outlinewidth\":0,\"ticks\":\"\"},\"colorscale\":[[0.0,\"#0d0887\"],[0.1111111111111111,\"#46039f\"],[0.2222222222222222,\"#7201a8\"],[0.3333333333333333,\"#9c179e\"],[0.4444444444444444,\"#bd3786\"],[0.5555555555555556,\"#d8576b\"],[0.6666666666666666,\"#ed7953\"],[0.7777777777777778,\"#fb9f3a\"],[0.8888888888888888,\"#fdca26\"],[1.0,\"#f0f921\"]]}],\"choropleth\":[{\"type\":\"choropleth\",\"colorbar\":{\"outlinewidth\":0,\"ticks\":\"\"}}],\"histogram2d\":[{\"type\":\"histogram2d\",\"colorbar\":{\"outlinewidth\":0,\"ticks\":\"\"},\"colorscale\":[[0.0,\"#0d0887\"],[0.1111111111111111,\"#46039f\"],[0.2222222222222222,\"#7201a8\"],[0.3333333333333333,\"#9c179e\"],[0.4444444444444444,\"#bd3786\"],[0.5555555555555556,\"#d8576b\"],[0.6666666666666666,\"#ed7953\"],[0.7777777777777778,\"#fb9f3a\"],[0.8888888888888888,\"#fdca26\"],[1.0,\"#f0f921\"]]}],\"heatmap\":[{\"type\":\"heatmap\",\"colorbar\":{\"outlinewidth\":0,\"ticks\":\"\"},\"colorscale\":[[0.0,\"#0d0887\"],[0.1111111111111111,\"#46039f\"],[0.2222222222222222,\"#7201a8\"],[0.3333333333333333,\"#9c179e\"],[0.4444444444444444,\"#bd3786\"],[0.5555555555555556,\"#d8576b\"],[0.6666666666666666,\"#ed7953\"],[0.7777777777777778,\"#fb9f3a\"],[0.8888888888888888,\"#fdca26\"],[1.0,\"#f0f921\"]]}],\"heatmapgl\":[{\"type\":\"heatmapgl\",\"colorbar\":{\"outlinewidth\":0,\"ticks\":\"\"},\"colorscale\":[[0.0,\"#0d0887\"],[0.1111111111111111,\"#46039f\"],[0.2222222222222222,\"#7201a8\"],[0.3333333333333333,\"#9c179e\"],[0.4444444444444444,\"#bd3786\"],[0.5555555555555556,\"#d8576b\"],[0.6666666666666666,\"#ed7953\"],[0.7777777777777778,\"#fb9f3a\"],[0.8888888888888888,\"#fdca26\"],[1.0,\"#f0f921\"]]}],\"contourcarpet\":[{\"type\":\"contourcarpet\",\"colorbar\":{\"outlinewidth\":0,\"ticks\":\"\"}}],\"contour\":[{\"type\":\"contour\",\"colorbar\":{\"outlinewidth\":0,\"ticks\":\"\"},\"colorscale\":[[0.0,\"#0d0887\"],[0.1111111111111111,\"#46039f\"],[0.2222222222222222,\"#7201a8\"],[0.3333333333333333,\"#9c179e\"],[0.4444444444444444,\"#bd3786\"],[0.5555555555555556,\"#d8576b\"],[0.6666666666666666,\"#ed7953\"],[0.7777777777777778,\"#fb9f3a\"],[0.8888888888888888,\"#fdca26\"],[1.0,\"#f0f921\"]]}],\"surface\":[{\"type\":\"surface\",\"colorbar\":{\"outlinewidth\":0,\"ticks\":\"\"},\"colorscale\":[[0.0,\"#0d0887\"],[0.1111111111111111,\"#46039f\"],[0.2222222222222222,\"#7201a8\"],[0.3333333333333333,\"#9c179e\"],[0.4444444444444444,\"#bd3786\"],[0.5555555555555556,\"#d8576b\"],[0.6666666666666666,\"#ed7953\"],[0.7777777777777778,\"#fb9f3a\"],[0.8888888888888888,\"#fdca26\"],[1.0,\"#f0f921\"]]}],\"mesh3d\":[{\"type\":\"mesh3d\",\"colorbar\":{\"outlinewidth\":0,\"ticks\":\"\"}}],\"scatter\":[{\"fillpattern\":{\"fillmode\":\"overlay\",\"size\":10,\"solidity\":0.2},\"type\":\"scatter\"}],\"parcoords\":[{\"type\":\"parcoords\",\"line\":{\"colorbar\":{\"outlinewidth\":0,\"ticks\":\"\"}}}],\"scatterpolargl\":[{\"type\":\"scatterpolargl\",\"marker\":{\"colorbar\":{\"outlinewidth\":0,\"ticks\":\"\"}}}],\"bar\":[{\"error_x\":{\"color\":\"#2a3f5f\"},\"error_y\":{\"color\":\"#2a3f5f\"},\"marker\":{\"line\":{\"color\":\"#E5ECF6\",\"width\":0.5},\"pattern\":{\"fillmode\":\"overlay\",\"size\":10,\"solidity\":0.2}},\"type\":\"bar\"}],\"scattergeo\":[{\"type\":\"scattergeo\",\"marker\":{\"colorbar\":{\"outlinewidth\":0,\"ticks\":\"\"}}}],\"scatterpolar\":[{\"type\":\"scatterpolar\",\"marker\":{\"colorbar\":{\"outlinewidth\":0,\"ticks\":\"\"}}}],\"histogram\":[{\"marker\":{\"pattern\":{\"fillmode\":\"overlay\",\"size\":10,\"solidity\":0.2}},\"type\":\"histogram\"}],\"scattergl\":[{\"type\":\"scattergl\",\"marker\":{\"colorbar\":{\"outlinewidth\":0,\"ticks\":\"\"}}}],\"scatter3d\":[{\"type\":\"scatter3d\",\"line\":{\"colorbar\":{\"outlinewidth\":0,\"ticks\":\"\"}},\"marker\":{\"colorbar\":{\"outlinewidth\":0,\"ticks\":\"\"}}}],\"scattermapbox\":[{\"type\":\"scattermapbox\",\"marker\":{\"colorbar\":{\"outlinewidth\":0,\"ticks\":\"\"}}}],\"scatterternary\":[{\"type\":\"scatterternary\",\"marker\":{\"colorbar\":{\"outlinewidth\":0,\"ticks\":\"\"}}}],\"scattercarpet\":[{\"type\":\"scattercarpet\",\"marker\":{\"colorbar\":{\"outlinewidth\":0,\"ticks\":\"\"}}}],\"carpet\":[{\"aaxis\":{\"endlinecolor\":\"#2a3f5f\",\"gridcolor\":\"white\",\"linecolor\":\"white\",\"minorgridcolor\":\"white\",\"startlinecolor\":\"#2a3f5f\"},\"baxis\":{\"endlinecolor\":\"#2a3f5f\",\"gridcolor\":\"white\",\"linecolor\":\"white\",\"minorgridcolor\":\"white\",\"startlinecolor\":\"#2a3f5f\"},\"type\":\"carpet\"}],\"table\":[{\"cells\":{\"fill\":{\"color\":\"#EBF0F8\"},\"line\":{\"color\":\"white\"}},\"header\":{\"fill\":{\"color\":\"#C8D4E3\"},\"line\":{\"color\":\"white\"}},\"type\":\"table\"}],\"barpolar\":[{\"marker\":{\"line\":{\"color\":\"#E5ECF6\",\"width\":0.5},\"pattern\":{\"fillmode\":\"overlay\",\"size\":10,\"solidity\":0.2}},\"type\":\"barpolar\"}],\"pie\":[{\"automargin\":true,\"type\":\"pie\"}]},\"layout\":{\"autotypenumbers\":\"strict\",\"colorway\":[\"#636efa\",\"#EF553B\",\"#00cc96\",\"#ab63fa\",\"#FFA15A\",\"#19d3f3\",\"#FF6692\",\"#B6E880\",\"#FF97FF\",\"#FECB52\"],\"font\":{\"color\":\"#2a3f5f\"},\"hovermode\":\"closest\",\"hoverlabel\":{\"align\":\"left\"},\"paper_bgcolor\":\"white\",\"plot_bgcolor\":\"#E5ECF6\",\"polar\":{\"bgcolor\":\"#E5ECF6\",\"angularaxis\":{\"gridcolor\":\"white\",\"linecolor\":\"white\",\"ticks\":\"\"},\"radialaxis\":{\"gridcolor\":\"white\",\"linecolor\":\"white\",\"ticks\":\"\"}},\"ternary\":{\"bgcolor\":\"#E5ECF6\",\"aaxis\":{\"gridcolor\":\"white\",\"linecolor\":\"white\",\"ticks\":\"\"},\"baxis\":{\"gridcolor\":\"white\",\"linecolor\":\"white\",\"ticks\":\"\"},\"caxis\":{\"gridcolor\":\"white\",\"linecolor\":\"white\",\"ticks\":\"\"}},\"coloraxis\":{\"colorbar\":{\"outlinewidth\":0,\"ticks\":\"\"}},\"colorscale\":{\"sequential\":[[0.0,\"#0d0887\"],[0.1111111111111111,\"#46039f\"],[0.2222222222222222,\"#7201a8\"],[0.3333333333333333,\"#9c179e\"],[0.4444444444444444,\"#bd3786\"],[0.5555555555555556,\"#d8576b\"],[0.6666666666666666,\"#ed7953\"],[0.7777777777777778,\"#fb9f3a\"],[0.8888888888888888,\"#fdca26\"],[1.0,\"#f0f921\"]],\"sequentialminus\":[[0.0,\"#0d0887\"],[0.1111111111111111,\"#46039f\"],[0.2222222222222222,\"#7201a8\"],[0.3333333333333333,\"#9c179e\"],[0.4444444444444444,\"#bd3786\"],[0.5555555555555556,\"#d8576b\"],[0.6666666666666666,\"#ed7953\"],[0.7777777777777778,\"#fb9f3a\"],[0.8888888888888888,\"#fdca26\"],[1.0,\"#f0f921\"]],\"diverging\":[[0,\"#8e0152\"],[0.1,\"#c51b7d\"],[0.2,\"#de77ae\"],[0.3,\"#f1b6da\"],[0.4,\"#fde0ef\"],[0.5,\"#f7f7f7\"],[0.6,\"#e6f5d0\"],[0.7,\"#b8e186\"],[0.8,\"#7fbc41\"],[0.9,\"#4d9221\"],[1,\"#276419\"]]},\"xaxis\":{\"gridcolor\":\"white\",\"linecolor\":\"white\",\"ticks\":\"\",\"title\":{\"standoff\":15},\"zerolinecolor\":\"white\",\"automargin\":true,\"zerolinewidth\":2},\"yaxis\":{\"gridcolor\":\"white\",\"linecolor\":\"white\",\"ticks\":\"\",\"title\":{\"standoff\":15},\"zerolinecolor\":\"white\",\"automargin\":true,\"zerolinewidth\":2},\"scene\":{\"xaxis\":{\"backgroundcolor\":\"#E5ECF6\",\"gridcolor\":\"white\",\"linecolor\":\"white\",\"showbackground\":true,\"ticks\":\"\",\"zerolinecolor\":\"white\",\"gridwidth\":2},\"yaxis\":{\"backgroundcolor\":\"#E5ECF6\",\"gridcolor\":\"white\",\"linecolor\":\"white\",\"showbackground\":true,\"ticks\":\"\",\"zerolinecolor\":\"white\",\"gridwidth\":2},\"zaxis\":{\"backgroundcolor\":\"#E5ECF6\",\"gridcolor\":\"white\",\"linecolor\":\"white\",\"showbackground\":true,\"ticks\":\"\",\"zerolinecolor\":\"white\",\"gridwidth\":2}},\"shapedefaults\":{\"line\":{\"color\":\"#2a3f5f\"}},\"annotationdefaults\":{\"arrowcolor\":\"#2a3f5f\",\"arrowhead\":0,\"arrowwidth\":1},\"geo\":{\"bgcolor\":\"white\",\"landcolor\":\"#E5ECF6\",\"subunitcolor\":\"white\",\"showland\":true,\"showlakes\":true,\"lakecolor\":\"white\"},\"title\":{\"x\":0.05},\"mapbox\":{\"style\":\"light\"}}},\"xaxis\":{\"anchor\":\"y\",\"domain\":[0.0,0.2888888888888889]},\"yaxis\":{\"anchor\":\"x\",\"domain\":[0.0,1.0]},\"xaxis2\":{\"anchor\":\"y2\",\"domain\":[0.35555555555555557,0.6444444444444445]},\"yaxis2\":{\"anchor\":\"x2\",\"domain\":[0.0,1.0]},\"xaxis3\":{\"anchor\":\"y3\",\"domain\":[0.7111111111111111,1.0]},\"yaxis3\":{\"anchor\":\"x3\",\"domain\":[0.0,1.0]},\"title\":{\"font\":{\"family\":\"Courier New, monospace\",\"size\":24,\"color\":\"RebeccaPurple\"},\"text\":\"<b>Most Common trigrams per Classes</b>\",\"x\":0.5,\"y\":0.95},\"autosize\":false,\"width\":2000,\"height\":600},                        {\"responsive\": true}                    ).then(function(){\n",
              "                            \n",
              "var gd = document.getElementById('250d9f1a-8086-454b-96b6-bac1e1842b23');\n",
              "var x = new MutationObserver(function (mutations, observer) {{\n",
              "        var display = window.getComputedStyle(gd).display;\n",
              "        if (!display || display === 'none') {{\n",
              "            console.log([gd, 'removed!']);\n",
              "            Plotly.purge(gd);\n",
              "            observer.disconnect();\n",
              "        }}\n",
              "}});\n",
              "\n",
              "// Listen for the removal of the full notebook cells\n",
              "var notebookContainer = gd.closest('#notebook-container');\n",
              "if (notebookContainer) {{\n",
              "    x.observe(notebookContainer, {childList: true});\n",
              "}}\n",
              "\n",
              "// Listen for the clearing of the current output cell\n",
              "var outputEl = gd.closest('.output');\n",
              "if (outputEl) {{\n",
              "    x.observe(outputEl, {childList: true});\n",
              "}}\n",
              "\n",
              "                        })                };                            </script>        </div>\n",
              "</body>\n",
              "</html>"
            ]
          },
          "metadata": {},
          "output_type": "display_data"
        }
      ],
      "source": [
        "#trigram\n",
        "\n",
        "fig = make_subplots(rows=1, cols=3)\n",
        "title_ = [\"negative\", \"neutral\", \"positive\"]\n",
        "\n",
        "for i in range(3):\n",
        "    texts = df[df[\"label\"] == i]['tokenized_review']\n",
        "\n",
        "    new = texts.str.split()\n",
        "    new = new.values.tolist()\n",
        "    corpus = [word for i in new for word in i]\n",
        "\n",
        "    top_n_bigrams = _get_top_ngram(texts, 3)[:15]\n",
        "    x, y = map(list, zip(*top_n_bigrams))\n",
        "\n",
        "    fig.add_trace(go.Bar(\n",
        "                x=y,\n",
        "                y=x,\n",
        "                orientation='h', type=\"bar\",\n",
        "        name=title_[i], marker=dict(color=colors[i])), 1, i+1),\n",
        "\n",
        "fig.update_layout(\n",
        "    autosize=False,\n",
        "    width=2000,\n",
        "    height=600,title=dict(\n",
        "        text='<b>Most Common trigrams per Classes</b>',\n",
        "        x=0.5,\n",
        "        y=0.95,\n",
        "        font=dict(\n",
        "        family=\"Courier New, monospace\",\n",
        "        size=24,\n",
        "        color=\"RebeccaPurple\"\n",
        "        )\n",
        "    ))\n",
        "\n",
        "fig.show()"
      ]
    },
    {
      "cell_type": "markdown",
      "metadata": {
        "id": "zBWz-k6zK5BP"
      },
      "source": [
        "We examined and visualized the data, now we can move on to the model building part."
      ]
    },
    {
      "cell_type": "markdown",
      "metadata": {
        "id": "K42ABDIJMfUg"
      },
      "source": [
        "# 3. MODEL"
      ]
    },
    {
      "cell_type": "markdown",
      "metadata": {
        "id": "rKt-EahYMlZ-"
      },
      "source": [
        "A brief information about BERT\\\n",
        "https://www.kaggle.com/code/emirkocak/in-depth-series-sentiment-analysis-w-transformers?scriptVersionId=86920881&cellId=77"
      ]
    },
    {
      "cell_type": "markdown",
      "metadata": {
        "id": "kDi3tQChM7G0"
      },
      "source": [
        "A brief information about XLNET \\\n",
        "https://www.kaggle.com/code/emirkocak/in-depth-series-sentiment-analysis-w-transformers?scriptVersionId=86920881&cellId=78"
      ]
    },
    {
      "cell_type": "markdown",
      "metadata": {
        "id": "7nh9BWX0RFuH"
      },
      "source": [
        "A brief information about RoBERTa \\\n",
        "https://www.kaggle.com/code/emirkocak/in-depth-series-sentiment-analysis-w-transformers?scriptVersionId=86920881&cellId=79"
      ]
    },
    {
      "cell_type": "markdown",
      "metadata": {
        "id": "QzOD3twPTfjf"
      },
      "source": [
        "Comparison of Transformer Models \\\n",
        "https://www.kaggle.com/code/emirkocak/in-depth-series-sentiment-analysis-w-transformers?scriptVersionId=86920881&cellId=80"
      ]
    },
    {
      "cell_type": "markdown",
      "metadata": {
        "id": "lEbfY-6hUldN"
      },
      "source": [
        "Preprocess for BERT Train"
      ]
    },
    {
      "cell_type": "code",
      "execution_count": null,
      "metadata": {
        "id": "UOcmXWWmK0Ii"
      },
      "outputs": [],
      "source": [
        "import pandas as pd\n",
        "import numpy as np\n",
        "import os\n",
        "import random\n",
        "from pathlib import Path\n",
        "import json"
      ]
    },
    {
      "cell_type": "code",
      "execution_count": null,
      "metadata": {
        "id": "Bz_jFBQnUsFa"
      },
      "outputs": [],
      "source": [
        "import torch\n",
        "from tqdm.notebook import tqdm\n",
        "\n",
        "from transformers import BertTokenizer\n",
        "from torch.utils.data import TensorDataset\n",
        "\n",
        "from transformers import BertForSequenceClassification"
      ]
    },
    {
      "cell_type": "code",
      "execution_count": null,
      "metadata": {
        "id": "h2cWSggsUzbM"
      },
      "outputs": [],
      "source": [
        "class Config():\n",
        "    seed_val = 17\n",
        "    device = torch.device(\"cuda:0\" if torch.cuda.is_available() else \"cpu\")\n",
        "    epochs = 5\n",
        "    batch_size = 6\n",
        "    seq_length = 512\n",
        "    lr = 2e-5\n",
        "    eps = 1e-8\n",
        "    pretrained_model = 'bert-base-uncased'\n",
        "    test_size=0.15\n",
        "    random_state=42\n",
        "    add_special_tokens=True\n",
        "    return_attention_mask=True\n",
        "    pad_to_max_length=True\n",
        "    do_lower_case=False\n",
        "    return_tensors='pt'\n",
        "\n",
        "config = Config()"
      ]
    },
    {
      "cell_type": "code",
      "execution_count": null,
      "metadata": {
        "id": "HwhjYDRvU28H"
      },
      "outputs": [],
      "source": [
        "# params will be saved after training\n",
        "params = {\"seed_val\": config.seed_val,\n",
        "    \"device\":str(config.device),\n",
        "    \"epochs\":config.epochs,\n",
        "    \"batch_size\":config.batch_size,\n",
        "    \"seq_length\":config.seq_length,\n",
        "    \"lr\":config.lr,\n",
        "    \"eps\":config.eps,\n",
        "    \"pretrained_model\": config.pretrained_model,\n",
        "    \"test_size\":config.test_size,\n",
        "    \"random_state\":config.random_state,\n",
        "    \"add_special_tokens\":config.add_special_tokens,\n",
        "    \"return_attention_mask\":config.return_attention_mask,\n",
        "    \"pad_to_max_length\":config.pad_to_max_length,\n",
        "    \"do_lower_case\":config.do_lower_case,\n",
        "    \"return_tensors\":config.return_tensors,\n",
        "         }"
      ]
    },
    {
      "cell_type": "code",
      "execution_count": null,
      "metadata": {
        "id": "9WYAmtclVBxH"
      },
      "outputs": [],
      "source": [
        "# set random seed and device\n",
        "import random\n",
        "\n",
        "device = config.device\n",
        "\n",
        "random.seed(config.seed_val)\n",
        "np.random.seed(config.seed_val)\n",
        "torch.manual_seed(config.seed_val)\n",
        "torch.cuda.manual_seed_all(config.seed_val)"
      ]
    },
    {
      "cell_type": "code",
      "execution_count": null,
      "metadata": {
        "colab": {
          "base_uri": "https://localhost:8080/",
          "height": 250
        },
        "id": "3pGHMj3CVHdC",
        "outputId": "38f94bf4-d309-4935-e442-7ad919da8de7"
      },
      "outputs": [
        {
          "data": {
            "text/html": [
              "\n",
              "\n",
              "  <div id=\"df-fd6bccfd-0524-4902-a93a-4eae155fc4a6\">\n",
              "    <div class=\"colab-df-container\">\n",
              "      <div>\n",
              "<style scoped>\n",
              "    .dataframe tbody tr th:only-of-type {\n",
              "        vertical-align: middle;\n",
              "    }\n",
              "\n",
              "    .dataframe tbody tr th {\n",
              "        vertical-align: top;\n",
              "    }\n",
              "\n",
              "    .dataframe thead th {\n",
              "        text-align: right;\n",
              "    }\n",
              "</style>\n",
              "<table border=\"1\" class=\"dataframe\">\n",
              "  <thead>\n",
              "    <tr style=\"text-align: right;\">\n",
              "      <th></th>\n",
              "      <th>Sentence</th>\n",
              "      <th>Sentiment</th>\n",
              "      <th>label</th>\n",
              "      <th>tokenized_review</th>\n",
              "      <th>sent_token_length</th>\n",
              "      <th>sent_bert_token_length</th>\n",
              "    </tr>\n",
              "  </thead>\n",
              "  <tbody>\n",
              "    <tr>\n",
              "      <th>0</th>\n",
              "      <td>the geosolutions technology will leverage bene...</td>\n",
              "      <td>positive</td>\n",
              "      <td>2</td>\n",
              "      <td>the geosolutions technology will leverage bene...</td>\n",
              "      <td>29</td>\n",
              "      <td>34</td>\n",
              "    </tr>\n",
              "    <tr>\n",
              "      <th>1</th>\n",
              "      <td>esi on lows  down  1 50 to  2 50 bk a real po...</td>\n",
              "      <td>negative</td>\n",
              "      <td>0</td>\n",
              "      <td>esi on lows down 1 50 to 2 50 bk a real possib...</td>\n",
              "      <td>13</td>\n",
              "      <td>15</td>\n",
              "    </tr>\n",
              "    <tr>\n",
              "      <th>2</th>\n",
              "      <td>for the last quarter of 2010   componenta  s n...</td>\n",
              "      <td>positive</td>\n",
              "      <td>2</td>\n",
              "      <td>for the last quarter of 2010 componenta s net ...</td>\n",
              "      <td>44</td>\n",
              "      <td>50</td>\n",
              "    </tr>\n",
              "    <tr>\n",
              "      <th>3</th>\n",
              "      <td>according to the finnish russian chamber of co...</td>\n",
              "      <td>neutral</td>\n",
              "      <td>1</td>\n",
              "      <td>according to the finnish russian chamber of co...</td>\n",
              "      <td>19</td>\n",
              "      <td>19</td>\n",
              "    </tr>\n",
              "    <tr>\n",
              "      <th>4</th>\n",
              "      <td>the swedish buyout firm has sold its remaining...</td>\n",
              "      <td>neutral</td>\n",
              "      <td>1</td>\n",
              "      <td>the swedish buyout firm has sold its remaining...</td>\n",
              "      <td>22</td>\n",
              "      <td>23</td>\n",
              "    </tr>\n",
              "  </tbody>\n",
              "</table>\n",
              "</div>\n",
              "      <button class=\"colab-df-convert\" onclick=\"convertToInteractive('df-fd6bccfd-0524-4902-a93a-4eae155fc4a6')\"\n",
              "              title=\"Convert this dataframe to an interactive table.\"\n",
              "              style=\"display:none;\">\n",
              "\n",
              "  <svg xmlns=\"http://www.w3.org/2000/svg\" height=\"24px\"viewBox=\"0 0 24 24\"\n",
              "       width=\"24px\">\n",
              "    <path d=\"M0 0h24v24H0V0z\" fill=\"none\"/>\n",
              "    <path d=\"M18.56 5.44l.94 2.06.94-2.06 2.06-.94-2.06-.94-.94-2.06-.94 2.06-2.06.94zm-11 1L8.5 8.5l.94-2.06 2.06-.94-2.06-.94L8.5 2.5l-.94 2.06-2.06.94zm10 10l.94 2.06.94-2.06 2.06-.94-2.06-.94-.94-2.06-.94 2.06-2.06.94z\"/><path d=\"M17.41 7.96l-1.37-1.37c-.4-.4-.92-.59-1.43-.59-.52 0-1.04.2-1.43.59L10.3 9.45l-7.72 7.72c-.78.78-.78 2.05 0 2.83L4 21.41c.39.39.9.59 1.41.59.51 0 1.02-.2 1.41-.59l7.78-7.78 2.81-2.81c.8-.78.8-2.07 0-2.86zM5.41 20L4 18.59l7.72-7.72 1.47 1.35L5.41 20z\"/>\n",
              "  </svg>\n",
              "      </button>\n",
              "\n",
              "\n",
              "\n",
              "    <div id=\"df-f2de4a4c-c0e4-426d-8e29-e2e502d95926\">\n",
              "      <button class=\"colab-df-quickchart\" onclick=\"quickchart('df-f2de4a4c-c0e4-426d-8e29-e2e502d95926')\"\n",
              "              title=\"Suggest charts.\"\n",
              "              style=\"display:none;\">\n",
              "\n",
              "<svg xmlns=\"http://www.w3.org/2000/svg\" height=\"24px\"viewBox=\"0 0 24 24\"\n",
              "     width=\"24px\">\n",
              "    <g>\n",
              "        <path d=\"M19 3H5c-1.1 0-2 .9-2 2v14c0 1.1.9 2 2 2h14c1.1 0 2-.9 2-2V5c0-1.1-.9-2-2-2zM9 17H7v-7h2v7zm4 0h-2V7h2v10zm4 0h-2v-4h2v4z\"/>\n",
              "    </g>\n",
              "</svg>\n",
              "      </button>\n",
              "    </div>\n",
              "\n",
              "<style>\n",
              "  .colab-df-quickchart {\n",
              "    background-color: #E8F0FE;\n",
              "    border: none;\n",
              "    border-radius: 50%;\n",
              "    cursor: pointer;\n",
              "    display: none;\n",
              "    fill: #1967D2;\n",
              "    height: 32px;\n",
              "    padding: 0 0 0 0;\n",
              "    width: 32px;\n",
              "  }\n",
              "\n",
              "  .colab-df-quickchart:hover {\n",
              "    background-color: #E2EBFA;\n",
              "    box-shadow: 0px 1px 2px rgba(60, 64, 67, 0.3), 0px 1px 3px 1px rgba(60, 64, 67, 0.15);\n",
              "    fill: #174EA6;\n",
              "  }\n",
              "\n",
              "  [theme=dark] .colab-df-quickchart {\n",
              "    background-color: #3B4455;\n",
              "    fill: #D2E3FC;\n",
              "  }\n",
              "\n",
              "  [theme=dark] .colab-df-quickchart:hover {\n",
              "    background-color: #434B5C;\n",
              "    box-shadow: 0px 1px 3px 1px rgba(0, 0, 0, 0.15);\n",
              "    filter: drop-shadow(0px 1px 2px rgba(0, 0, 0, 0.3));\n",
              "    fill: #FFFFFF;\n",
              "  }\n",
              "</style>\n",
              "\n",
              "    <script>\n",
              "      async function quickchart(key) {\n",
              "        const containerElement = document.querySelector('#' + key);\n",
              "        const charts = await google.colab.kernel.invokeFunction(\n",
              "            'suggestCharts', [key], {});\n",
              "      }\n",
              "    </script>\n",
              "\n",
              "      <script>\n",
              "\n",
              "function displayQuickchartButton(domScope) {\n",
              "  let quickchartButtonEl =\n",
              "    domScope.querySelector('#df-f2de4a4c-c0e4-426d-8e29-e2e502d95926 button.colab-df-quickchart');\n",
              "  quickchartButtonEl.style.display =\n",
              "    google.colab.kernel.accessAllowed ? 'block' : 'none';\n",
              "}\n",
              "\n",
              "        displayQuickchartButton(document);\n",
              "      </script>\n",
              "      <style>\n",
              "    .colab-df-container {\n",
              "      display:flex;\n",
              "      flex-wrap:wrap;\n",
              "      gap: 12px;\n",
              "    }\n",
              "\n",
              "    .colab-df-convert {\n",
              "      background-color: #E8F0FE;\n",
              "      border: none;\n",
              "      border-radius: 50%;\n",
              "      cursor: pointer;\n",
              "      display: none;\n",
              "      fill: #1967D2;\n",
              "      height: 32px;\n",
              "      padding: 0 0 0 0;\n",
              "      width: 32px;\n",
              "    }\n",
              "\n",
              "    .colab-df-convert:hover {\n",
              "      background-color: #E2EBFA;\n",
              "      box-shadow: 0px 1px 2px rgba(60, 64, 67, 0.3), 0px 1px 3px 1px rgba(60, 64, 67, 0.15);\n",
              "      fill: #174EA6;\n",
              "    }\n",
              "\n",
              "    [theme=dark] .colab-df-convert {\n",
              "      background-color: #3B4455;\n",
              "      fill: #D2E3FC;\n",
              "    }\n",
              "\n",
              "    [theme=dark] .colab-df-convert:hover {\n",
              "      background-color: #434B5C;\n",
              "      box-shadow: 0px 1px 3px 1px rgba(0, 0, 0, 0.15);\n",
              "      filter: drop-shadow(0px 1px 2px rgba(0, 0, 0, 0.3));\n",
              "      fill: #FFFFFF;\n",
              "    }\n",
              "  </style>\n",
              "\n",
              "      <script>\n",
              "        const buttonEl =\n",
              "          document.querySelector('#df-fd6bccfd-0524-4902-a93a-4eae155fc4a6 button.colab-df-convert');\n",
              "        buttonEl.style.display =\n",
              "          google.colab.kernel.accessAllowed ? 'block' : 'none';\n",
              "\n",
              "        async function convertToInteractive(key) {\n",
              "          const element = document.querySelector('#df-fd6bccfd-0524-4902-a93a-4eae155fc4a6');\n",
              "          const dataTable =\n",
              "            await google.colab.kernel.invokeFunction('convertToInteractive',\n",
              "                                                     [key], {});\n",
              "          if (!dataTable) return;\n",
              "\n",
              "          const docLinkHtml = 'Like what you see? Visit the ' +\n",
              "            '<a target=\"_blank\" href=https://colab.research.google.com/notebooks/data_table.ipynb>data table notebook</a>'\n",
              "            + ' to learn more about interactive tables.';\n",
              "          element.innerHTML = '';\n",
              "          dataTable['output_type'] = 'display_data';\n",
              "          await google.colab.output.renderOutput(dataTable, element);\n",
              "          const docLink = document.createElement('div');\n",
              "          docLink.innerHTML = docLinkHtml;\n",
              "          element.appendChild(docLink);\n",
              "        }\n",
              "      </script>\n",
              "    </div>\n",
              "  </div>\n"
            ],
            "text/plain": [
              "                                            Sentence Sentiment  label  \\\n",
              "0  the geosolutions technology will leverage bene...  positive      2   \n",
              "1   esi on lows  down  1 50 to  2 50 bk a real po...  negative      0   \n",
              "2  for the last quarter of 2010   componenta  s n...  positive      2   \n",
              "3  according to the finnish russian chamber of co...   neutral      1   \n",
              "4  the swedish buyout firm has sold its remaining...   neutral      1   \n",
              "\n",
              "                                    tokenized_review  sent_token_length  \\\n",
              "0  the geosolutions technology will leverage bene...                 29   \n",
              "1  esi on lows down 1 50 to 2 50 bk a real possib...                 13   \n",
              "2  for the last quarter of 2010 componenta s net ...                 44   \n",
              "3  according to the finnish russian chamber of co...                 19   \n",
              "4  the swedish buyout firm has sold its remaining...                 22   \n",
              "\n",
              "   sent_bert_token_length  \n",
              "0                      34  \n",
              "1                      15  \n",
              "2                      50  \n",
              "3                      19  \n",
              "4                      23  "
            ]
          },
          "execution_count": 41,
          "metadata": {},
          "output_type": "execute_result"
        }
      ],
      "source": [
        "df.head()"
      ]
    },
    {
      "cell_type": "markdown",
      "metadata": {
        "id": "kB1ngp3SVRkf"
      },
      "source": [
        "Train and Validation Split"
      ]
    },
    {
      "cell_type": "code",
      "execution_count": null,
      "metadata": {
        "id": "5S-MDt0mVSO9"
      },
      "outputs": [],
      "source": [
        "#split train test\n",
        "from sklearn.model_selection import train_test_split\n",
        "\n",
        "train_df_, val_df = train_test_split(df, test_size=0.10, random_state=config.random_state, stratify=df.label.values)"
      ]
    },
    {
      "cell_type": "code",
      "execution_count": null,
      "metadata": {
        "colab": {
          "base_uri": "https://localhost:8080/",
          "height": 250
        },
        "id": "FfJwdeGkYgx7",
        "outputId": "51b03225-33b9-42a9-9f00-18c037872d68"
      },
      "outputs": [
        {
          "data": {
            "text/html": [
              "\n",
              "\n",
              "  <div id=\"df-36a0ae07-25eb-4517-9246-ab2c1e106028\">\n",
              "    <div class=\"colab-df-container\">\n",
              "      <div>\n",
              "<style scoped>\n",
              "    .dataframe tbody tr th:only-of-type {\n",
              "        vertical-align: middle;\n",
              "    }\n",
              "\n",
              "    .dataframe tbody tr th {\n",
              "        vertical-align: top;\n",
              "    }\n",
              "\n",
              "    .dataframe thead th {\n",
              "        text-align: right;\n",
              "    }\n",
              "</style>\n",
              "<table border=\"1\" class=\"dataframe\">\n",
              "  <thead>\n",
              "    <tr style=\"text-align: right;\">\n",
              "      <th></th>\n",
              "      <th>Sentence</th>\n",
              "      <th>Sentiment</th>\n",
              "      <th>label</th>\n",
              "      <th>tokenized_review</th>\n",
              "      <th>sent_token_length</th>\n",
              "      <th>sent_bert_token_length</th>\n",
              "    </tr>\n",
              "  </thead>\n",
              "  <tbody>\n",
              "    <tr>\n",
              "      <th>5076</th>\n",
              "      <td>shire share price under pressure after  32bn b...</td>\n",
              "      <td>negative</td>\n",
              "      <td>0</td>\n",
              "      <td>shire share price under pressure after 32 bn b...</td>\n",
              "      <td>10</td>\n",
              "      <td>12</td>\n",
              "    </tr>\n",
              "    <tr>\n",
              "      <th>5093</th>\n",
              "      <td>nflx  3  of the lows</td>\n",
              "      <td>positive</td>\n",
              "      <td>2</td>\n",
              "      <td>nflx 3 of the lows</td>\n",
              "      <td>5</td>\n",
              "      <td>7</td>\n",
              "    </tr>\n",
              "    <tr>\n",
              "      <th>524</th>\n",
              "      <td>okmetic  s products are based on high tech exp...</td>\n",
              "      <td>positive</td>\n",
              "      <td>2</td>\n",
              "      <td>okmetic s products are based on high tech expe...</td>\n",
              "      <td>24</td>\n",
              "      <td>26</td>\n",
              "    </tr>\n",
              "    <tr>\n",
              "      <th>2683</th>\n",
              "      <td>ponsse will divide its sales and maintenance s...</td>\n",
              "      <td>neutral</td>\n",
              "      <td>1</td>\n",
              "      <td>ponsse will divide its sales and maintenance s...</td>\n",
              "      <td>13</td>\n",
              "      <td>15</td>\n",
              "    </tr>\n",
              "    <tr>\n",
              "      <th>89</th>\n",
              "      <td>in september 2010   the finnish group agreed t...</td>\n",
              "      <td>positive</td>\n",
              "      <td>2</td>\n",
              "      <td>in september 2010 the finnish group agreed to ...</td>\n",
              "      <td>29</td>\n",
              "      <td>30</td>\n",
              "    </tr>\n",
              "  </tbody>\n",
              "</table>\n",
              "</div>\n",
              "      <button class=\"colab-df-convert\" onclick=\"convertToInteractive('df-36a0ae07-25eb-4517-9246-ab2c1e106028')\"\n",
              "              title=\"Convert this dataframe to an interactive table.\"\n",
              "              style=\"display:none;\">\n",
              "\n",
              "  <svg xmlns=\"http://www.w3.org/2000/svg\" height=\"24px\"viewBox=\"0 0 24 24\"\n",
              "       width=\"24px\">\n",
              "    <path d=\"M0 0h24v24H0V0z\" fill=\"none\"/>\n",
              "    <path d=\"M18.56 5.44l.94 2.06.94-2.06 2.06-.94-2.06-.94-.94-2.06-.94 2.06-2.06.94zm-11 1L8.5 8.5l.94-2.06 2.06-.94-2.06-.94L8.5 2.5l-.94 2.06-2.06.94zm10 10l.94 2.06.94-2.06 2.06-.94-2.06-.94-.94-2.06-.94 2.06-2.06.94z\"/><path d=\"M17.41 7.96l-1.37-1.37c-.4-.4-.92-.59-1.43-.59-.52 0-1.04.2-1.43.59L10.3 9.45l-7.72 7.72c-.78.78-.78 2.05 0 2.83L4 21.41c.39.39.9.59 1.41.59.51 0 1.02-.2 1.41-.59l7.78-7.78 2.81-2.81c.8-.78.8-2.07 0-2.86zM5.41 20L4 18.59l7.72-7.72 1.47 1.35L5.41 20z\"/>\n",
              "  </svg>\n",
              "      </button>\n",
              "\n",
              "\n",
              "\n",
              "    <div id=\"df-bc51fc20-b0d2-454c-afc0-1079ec8a0946\">\n",
              "      <button class=\"colab-df-quickchart\" onclick=\"quickchart('df-bc51fc20-b0d2-454c-afc0-1079ec8a0946')\"\n",
              "              title=\"Suggest charts.\"\n",
              "              style=\"display:none;\">\n",
              "\n",
              "<svg xmlns=\"http://www.w3.org/2000/svg\" height=\"24px\"viewBox=\"0 0 24 24\"\n",
              "     width=\"24px\">\n",
              "    <g>\n",
              "        <path d=\"M19 3H5c-1.1 0-2 .9-2 2v14c0 1.1.9 2 2 2h14c1.1 0 2-.9 2-2V5c0-1.1-.9-2-2-2zM9 17H7v-7h2v7zm4 0h-2V7h2v10zm4 0h-2v-4h2v4z\"/>\n",
              "    </g>\n",
              "</svg>\n",
              "      </button>\n",
              "    </div>\n",
              "\n",
              "<style>\n",
              "  .colab-df-quickchart {\n",
              "    background-color: #E8F0FE;\n",
              "    border: none;\n",
              "    border-radius: 50%;\n",
              "    cursor: pointer;\n",
              "    display: none;\n",
              "    fill: #1967D2;\n",
              "    height: 32px;\n",
              "    padding: 0 0 0 0;\n",
              "    width: 32px;\n",
              "  }\n",
              "\n",
              "  .colab-df-quickchart:hover {\n",
              "    background-color: #E2EBFA;\n",
              "    box-shadow: 0px 1px 2px rgba(60, 64, 67, 0.3), 0px 1px 3px 1px rgba(60, 64, 67, 0.15);\n",
              "    fill: #174EA6;\n",
              "  }\n",
              "\n",
              "  [theme=dark] .colab-df-quickchart {\n",
              "    background-color: #3B4455;\n",
              "    fill: #D2E3FC;\n",
              "  }\n",
              "\n",
              "  [theme=dark] .colab-df-quickchart:hover {\n",
              "    background-color: #434B5C;\n",
              "    box-shadow: 0px 1px 3px 1px rgba(0, 0, 0, 0.15);\n",
              "    filter: drop-shadow(0px 1px 2px rgba(0, 0, 0, 0.3));\n",
              "    fill: #FFFFFF;\n",
              "  }\n",
              "</style>\n",
              "\n",
              "    <script>\n",
              "      async function quickchart(key) {\n",
              "        const containerElement = document.querySelector('#' + key);\n",
              "        const charts = await google.colab.kernel.invokeFunction(\n",
              "            'suggestCharts', [key], {});\n",
              "      }\n",
              "    </script>\n",
              "\n",
              "      <script>\n",
              "\n",
              "function displayQuickchartButton(domScope) {\n",
              "  let quickchartButtonEl =\n",
              "    domScope.querySelector('#df-bc51fc20-b0d2-454c-afc0-1079ec8a0946 button.colab-df-quickchart');\n",
              "  quickchartButtonEl.style.display =\n",
              "    google.colab.kernel.accessAllowed ? 'block' : 'none';\n",
              "}\n",
              "\n",
              "        displayQuickchartButton(document);\n",
              "      </script>\n",
              "      <style>\n",
              "    .colab-df-container {\n",
              "      display:flex;\n",
              "      flex-wrap:wrap;\n",
              "      gap: 12px;\n",
              "    }\n",
              "\n",
              "    .colab-df-convert {\n",
              "      background-color: #E8F0FE;\n",
              "      border: none;\n",
              "      border-radius: 50%;\n",
              "      cursor: pointer;\n",
              "      display: none;\n",
              "      fill: #1967D2;\n",
              "      height: 32px;\n",
              "      padding: 0 0 0 0;\n",
              "      width: 32px;\n",
              "    }\n",
              "\n",
              "    .colab-df-convert:hover {\n",
              "      background-color: #E2EBFA;\n",
              "      box-shadow: 0px 1px 2px rgba(60, 64, 67, 0.3), 0px 1px 3px 1px rgba(60, 64, 67, 0.15);\n",
              "      fill: #174EA6;\n",
              "    }\n",
              "\n",
              "    [theme=dark] .colab-df-convert {\n",
              "      background-color: #3B4455;\n",
              "      fill: #D2E3FC;\n",
              "    }\n",
              "\n",
              "    [theme=dark] .colab-df-convert:hover {\n",
              "      background-color: #434B5C;\n",
              "      box-shadow: 0px 1px 3px 1px rgba(0, 0, 0, 0.15);\n",
              "      filter: drop-shadow(0px 1px 2px rgba(0, 0, 0, 0.3));\n",
              "      fill: #FFFFFF;\n",
              "    }\n",
              "  </style>\n",
              "\n",
              "      <script>\n",
              "        const buttonEl =\n",
              "          document.querySelector('#df-36a0ae07-25eb-4517-9246-ab2c1e106028 button.colab-df-convert');\n",
              "        buttonEl.style.display =\n",
              "          google.colab.kernel.accessAllowed ? 'block' : 'none';\n",
              "\n",
              "        async function convertToInteractive(key) {\n",
              "          const element = document.querySelector('#df-36a0ae07-25eb-4517-9246-ab2c1e106028');\n",
              "          const dataTable =\n",
              "            await google.colab.kernel.invokeFunction('convertToInteractive',\n",
              "                                                     [key], {});\n",
              "          if (!dataTable) return;\n",
              "\n",
              "          const docLinkHtml = 'Like what you see? Visit the ' +\n",
              "            '<a target=\"_blank\" href=https://colab.research.google.com/notebooks/data_table.ipynb>data table notebook</a>'\n",
              "            + ' to learn more about interactive tables.';\n",
              "          element.innerHTML = '';\n",
              "          dataTable['output_type'] = 'display_data';\n",
              "          await google.colab.output.renderOutput(dataTable, element);\n",
              "          const docLink = document.createElement('div');\n",
              "          docLink.innerHTML = docLinkHtml;\n",
              "          element.appendChild(docLink);\n",
              "        }\n",
              "      </script>\n",
              "    </div>\n",
              "  </div>\n"
            ],
            "text/plain": [
              "                                               Sentence Sentiment  label  \\\n",
              "5076  shire share price under pressure after  32bn b...  negative      0   \n",
              "5093                               nflx  3  of the lows  positive      2   \n",
              "524   okmetic  s products are based on high tech exp...  positive      2   \n",
              "2683  ponsse will divide its sales and maintenance s...   neutral      1   \n",
              "89    in september 2010   the finnish group agreed t...  positive      2   \n",
              "\n",
              "                                       tokenized_review  sent_token_length  \\\n",
              "5076  shire share price under pressure after 32 bn b...                 10   \n",
              "5093                                 nflx 3 of the lows                  5   \n",
              "524   okmetic s products are based on high tech expe...                 24   \n",
              "2683  ponsse will divide its sales and maintenance s...                 13   \n",
              "89    in september 2010 the finnish group agreed to ...                 29   \n",
              "\n",
              "      sent_bert_token_length  \n",
              "5076                      12  \n",
              "5093                       7  \n",
              "524                       26  \n",
              "2683                      15  \n",
              "89                        30  "
            ]
          },
          "execution_count": 43,
          "metadata": {},
          "output_type": "execute_result"
        }
      ],
      "source": [
        "train_df_.head()"
      ]
    },
    {
      "cell_type": "code",
      "execution_count": null,
      "metadata": {
        "id": "5N8Wi7I8YpZ2"
      },
      "outputs": [],
      "source": [
        "train_df, test_df = train_test_split(train_df_, test_size=0.10, random_state=42, stratify=train_df_.label.values)"
      ]
    },
    {
      "cell_type": "code",
      "execution_count": null,
      "metadata": {
        "colab": {
          "base_uri": "https://localhost:8080/"
        },
        "id": "6TrLAmtwZDm2",
        "outputId": "019c047d-6cf3-408a-ceb3-c793b76b6bd6"
      },
      "outputs": [
        {
          "name": "stdout",
          "output_type": "stream",
          "text": [
            "3\n",
            "(4372, 6)\n"
          ]
        }
      ],
      "source": [
        "# count of unique label  control\n",
        "print(len(train_df['label'].unique()))\n",
        "print(train_df.shape)"
      ]
    },
    {
      "cell_type": "code",
      "execution_count": null,
      "metadata": {
        "colab": {
          "base_uri": "https://localhost:8080/"
        },
        "id": "XkAwLiuSZJJ-",
        "outputId": "1171314d-35b6-4de9-9a92-41d4b867351a"
      },
      "outputs": [
        {
          "name": "stdout",
          "output_type": "stream",
          "text": [
            "3\n",
            "(540, 6)\n"
          ]
        }
      ],
      "source": [
        "# count of unique label  control\n",
        "print(len(val_df['label'].unique()))\n",
        "print(val_df.shape)"
      ]
    },
    {
      "cell_type": "code",
      "execution_count": null,
      "metadata": {
        "colab": {
          "base_uri": "https://localhost:8080/"
        },
        "id": "XXsu1K9LZOAR",
        "outputId": "cbecce37-2f9f-4a1d-8e94-aec4fa37e021"
      },
      "outputs": [
        {
          "name": "stdout",
          "output_type": "stream",
          "text": [
            "3\n",
            "(486, 6)\n"
          ]
        }
      ],
      "source": [
        "print(len(test_df['label'].unique()))\n",
        "print(test_df.shape)"
      ]
    },
    {
      "cell_type": "markdown",
      "metadata": {
        "id": "GYbI0YmvZUbN"
      },
      "source": [
        "BertTokenizer and Encoding the Data\n"
      ]
    },
    {
      "cell_type": "code",
      "execution_count": null,
      "metadata": {
        "id": "FwHOrXxZZVR-"
      },
      "outputs": [],
      "source": [
        "# create tokenizer\n",
        "tokenizer = BertTokenizer.from_pretrained(config.pretrained_model, do_lower_case=config.do_lower_case)"
      ]
    },
    {
      "cell_type": "code",
      "execution_count": null,
      "metadata": {
        "colab": {
          "base_uri": "https://localhost:8080/"
        },
        "id": "geYxp4H3Zd-1",
        "outputId": "e3b9e365-605f-48ac-960b-026607647210"
      },
      "outputs": [
        {
          "name": "stderr",
          "output_type": "stream",
          "text": [
            "Truncation was not explicitly activated but `max_length` is provided a specific value, please use `truncation=True` to explicitly truncate examples to max length. Defaulting to 'longest_first' truncation strategy. If you encode pairs of sequences (GLUE-style) with the tokenizer you can select this strategy more precisely by providing a specific strategy to `truncation`.\n"
          ]
        }
      ],
      "source": [
        "encoded_data_train = tokenizer.batch_encode_plus(\n",
        "    train_df.Sentence.values,\n",
        "    add_special_tokens=config.add_special_tokens,\n",
        "    return_attention_mask=config.return_attention_mask,\n",
        "    pad_to_max_length=config.pad_to_max_length,\n",
        "    max_length=config.seq_length,\n",
        "    return_tensors=config.return_tensors\n",
        ")\n",
        "encoded_data_val = tokenizer.batch_encode_plus(\n",
        "    val_df.Sentence.values,\n",
        "    add_special_tokens=config.add_special_tokens,\n",
        "    return_attention_mask=config.return_attention_mask,\n",
        "    pad_to_max_length=config.pad_to_max_length,\n",
        "    max_length=config.seq_length,\n",
        "    return_tensors=config.return_tensors\n",
        ")"
      ]
    },
    {
      "cell_type": "code",
      "execution_count": null,
      "metadata": {
        "id": "Fb_L_kUSZtI3"
      },
      "outputs": [],
      "source": [
        "input_ids_train = encoded_data_train['input_ids']\n",
        "attention_masks_train = encoded_data_train['attention_mask']\n",
        "labels_train = torch.tensor(train_df.label.values)\n",
        "\n",
        "input_ids_val = encoded_data_val['input_ids']\n",
        "attention_masks_val = encoded_data_val['attention_mask']\n",
        "labels_val = torch.tensor(val_df.label.values)"
      ]
    },
    {
      "cell_type": "code",
      "execution_count": null,
      "metadata": {
        "id": "jZXeQavHZz2o"
      },
      "outputs": [],
      "source": [
        "dataset_train = TensorDataset(input_ids_train, attention_masks_train, labels_train)\n",
        "dataset_val = TensorDataset(input_ids_val, attention_masks_val, labels_val)"
      ]
    },
    {
      "cell_type": "markdown",
      "metadata": {
        "id": "uZ17rE6uZ4aN"
      },
      "source": [
        "### Creating the Model\n",
        "- bert-base-uncased is a smaller pre-trained model.\n",
        "- Using num_labels to indicate the number of output labels."
      ]
    },
    {
      "cell_type": "code",
      "execution_count": null,
      "metadata": {
        "colab": {
          "base_uri": "https://localhost:8080/",
          "height": 156,
          "referenced_widgets": [
            "537e7b7b05074716b00a0885487e543d",
            "42172e7d1b804d55b25118322591734f",
            "76f70d441c634106a47f7e899207c5a0",
            "1328d6f78705412ca41a824433136258",
            "612390563ced4c15a06a9629434c900d",
            "cf12c0b61e2248bcbaa8e1d7214060b3",
            "7cb1ea5d077c46b49bc8371a1b9dbecd",
            "f5e195ce74994f02a4459b04056e7264",
            "efd1c032229e401091dad602971e55d7",
            "fd7b742869d042a5974106f0f18c2531",
            "3c0642b4a05c46c794ff5232ad9a6f94"
          ]
        },
        "id": "eu6Mj4emZ2No",
        "outputId": "78e9a647-9159-4c08-f9a1-581049cce467"
      },
      "outputs": [
        {
          "data": {
            "application/vnd.jupyter.widget-view+json": {
              "model_id": "537e7b7b05074716b00a0885487e543d",
              "version_major": 2,
              "version_minor": 0
            },
            "text/plain": [
              "Downloading model.safetensors:   0%|          | 0.00/440M [00:00<?, ?B/s]"
            ]
          },
          "metadata": {},
          "output_type": "display_data"
        },
        {
          "name": "stderr",
          "output_type": "stream",
          "text": [
            "Some weights of the model checkpoint at bert-base-uncased were not used when initializing BertForSequenceClassification: ['cls.seq_relationship.weight', 'cls.predictions.transform.LayerNorm.weight', 'cls.predictions.transform.dense.bias', 'cls.predictions.transform.dense.weight', 'cls.predictions.bias', 'cls.seq_relationship.bias', 'cls.predictions.transform.LayerNorm.bias']\n",
            "- This IS expected if you are initializing BertForSequenceClassification from the checkpoint of a model trained on another task or with another architecture (e.g. initializing a BertForSequenceClassification model from a BertForPreTraining model).\n",
            "- This IS NOT expected if you are initializing BertForSequenceClassification from the checkpoint of a model that you expect to be exactly identical (initializing a BertForSequenceClassification model from a BertForSequenceClassification model).\n",
            "Some weights of BertForSequenceClassification were not initialized from the model checkpoint at bert-base-uncased and are newly initialized: ['classifier.weight', 'classifier.bias']\n",
            "You should probably TRAIN this model on a down-stream task to be able to use it for predictions and inference.\n"
          ]
        }
      ],
      "source": [
        "model = BertForSequenceClassification.from_pretrained(config.pretrained_model,\n",
        "                                                      num_labels=3,\n",
        "                                                      output_attentions=False,\n",
        "                                                      output_hidden_states=False)"
      ]
    },
    {
      "cell_type": "markdown",
      "metadata": {
        "id": "8Pj0wghUabqu"
      },
      "source": [
        "### Data Loaders\n",
        "- DataLoader combines a dataset and a sampler, and provides an iterable over the given dataset.\n",
        "- We use RandomSampler for training and SequentialSampler for validation.\n",
        "- Given the limited memory in my environment, I set batch_size=64."
      ]
    },
    {
      "cell_type": "code",
      "execution_count": null,
      "metadata": {
        "id": "Pt8Uqv5OabOW"
      },
      "outputs": [],
      "source": [
        "from torch.utils.data import DataLoader, RandomSampler, SequentialSampler\n",
        "\n",
        "dataloader_train = DataLoader(dataset_train,\n",
        "                              sampler=RandomSampler(dataset_train),\n",
        "                              batch_size=config.batch_size)\n",
        "\n",
        "dataloader_validation = DataLoader(dataset_val,\n",
        "                                   sampler=SequentialSampler(dataset_val),\n",
        "                                   batch_size=config.batch_size)"
      ]
    },
    {
      "cell_type": "markdown",
      "metadata": {
        "id": "S3SPH8HrbC6B"
      },
      "source": [
        "Optimizer & Scheduler"
      ]
    },
    {
      "cell_type": "code",
      "execution_count": null,
      "metadata": {
        "id": "jO9QyQQObDsH"
      },
      "outputs": [],
      "source": [
        "from transformers import AdamW, get_linear_schedule_with_warmup\n",
        "\n",
        "optimizer = AdamW(model.parameters(),\n",
        "                  lr=config.lr,\n",
        "                  eps=config.eps)\n",
        "\n",
        "\n",
        "scheduler = get_linear_schedule_with_warmup(optimizer,\n",
        "                                            num_warmup_steps=0,\n",
        "                                            num_training_steps=len(dataloader_train)*config.epochs)"
      ]
    },
    {
      "cell_type": "markdown",
      "metadata": {
        "id": "efN8RJHlbLkg"
      },
      "source": [
        "### Performance Metrics\n",
        "We will use f1 score as performance metrics."
      ]
    },
    {
      "cell_type": "code",
      "execution_count": null,
      "metadata": {
        "id": "aQSJzvS1bP9p"
      },
      "outputs": [],
      "source": [
        "from sklearn.metrics import f1_score\n",
        "\n",
        "def f1_score_func(preds, labels):\n",
        "    preds_flat = np.argmax(preds, axis=1).flatten()\n",
        "    labels_flat = labels.flatten()\n",
        "    return f1_score(labels_flat, preds_flat, average='weighted')\n",
        "\n",
        "def accuracy_per_class(preds, labels, label_dict):\n",
        "    label_dict_inverse = {v: k for k, v in label_dict.items()}\n",
        "\n",
        "    preds_flat = np.argmax(preds, axis=1).flatten()\n",
        "    labels_flat = labels.flatten()\n",
        "\n",
        "    for label in np.unique(labels_flat):\n",
        "        y_preds = preds_flat[labels_flat==label]\n",
        "        y_true = labels_flat[labels_flat==label]\n",
        "        print(f'Class: {label_dict_inverse[label]}')\n",
        "        print(f'Accuracy: {len(y_preds[y_preds==label])}/{len(y_true)}\\n')"
      ]
    },
    {
      "cell_type": "markdown",
      "metadata": {
        "id": "PRSy6WgwcZ_L"
      },
      "source": [
        "### Training Loop"
      ]
    },
    {
      "cell_type": "code",
      "execution_count": null,
      "metadata": {
        "id": "9jGmIaDHcWKO"
      },
      "outputs": [],
      "source": [
        "def evaluate(dataloader_val):\n",
        "\n",
        "    model.eval()\n",
        "\n",
        "    loss_val_total = 0\n",
        "    predictions, true_vals = [], []\n",
        "\n",
        "    for batch in dataloader_val:\n",
        "\n",
        "        batch = tuple(b.to(config.device) for b in batch)\n",
        "\n",
        "        inputs = {'input_ids':      batch[0],\n",
        "                  'attention_mask': batch[1],\n",
        "                  'labels':         batch[2],\n",
        "                 }\n",
        "\n",
        "        with torch.no_grad():\n",
        "            outputs = model(**inputs)\n",
        "\n",
        "        loss = outputs[0]\n",
        "        logits = outputs[1]\n",
        "        loss_val_total += loss.item()\n",
        "\n",
        "        logits = logits.detach().cpu().numpy()\n",
        "        label_ids = inputs['labels'].cpu().numpy()\n",
        "        predictions.append(logits)\n",
        "        true_vals.append(label_ids)\n",
        "\n",
        "    # calculate avareage val loss\n",
        "    loss_val_avg = loss_val_total/len(dataloader_val)\n",
        "\n",
        "    predictions = np.concatenate(predictions, axis=0)\n",
        "    true_vals = np.concatenate(true_vals, axis=0)\n",
        "\n",
        "    return loss_val_avg, predictions, true_vals"
      ]
    },
    {
      "cell_type": "code",
      "execution_count": null,
      "metadata": {
        "colab": {
          "base_uri": "https://localhost:8080/"
        },
        "id": "bfU8dtXNcnf7",
        "outputId": "d1b8a066-914b-49ad-b18a-6e738f028367"
      },
      "outputs": [
        {
          "data": {
            "text/plain": [
              "device(type='cpu')"
            ]
          },
          "execution_count": 57,
          "metadata": {},
          "output_type": "execute_result"
        }
      ],
      "source": [
        "config.device"
      ]
    },
    {
      "cell_type": "code",
      "execution_count": null,
      "metadata": {
        "colab": {
          "background_save": true,
          "base_uri": "https://localhost:8080/",
          "height": 81,
          "referenced_widgets": [
            "b5bce32629eb4984bf5562f81d618ec5",
            "2dd027b6a6324b21ab3eeadb6e024471",
            "40078693d4b2498e9468d3c2936b39f9",
            "309dc3bcbbbd476694d8173f345c8d0c",
            "fe5dff8f7ca64bbeaa37562bc808d306",
            "d8df9059474c468990741b9d0cfc564a",
            "f8378975bb7f42918642e1c9519de02d",
            "e611e42a945c47dcb13078891da0e00b",
            "fbf4b6d40ff2402fadcddb83cb482f54",
            "654264f6e4454a7ba9967f2f39e45e4a",
            "c7700989f43d41469201d0deb42e22c7",
            "398d4bf4ace94b3faa8876a446c39af8",
            "13576333b9834e2a834e3275c25b4f36",
            "e30c047aa36141ee8be1c0e68433210a",
            "daa86c800bd84f8099ed8065c86f165a",
            "62f261dbef2b4f07ac2b7e4771853471",
            "6a5fddf348204faebfc33374af47d87c",
            "c2d4b55ded7543d7863f81a6e0d1f11d",
            "de4caca1673e415596658bb41428adb3",
            "f3ae93468310440a93a12fbc6361a13e",
            "9f0c08ffb1a84383bf73cd6fbd7f81ef",
            "1009c301df794da1a780fcd42fb80030"
          ]
        },
        "id": "mGHAW3nBcuWQ",
        "outputId": "a3f4f971-3166-403e-a90a-d244b1b667b8"
      },
      "outputs": [
        {
          "data": {
            "application/vnd.jupyter.widget-view+json": {
              "model_id": "b5bce32629eb4984bf5562f81d618ec5",
              "version_major": 2,
              "version_minor": 0
            },
            "text/plain": [
              "  0%|          | 0/5 [00:00<?, ?it/s]"
            ]
          },
          "metadata": {},
          "output_type": "display_data"
        },
        {
          "data": {
            "application/vnd.jupyter.widget-view+json": {
              "model_id": "398d4bf4ace94b3faa8876a446c39af8",
              "version_major": 2,
              "version_minor": 0
            },
            "text/plain": [
              "Epoch 1:   0%|          | 0/729 [00:00<?, ?it/s]"
            ]
          },
          "metadata": {},
          "output_type": "display_data"
        }
      ],
      "source": [
        "model.to(config.device)\n",
        "\n",
        "for epoch in tqdm(range(1, config.epochs+1)):\n",
        "\n",
        "    model.train()\n",
        "\n",
        "    loss_train_total = 0\n",
        "    # allows you to see the progress of the training\n",
        "    progress_bar = tqdm(dataloader_train, desc='Epoch {:1d}'.format(epoch), leave=False, disable=False)\n",
        "\n",
        "    for batch in progress_bar:\n",
        "\n",
        "        model.zero_grad()\n",
        "\n",
        "        batch = tuple(b.to(config.device) for b in batch)\n",
        "\n",
        "\n",
        "        inputs = {'input_ids':      batch[0],\n",
        "                  'attention_mask': batch[1],\n",
        "                  'labels':         batch[2],\n",
        "                 }\n",
        "\n",
        "        outputs = model(**inputs)\n",
        "\n",
        "        loss = outputs[0]\n",
        "        loss_train_total += loss.item()\n",
        "        loss.backward()\n",
        "\n",
        "        torch.nn.utils.clip_grad_norm_(model.parameters(), 1.0)\n",
        "\n",
        "        optimizer.step()\n",
        "        scheduler.step()\n",
        "\n",
        "        progress_bar.set_postfix({'training_loss': '{:.3f}'.format(loss.item()/len(batch))})\n",
        "\n",
        "\n",
        "    torch.save(model.state_dict(), f'_BERT_epoch_{epoch}.model')\n",
        "\n",
        "    tqdm.write(f'\\nEpoch {epoch}')\n",
        "\n",
        "    loss_train_avg = loss_train_total/len(dataloader_train)\n",
        "    tqdm.write(f'Training loss: {loss_train_avg}')\n",
        "\n",
        "    val_loss, predictions, true_vals = evaluate(dataloader_validation)\n",
        "    val_f1 = f1_score_func(predictions, true_vals)\n",
        "    tqdm.write(f'Validation loss: {val_loss}')\n",
        "\n",
        "    tqdm.write(f'F1 Score (Weighted): {val_f1}');\n",
        "# save model params and other configs\n",
        "with Path('params.json').open(\"w\") as f:\n",
        "    json.dump(params, f, ensure_ascii=False, indent=4)"
      ]
    },
    {
      "cell_type": "markdown",
      "metadata": {
        "id": "yOrncRAhdJ7_"
      },
      "source": [
        "### Test on validation set"
      ]
    },
    {
      "cell_type": "code",
      "execution_count": null,
      "metadata": {
        "id": "-hv4cFzcdOtq"
      },
      "outputs": [],
      "source": [
        "model.load_state_dict(torch.load(f'./_BERT_epoch_3.model', map_location=torch.device('cpu')))"
      ]
    },
    {
      "cell_type": "code",
      "execution_count": null,
      "metadata": {
        "id": "LD9mE7acdfpc"
      },
      "outputs": [],
      "source": [
        "from sklearn.metrics import classification_report\n",
        "\n",
        "preds_flat = np.argmax(predictions, axis=1).flatten()\n",
        "print(classification_report(preds_flat, true_vals))"
      ]
    },
    {
      "cell_type": "markdown",
      "metadata": {
        "id": "A7wMIQfSdipQ"
      },
      "source": [
        "#4. ERROR ANALYSIS"
      ]
    },
    {
      "cell_type": "code",
      "execution_count": null,
      "metadata": {
        "id": "nDS0jrhWdlJP"
      },
      "outputs": [],
      "source": [
        "# step by step predictions on dataframe\n",
        "# We do this to view predictions in the pandas dataframe and easily filter them and perform error analysis.\n",
        "\n",
        "pred_final = []\n",
        "\n",
        "for i, row in tqdm(val_df.iterrows(), total=val_df.shape[0]):\n",
        "    predictions = []\n",
        "\n",
        "    review = row[\"Review\"]\n",
        "    encoded_data_test_single = tokenizer.batch_encode_plus(\n",
        "    [review],\n",
        "    add_special_tokens=config.add_special_tokens,\n",
        "    return_attention_mask=config.return_attention_mask,\n",
        "    pad_to_max_length=config.pad_to_max_length,\n",
        "    max_length=config.seq_length,\n",
        "    return_tensors=config.return_tensors\n",
        "    )\n",
        "    input_ids_test = encoded_data_test_single['input_ids']\n",
        "    attention_masks_test = encoded_data_test_single['attention_mask']\n",
        "\n",
        "\n",
        "    inputs = {'input_ids':      input_ids_test.to(device),\n",
        "              'attention_mask':attention_masks_test.to(device),\n",
        "             }\n",
        "\n",
        "    with torch.no_grad():\n",
        "        outputs = model(**inputs)\n",
        "\n",
        "    logits = outputs[0]\n",
        "    logits = logits.detach().cpu().numpy()\n",
        "    predictions.append(logits)\n",
        "    predictions = np.concatenate(predictions, axis=0)\n",
        "    pred_final.append(np.argmax(predictions, axis=1).flatten()[0])"
      ]
    },
    {
      "cell_type": "code",
      "execution_count": null,
      "metadata": {
        "id": "GE9xn48IdwtP"
      },
      "outputs": [],
      "source": [
        "# add pred into val_df\n",
        "val_df[\"pred\"] = pred_final"
      ]
    },
    {
      "cell_type": "code",
      "execution_count": null,
      "metadata": {
        "id": "FeOFEtR0dzBi"
      },
      "outputs": [],
      "source": [
        "#  Add control column for easier wrong and right predictions\n",
        "control = val_df.pred.values == val_df.label.values\n",
        "val_df[\"control\"] = control"
      ]
    },
    {
      "cell_type": "code",
      "execution_count": null,
      "metadata": {
        "id": "9GydIppUd1Ld"
      },
      "outputs": [],
      "source": [
        "# filtering false predictions\n",
        "val_df = val_df[val_df.control == False]"
      ]
    },
    {
      "cell_type": "code",
      "execution_count": null,
      "metadata": {
        "id": "DR4UyN7Gd4tq"
      },
      "outputs": [],
      "source": [
        "# buraları düzenle bbaaaabbaaaaa\n",
        "# label to intent mapping\n",
        "name2label = {\"Negative\":0,\n",
        "              \"Neutral\":1,\n",
        "             \"Positive\":2\n",
        "             }\n",
        "label2name = {v: k for k, v in name2label.items()}\n",
        "\n",
        "val_df[\"pred_name\"] = val_df.pred.apply(lambda x: label2name.get(x))"
      ]
    },
    {
      "cell_type": "code",
      "execution_count": null,
      "metadata": {
        "id": "khPu585sd5nb"
      },
      "outputs": [],
      "source": [
        "from sklearn.metrics import confusion_matrix\n",
        "\n",
        "# We create a confusion matrix to better observe the classes that the model confuses.\n",
        "pred_name_values = val_df.pred_name.values\n",
        "label_values = val_df.label_name.values\n",
        "confmat = confusion_matrix(label_values, pred_name_values, labels=list(name2label.keys()))"
      ]
    },
    {
      "cell_type": "code",
      "execution_count": null,
      "metadata": {
        "id": "0sWnPFZtd8NJ"
      },
      "outputs": [],
      "source": [
        "confmat"
      ]
    },
    {
      "cell_type": "code",
      "execution_count": null,
      "metadata": {
        "id": "DKC-V1z7d-H5"
      },
      "outputs": [],
      "source": [
        "df_confusion_val = pd.crosstab(label_values, pred_name_values)\n",
        "df_confusion_val"
      ]
    },
    {
      "cell_type": "code",
      "execution_count": null,
      "metadata": {
        "id": "ERV_rCyNeAVS"
      },
      "outputs": [],
      "source": [
        "# save confissuan matrix df\n",
        "df_confusion_val.to_csv(\"val_df_confusion.csv\")"
      ]
    },
    {
      "cell_type": "markdown",
      "metadata": {
        "id": "vCrp04drddqZ"
      },
      "source": [
        "# 5. Inference"
      ]
    },
    {
      "cell_type": "code",
      "execution_count": null,
      "metadata": {
        "id": "oi9MYYc2ddUR"
      },
      "outputs": [],
      "source": [
        "test_df.head()"
      ]
    },
    {
      "cell_type": "code",
      "execution_count": null,
      "metadata": {
        "id": "pz_ZZRsGdlWL"
      },
      "outputs": [],
      "source": [
        "encoded_data_test = tokenizer.batch_encode_plus(\n",
        "    test_df.Review.values,\n",
        "    add_special_tokens=config.add_special_tokens,\n",
        "    return_attention_mask=config.return_attention_mask,\n",
        "    pad_to_max_length=config.pad_to_max_length,\n",
        "    max_length=config.seq_length,\n",
        "    return_tensors=config.return_tensors\n",
        ")"
      ]
    },
    {
      "cell_type": "code",
      "execution_count": null,
      "metadata": {
        "id": "8RhmZyG-dpJ1"
      },
      "outputs": [],
      "source": [
        "input_ids_test = encoded_data_test['input_ids']\n",
        "attention_masks_test = encoded_data_test['attention_mask']\n",
        "labels_test = torch.tensor(test_df.label.values)"
      ]
    },
    {
      "cell_type": "code",
      "execution_count": null,
      "metadata": {
        "id": "c8eNMJybdsJO"
      },
      "outputs": [],
      "source": [
        "model = BertForSequenceClassification.from_pretrained(config.pretrained_model,\n",
        "                                                      num_labels=3,\n",
        "                                                      output_attentions=False,\n",
        "                                                      output_hidden_states=False)\n",
        "\n",
        "model.to(config.device)\n",
        "\n",
        "model.load_state_dict(torch.load(f'./_BERT_epoch_3.model', map_location=torch.device('cpu')))\n",
        "\n",
        "_, predictions_test, true_vals_test = evaluate(dataloader_validation)\n",
        "# accuracy_per_class(predictions, true_vals, intent2label)"
      ]
    },
    {
      "cell_type": "code",
      "execution_count": null,
      "metadata": {
        "id": "RzFsqATgd2oW"
      },
      "outputs": [],
      "source": [
        "from sklearn.metrics import classification_report\n",
        "\n",
        "preds_flat_test = np.argmax(predictions_test, axis=1).flatten()\n",
        "print(classification_report(preds_flat_test, true_vals_test))"
      ]
    },
    {
      "cell_type": "code",
      "execution_count": null,
      "metadata": {
        "id": "0SYp8zSid7Se"
      },
      "outputs": [],
      "source": [
        "pred_final = []\n",
        "\n",
        "for i, row in tqdm(test_df.iterrows(), total=test_df.shape[0]):\n",
        "    predictions = []\n",
        "\n",
        "    review = row[\"Review\"]\n",
        "    encoded_data_test_single = tokenizer.batch_encode_plus(\n",
        "    [review],\n",
        "    add_special_tokens=config.add_special_tokens,\n",
        "    return_attention_mask=config.return_attention_mask,\n",
        "    pad_to_max_length=config.pad_to_max_length,\n",
        "    max_length=config.seq_length,\n",
        "    return_tensors=config.return_tensors\n",
        "    )\n",
        "    input_ids_test = encoded_data_test_single['input_ids']\n",
        "    attention_masks_test = encoded_data_test_single['attention_mask']\n",
        "\n",
        "     inputs = {'input_ids':      input_ids_test.to(device),\n",
        "              'attention_mask':attention_masks_test.to(device),\n",
        "             }\n",
        "\n",
        "    with torch.no_grad():\n",
        "        outputs = model(**inputs)\n",
        "\n",
        "    logits = outputs[0]\n",
        "    logits = logits.detach().cpu().numpy()\n",
        "    predictions.append(logits)\n",
        "    predictions = np.concatenate(predictions, axis=0)\n",
        "    pred_final.append(np.argmax(predictions, axis=1).flatten()[0])"
      ]
    },
    {
      "cell_type": "code",
      "execution_count": null,
      "metadata": {
        "id": "0QJNsCyReDLx"
      },
      "outputs": [],
      "source": [
        "# add pred into test\n",
        "test_df[\"pred\"] = pred_final"
      ]
    },
    {
      "cell_type": "code",
      "execution_count": null,
      "metadata": {
        "id": "fxGMQiQyeD2f"
      },
      "outputs": [],
      "source": [
        "#  Add control column for easier wrong and right predictions\n",
        "control = test_df.pred.values == test_df.label.values\n",
        "test_df[\"control\"] = control"
      ]
    },
    {
      "cell_type": "code",
      "execution_count": null,
      "metadata": {
        "id": "KfIvkB-UeGX2"
      },
      "outputs": [],
      "source": [
        "# filtering false predictions\n",
        "test_df = test_df[test_df.control == False]"
      ]
    },
    {
      "cell_type": "code",
      "execution_count": null,
      "metadata": {
        "id": "d-yDeZtHeJtj"
      },
      "outputs": [],
      "source": [
        "test_df[\"pred_name\"] = test_df.pred.apply(lambda x: label2name.get(x))"
      ]
    },
    {
      "cell_type": "code",
      "execution_count": null,
      "metadata": {
        "id": "dIg5jVW3eM-C"
      },
      "outputs": [],
      "source": [
        "from sklearn.metrics import confusion_matrix\n",
        "\n",
        "# We create a confusion matrix to better observe the classes that the model confuses.\n",
        "pred_name_values = test_df.pred_name.values\n",
        "label_values = test_df.label_name.values\n",
        "confmat = confusion_matrix(label_values, pred_name_values, labels=list(name2label.keys()))"
      ]
    },
    {
      "cell_type": "code",
      "execution_count": null,
      "metadata": {
        "id": "aeNyYhIzeP0s"
      },
      "outputs": [],
      "source": [
        "confmat"
      ]
    },
    {
      "cell_type": "code",
      "execution_count": null,
      "metadata": {
        "id": "befbZGbCeR4g"
      },
      "outputs": [],
      "source": [
        "df_confusion_test = pd.crosstab(label_values, pred_name_values)\n",
        "df_confusion_test"
      ]
    },
    {
      "cell_type": "markdown",
      "metadata": {
        "id": "Mr9aJr3eeWEu"
      },
      "source": [
        "# 6. References\n",
        "1. [Hugging Face](https://huggingface.co/)\n",
        "2. [BERT: Pre-training of Deep Bidirectional Transformers for Language Understanding](https://arxiv.org/abs/1810.04805)\n",
        "3. [RoBERTa: A Robustly Optimized BERT Pretraining Approach](https://arxiv.org/abs/1907.11692)\n",
        "4. [XLNet: Generalized Autoregressive Pretraining for Language Understanding](https://arxiv.org/abs/1906.08237)\n",
        "5. [Coursera](https://www.coursera.org/projects/sentiment-analysis-bert)\n",
        "6. [Brand24](https://brand24.com/)\n",
        "7. [MonkeyLearn](https://monkeylearn.com/sentiment-analysis/)"
      ]
    }
  ],
  "metadata": {
    "colab": {
      "provenance": []
    },
    "kernelspec": {
      "display_name": "Python 3",
      "name": "python3"
    },
    "language_info": {
      "name": "python"
    },
    "widgets": {
      "application/vnd.jupyter.widget-state+json": {
        "03415d8e28a1426f9bcf479041ca732b": {
          "model_module": "@jupyter-widgets/controls",
          "model_module_version": "1.5.0",
          "model_name": "FloatProgressModel",
          "state": {
            "_dom_classes": [],
            "_model_module": "@jupyter-widgets/controls",
            "_model_module_version": "1.5.0",
            "_model_name": "FloatProgressModel",
            "_view_count": null,
            "_view_module": "@jupyter-widgets/controls",
            "_view_module_version": "1.5.0",
            "_view_name": "ProgressView",
            "bar_style": "success",
            "description": "",
            "description_tooltip": null,
            "layout": "IPY_MODEL_93f9dd8d4d284575a6441bfae10ce585",
            "max": 28,
            "min": 0,
            "orientation": "horizontal",
            "style": "IPY_MODEL_c2d524f33f6d4029bd653b523917584e",
            "value": 28
          }
        },
        "0345c5e8cb82421ca3ec17a6cfb10c6f": {
          "model_module": "@jupyter-widgets/base",
          "model_module_version": "1.2.0",
          "model_name": "LayoutModel",
          "state": {
            "_model_module": "@jupyter-widgets/base",
            "_model_module_version": "1.2.0",
            "_model_name": "LayoutModel",
            "_view_count": null,
            "_view_module": "@jupyter-widgets/base",
            "_view_module_version": "1.2.0",
            "_view_name": "LayoutView",
            "align_content": null,
            "align_items": null,
            "align_self": null,
            "border": null,
            "bottom": null,
            "display": null,
            "flex": null,
            "flex_flow": null,
            "grid_area": null,
            "grid_auto_columns": null,
            "grid_auto_flow": null,
            "grid_auto_rows": null,
            "grid_column": null,
            "grid_gap": null,
            "grid_row": null,
            "grid_template_areas": null,
            "grid_template_columns": null,
            "grid_template_rows": null,
            "height": null,
            "justify_content": null,
            "justify_items": null,
            "left": null,
            "margin": null,
            "max_height": null,
            "max_width": null,
            "min_height": null,
            "min_width": null,
            "object_fit": null,
            "object_position": null,
            "order": null,
            "overflow": null,
            "overflow_x": null,
            "overflow_y": null,
            "padding": null,
            "right": null,
            "top": null,
            "visibility": null,
            "width": null
          }
        },
        "1009c301df794da1a780fcd42fb80030": {
          "model_module": "@jupyter-widgets/controls",
          "model_module_version": "1.5.0",
          "model_name": "DescriptionStyleModel",
          "state": {
            "_model_module": "@jupyter-widgets/controls",
            "_model_module_version": "1.5.0",
            "_model_name": "DescriptionStyleModel",
            "_view_count": null,
            "_view_module": "@jupyter-widgets/base",
            "_view_module_version": "1.2.0",
            "_view_name": "StyleView",
            "description_width": ""
          }
        },
        "1328d6f78705412ca41a824433136258": {
          "model_module": "@jupyter-widgets/controls",
          "model_module_version": "1.5.0",
          "model_name": "HTMLModel",
          "state": {
            "_dom_classes": [],
            "_model_module": "@jupyter-widgets/controls",
            "_model_module_version": "1.5.0",
            "_model_name": "HTMLModel",
            "_view_count": null,
            "_view_module": "@jupyter-widgets/controls",
            "_view_module_version": "1.5.0",
            "_view_name": "HTMLView",
            "description": "",
            "description_tooltip": null,
            "layout": "IPY_MODEL_fd7b742869d042a5974106f0f18c2531",
            "placeholder": "​",
            "style": "IPY_MODEL_3c0642b4a05c46c794ff5232ad9a6f94",
            "value": " 440M/440M [00:05&lt;00:00, 77.9MB/s]"
          }
        },
        "13576333b9834e2a834e3275c25b4f36": {
          "model_module": "@jupyter-widgets/controls",
          "model_module_version": "1.5.0",
          "model_name": "HTMLModel",
          "state": {
            "_dom_classes": [],
            "_model_module": "@jupyter-widgets/controls",
            "_model_module_version": "1.5.0",
            "_model_name": "HTMLModel",
            "_view_count": null,
            "_view_module": "@jupyter-widgets/controls",
            "_view_module_version": "1.5.0",
            "_view_name": "HTMLView",
            "description": "",
            "description_tooltip": null,
            "layout": "IPY_MODEL_6a5fddf348204faebfc33374af47d87c",
            "placeholder": "​",
            "style": "IPY_MODEL_c2d4b55ded7543d7863f81a6e0d1f11d",
            "value": "Epoch 1:   0%"
          }
        },
        "24ee5cdefc4a4b4b9a9129d91cd8d418": {
          "model_module": "@jupyter-widgets/base",
          "model_module_version": "1.2.0",
          "model_name": "LayoutModel",
          "state": {
            "_model_module": "@jupyter-widgets/base",
            "_model_module_version": "1.2.0",
            "_model_name": "LayoutModel",
            "_view_count": null,
            "_view_module": "@jupyter-widgets/base",
            "_view_module_version": "1.2.0",
            "_view_name": "LayoutView",
            "align_content": null,
            "align_items": null,
            "align_self": null,
            "border": null,
            "bottom": null,
            "display": null,
            "flex": null,
            "flex_flow": null,
            "grid_area": null,
            "grid_auto_columns": null,
            "grid_auto_flow": null,
            "grid_auto_rows": null,
            "grid_column": null,
            "grid_gap": null,
            "grid_row": null,
            "grid_template_areas": null,
            "grid_template_columns": null,
            "grid_template_rows": null,
            "height": null,
            "justify_content": null,
            "justify_items": null,
            "left": null,
            "margin": null,
            "max_height": null,
            "max_width": null,
            "min_height": null,
            "min_width": null,
            "object_fit": null,
            "object_position": null,
            "order": null,
            "overflow": null,
            "overflow_x": null,
            "overflow_y": null,
            "padding": null,
            "right": null,
            "top": null,
            "visibility": null,
            "width": null
          }
        },
        "281a6b0986e34b3b981d472eb27e4c10": {
          "model_module": "@jupyter-widgets/base",
          "model_module_version": "1.2.0",
          "model_name": "LayoutModel",
          "state": {
            "_model_module": "@jupyter-widgets/base",
            "_model_module_version": "1.2.0",
            "_model_name": "LayoutModel",
            "_view_count": null,
            "_view_module": "@jupyter-widgets/base",
            "_view_module_version": "1.2.0",
            "_view_name": "LayoutView",
            "align_content": null,
            "align_items": null,
            "align_self": null,
            "border": null,
            "bottom": null,
            "display": null,
            "flex": null,
            "flex_flow": null,
            "grid_area": null,
            "grid_auto_columns": null,
            "grid_auto_flow": null,
            "grid_auto_rows": null,
            "grid_column": null,
            "grid_gap": null,
            "grid_row": null,
            "grid_template_areas": null,
            "grid_template_columns": null,
            "grid_template_rows": null,
            "height": null,
            "justify_content": null,
            "justify_items": null,
            "left": null,
            "margin": null,
            "max_height": null,
            "max_width": null,
            "min_height": null,
            "min_width": null,
            "object_fit": null,
            "object_position": null,
            "order": null,
            "overflow": null,
            "overflow_x": null,
            "overflow_y": null,
            "padding": null,
            "right": null,
            "top": null,
            "visibility": null,
            "width": null
          }
        },
        "2dd027b6a6324b21ab3eeadb6e024471": {
          "model_module": "@jupyter-widgets/controls",
          "model_module_version": "1.5.0",
          "model_name": "HTMLModel",
          "state": {
            "_dom_classes": [],
            "_model_module": "@jupyter-widgets/controls",
            "_model_module_version": "1.5.0",
            "_model_name": "HTMLModel",
            "_view_count": null,
            "_view_module": "@jupyter-widgets/controls",
            "_view_module_version": "1.5.0",
            "_view_name": "HTMLView",
            "description": "",
            "description_tooltip": null,
            "layout": "IPY_MODEL_d8df9059474c468990741b9d0cfc564a",
            "placeholder": "​",
            "style": "IPY_MODEL_f8378975bb7f42918642e1c9519de02d",
            "value": "  0%"
          }
        },
        "309dc3bcbbbd476694d8173f345c8d0c": {
          "model_module": "@jupyter-widgets/controls",
          "model_module_version": "1.5.0",
          "model_name": "HTMLModel",
          "state": {
            "_dom_classes": [],
            "_model_module": "@jupyter-widgets/controls",
            "_model_module_version": "1.5.0",
            "_model_name": "HTMLModel",
            "_view_count": null,
            "_view_module": "@jupyter-widgets/controls",
            "_view_module_version": "1.5.0",
            "_view_name": "HTMLView",
            "description": "",
            "description_tooltip": null,
            "layout": "IPY_MODEL_654264f6e4454a7ba9967f2f39e45e4a",
            "placeholder": "​",
            "style": "IPY_MODEL_c7700989f43d41469201d0deb42e22c7",
            "value": " 0/5 [00:00&lt;?, ?it/s]"
          }
        },
        "37e7e9817c06410f9b748e35650d374b": {
          "model_module": "@jupyter-widgets/controls",
          "model_module_version": "1.5.0",
          "model_name": "ProgressStyleModel",
          "state": {
            "_model_module": "@jupyter-widgets/controls",
            "_model_module_version": "1.5.0",
            "_model_name": "ProgressStyleModel",
            "_view_count": null,
            "_view_module": "@jupyter-widgets/base",
            "_view_module_version": "1.2.0",
            "_view_name": "StyleView",
            "bar_color": null,
            "description_width": ""
          }
        },
        "398d4bf4ace94b3faa8876a446c39af8": {
          "model_module": "@jupyter-widgets/controls",
          "model_module_version": "1.5.0",
          "model_name": "HBoxModel",
          "state": {
            "_dom_classes": [],
            "_model_module": "@jupyter-widgets/controls",
            "_model_module_version": "1.5.0",
            "_model_name": "HBoxModel",
            "_view_count": null,
            "_view_module": "@jupyter-widgets/controls",
            "_view_module_version": "1.5.0",
            "_view_name": "HBoxView",
            "box_style": "",
            "children": [
              "IPY_MODEL_13576333b9834e2a834e3275c25b4f36",
              "IPY_MODEL_e30c047aa36141ee8be1c0e68433210a",
              "IPY_MODEL_daa86c800bd84f8099ed8065c86f165a"
            ],
            "layout": "IPY_MODEL_62f261dbef2b4f07ac2b7e4771853471"
          }
        },
        "3c0642b4a05c46c794ff5232ad9a6f94": {
          "model_module": "@jupyter-widgets/controls",
          "model_module_version": "1.5.0",
          "model_name": "DescriptionStyleModel",
          "state": {
            "_model_module": "@jupyter-widgets/controls",
            "_model_module_version": "1.5.0",
            "_model_name": "DescriptionStyleModel",
            "_view_count": null,
            "_view_module": "@jupyter-widgets/base",
            "_view_module_version": "1.2.0",
            "_view_name": "StyleView",
            "description_width": ""
          }
        },
        "40078693d4b2498e9468d3c2936b39f9": {
          "model_module": "@jupyter-widgets/controls",
          "model_module_version": "1.5.0",
          "model_name": "FloatProgressModel",
          "state": {
            "_dom_classes": [],
            "_model_module": "@jupyter-widgets/controls",
            "_model_module_version": "1.5.0",
            "_model_name": "FloatProgressModel",
            "_view_count": null,
            "_view_module": "@jupyter-widgets/controls",
            "_view_module_version": "1.5.0",
            "_view_name": "ProgressView",
            "bar_style": "",
            "description": "",
            "description_tooltip": null,
            "layout": "IPY_MODEL_e611e42a945c47dcb13078891da0e00b",
            "max": 5,
            "min": 0,
            "orientation": "horizontal",
            "style": "IPY_MODEL_fbf4b6d40ff2402fadcddb83cb482f54",
            "value": 0
          }
        },
        "41e79f3419f94f7bad96ec5f4073cd8a": {
          "model_module": "@jupyter-widgets/controls",
          "model_module_version": "1.5.0",
          "model_name": "HTMLModel",
          "state": {
            "_dom_classes": [],
            "_model_module": "@jupyter-widgets/controls",
            "_model_module_version": "1.5.0",
            "_model_name": "HTMLModel",
            "_view_count": null,
            "_view_module": "@jupyter-widgets/controls",
            "_view_module_version": "1.5.0",
            "_view_name": "HTMLView",
            "description": "",
            "description_tooltip": null,
            "layout": "IPY_MODEL_d5f1705b20a84df3b23cb5242bb366b7",
            "placeholder": "​",
            "style": "IPY_MODEL_68ffea772e5e46989b13ec565409ea5d",
            "value": "Downloading (…)lve/main/config.json: 100%"
          }
        },
        "42172e7d1b804d55b25118322591734f": {
          "model_module": "@jupyter-widgets/controls",
          "model_module_version": "1.5.0",
          "model_name": "HTMLModel",
          "state": {
            "_dom_classes": [],
            "_model_module": "@jupyter-widgets/controls",
            "_model_module_version": "1.5.0",
            "_model_name": "HTMLModel",
            "_view_count": null,
            "_view_module": "@jupyter-widgets/controls",
            "_view_module_version": "1.5.0",
            "_view_name": "HTMLView",
            "description": "",
            "description_tooltip": null,
            "layout": "IPY_MODEL_cf12c0b61e2248bcbaa8e1d7214060b3",
            "placeholder": "​",
            "style": "IPY_MODEL_7cb1ea5d077c46b49bc8371a1b9dbecd",
            "value": "Downloading model.safetensors: 100%"
          }
        },
        "537e7b7b05074716b00a0885487e543d": {
          "model_module": "@jupyter-widgets/controls",
          "model_module_version": "1.5.0",
          "model_name": "HBoxModel",
          "state": {
            "_dom_classes": [],
            "_model_module": "@jupyter-widgets/controls",
            "_model_module_version": "1.5.0",
            "_model_name": "HBoxModel",
            "_view_count": null,
            "_view_module": "@jupyter-widgets/controls",
            "_view_module_version": "1.5.0",
            "_view_name": "HBoxView",
            "box_style": "",
            "children": [
              "IPY_MODEL_42172e7d1b804d55b25118322591734f",
              "IPY_MODEL_76f70d441c634106a47f7e899207c5a0",
              "IPY_MODEL_1328d6f78705412ca41a824433136258"
            ],
            "layout": "IPY_MODEL_612390563ced4c15a06a9629434c900d"
          }
        },
        "5971cdcee6344c9eb74f121191ef7561": {
          "model_module": "@jupyter-widgets/controls",
          "model_module_version": "1.5.0",
          "model_name": "DescriptionStyleModel",
          "state": {
            "_model_module": "@jupyter-widgets/controls",
            "_model_module_version": "1.5.0",
            "_model_name": "DescriptionStyleModel",
            "_view_count": null,
            "_view_module": "@jupyter-widgets/base",
            "_view_module_version": "1.2.0",
            "_view_name": "StyleView",
            "description_width": ""
          }
        },
        "5c141317f5bb4ace96e15e45792613b9": {
          "model_module": "@jupyter-widgets/controls",
          "model_module_version": "1.5.0",
          "model_name": "HBoxModel",
          "state": {
            "_dom_classes": [],
            "_model_module": "@jupyter-widgets/controls",
            "_model_module_version": "1.5.0",
            "_model_name": "HBoxModel",
            "_view_count": null,
            "_view_module": "@jupyter-widgets/controls",
            "_view_module_version": "1.5.0",
            "_view_name": "HBoxView",
            "box_style": "",
            "children": [
              "IPY_MODEL_c2d33c7ee25c49358c8985a2ece27c71",
              "IPY_MODEL_e1ea5a60285d4f0d9f0cd593154c0116",
              "IPY_MODEL_91dae7c77be646be9d854f3191f50ebf"
            ],
            "layout": "IPY_MODEL_0345c5e8cb82421ca3ec17a6cfb10c6f"
          }
        },
        "5d3d18a4f4ff43f582ffa53b28de7279": {
          "model_module": "@jupyter-widgets/base",
          "model_module_version": "1.2.0",
          "model_name": "LayoutModel",
          "state": {
            "_model_module": "@jupyter-widgets/base",
            "_model_module_version": "1.2.0",
            "_model_name": "LayoutModel",
            "_view_count": null,
            "_view_module": "@jupyter-widgets/base",
            "_view_module_version": "1.2.0",
            "_view_name": "LayoutView",
            "align_content": null,
            "align_items": null,
            "align_self": null,
            "border": null,
            "bottom": null,
            "display": null,
            "flex": null,
            "flex_flow": null,
            "grid_area": null,
            "grid_auto_columns": null,
            "grid_auto_flow": null,
            "grid_auto_rows": null,
            "grid_column": null,
            "grid_gap": null,
            "grid_row": null,
            "grid_template_areas": null,
            "grid_template_columns": null,
            "grid_template_rows": null,
            "height": null,
            "justify_content": null,
            "justify_items": null,
            "left": null,
            "margin": null,
            "max_height": null,
            "max_width": null,
            "min_height": null,
            "min_width": null,
            "object_fit": null,
            "object_position": null,
            "order": null,
            "overflow": null,
            "overflow_x": null,
            "overflow_y": null,
            "padding": null,
            "right": null,
            "top": null,
            "visibility": null,
            "width": null
          }
        },
        "5e6e5b3132ce4616a7d6aab898ccbb8d": {
          "model_module": "@jupyter-widgets/base",
          "model_module_version": "1.2.0",
          "model_name": "LayoutModel",
          "state": {
            "_model_module": "@jupyter-widgets/base",
            "_model_module_version": "1.2.0",
            "_model_name": "LayoutModel",
            "_view_count": null,
            "_view_module": "@jupyter-widgets/base",
            "_view_module_version": "1.2.0",
            "_view_name": "LayoutView",
            "align_content": null,
            "align_items": null,
            "align_self": null,
            "border": null,
            "bottom": null,
            "display": null,
            "flex": null,
            "flex_flow": null,
            "grid_area": null,
            "grid_auto_columns": null,
            "grid_auto_flow": null,
            "grid_auto_rows": null,
            "grid_column": null,
            "grid_gap": null,
            "grid_row": null,
            "grid_template_areas": null,
            "grid_template_columns": null,
            "grid_template_rows": null,
            "height": null,
            "justify_content": null,
            "justify_items": null,
            "left": null,
            "margin": null,
            "max_height": null,
            "max_width": null,
            "min_height": null,
            "min_width": null,
            "object_fit": null,
            "object_position": null,
            "order": null,
            "overflow": null,
            "overflow_x": null,
            "overflow_y": null,
            "padding": null,
            "right": null,
            "top": null,
            "visibility": null,
            "width": null
          }
        },
        "612390563ced4c15a06a9629434c900d": {
          "model_module": "@jupyter-widgets/base",
          "model_module_version": "1.2.0",
          "model_name": "LayoutModel",
          "state": {
            "_model_module": "@jupyter-widgets/base",
            "_model_module_version": "1.2.0",
            "_model_name": "LayoutModel",
            "_view_count": null,
            "_view_module": "@jupyter-widgets/base",
            "_view_module_version": "1.2.0",
            "_view_name": "LayoutView",
            "align_content": null,
            "align_items": null,
            "align_self": null,
            "border": null,
            "bottom": null,
            "display": null,
            "flex": null,
            "flex_flow": null,
            "grid_area": null,
            "grid_auto_columns": null,
            "grid_auto_flow": null,
            "grid_auto_rows": null,
            "grid_column": null,
            "grid_gap": null,
            "grid_row": null,
            "grid_template_areas": null,
            "grid_template_columns": null,
            "grid_template_rows": null,
            "height": null,
            "justify_content": null,
            "justify_items": null,
            "left": null,
            "margin": null,
            "max_height": null,
            "max_width": null,
            "min_height": null,
            "min_width": null,
            "object_fit": null,
            "object_position": null,
            "order": null,
            "overflow": null,
            "overflow_x": null,
            "overflow_y": null,
            "padding": null,
            "right": null,
            "top": null,
            "visibility": null,
            "width": null
          }
        },
        "62f261dbef2b4f07ac2b7e4771853471": {
          "model_module": "@jupyter-widgets/base",
          "model_module_version": "1.2.0",
          "model_name": "LayoutModel",
          "state": {
            "_model_module": "@jupyter-widgets/base",
            "_model_module_version": "1.2.0",
            "_model_name": "LayoutModel",
            "_view_count": null,
            "_view_module": "@jupyter-widgets/base",
            "_view_module_version": "1.2.0",
            "_view_name": "LayoutView",
            "align_content": null,
            "align_items": null,
            "align_self": null,
            "border": null,
            "bottom": null,
            "display": null,
            "flex": null,
            "flex_flow": null,
            "grid_area": null,
            "grid_auto_columns": null,
            "grid_auto_flow": null,
            "grid_auto_rows": null,
            "grid_column": null,
            "grid_gap": null,
            "grid_row": null,
            "grid_template_areas": null,
            "grid_template_columns": null,
            "grid_template_rows": null,
            "height": null,
            "justify_content": null,
            "justify_items": null,
            "left": null,
            "margin": null,
            "max_height": null,
            "max_width": null,
            "min_height": null,
            "min_width": null,
            "object_fit": null,
            "object_position": null,
            "order": null,
            "overflow": null,
            "overflow_x": null,
            "overflow_y": null,
            "padding": null,
            "right": null,
            "top": null,
            "visibility": null,
            "width": null
          }
        },
        "654264f6e4454a7ba9967f2f39e45e4a": {
          "model_module": "@jupyter-widgets/base",
          "model_module_version": "1.2.0",
          "model_name": "LayoutModel",
          "state": {
            "_model_module": "@jupyter-widgets/base",
            "_model_module_version": "1.2.0",
            "_model_name": "LayoutModel",
            "_view_count": null,
            "_view_module": "@jupyter-widgets/base",
            "_view_module_version": "1.2.0",
            "_view_name": "LayoutView",
            "align_content": null,
            "align_items": null,
            "align_self": null,
            "border": null,
            "bottom": null,
            "display": null,
            "flex": null,
            "flex_flow": null,
            "grid_area": null,
            "grid_auto_columns": null,
            "grid_auto_flow": null,
            "grid_auto_rows": null,
            "grid_column": null,
            "grid_gap": null,
            "grid_row": null,
            "grid_template_areas": null,
            "grid_template_columns": null,
            "grid_template_rows": null,
            "height": null,
            "justify_content": null,
            "justify_items": null,
            "left": null,
            "margin": null,
            "max_height": null,
            "max_width": null,
            "min_height": null,
            "min_width": null,
            "object_fit": null,
            "object_position": null,
            "order": null,
            "overflow": null,
            "overflow_x": null,
            "overflow_y": null,
            "padding": null,
            "right": null,
            "top": null,
            "visibility": null,
            "width": null
          }
        },
        "68ffea772e5e46989b13ec565409ea5d": {
          "model_module": "@jupyter-widgets/controls",
          "model_module_version": "1.5.0",
          "model_name": "DescriptionStyleModel",
          "state": {
            "_model_module": "@jupyter-widgets/controls",
            "_model_module_version": "1.5.0",
            "_model_name": "DescriptionStyleModel",
            "_view_count": null,
            "_view_module": "@jupyter-widgets/base",
            "_view_module_version": "1.2.0",
            "_view_name": "StyleView",
            "description_width": ""
          }
        },
        "6a5fddf348204faebfc33374af47d87c": {
          "model_module": "@jupyter-widgets/base",
          "model_module_version": "1.2.0",
          "model_name": "LayoutModel",
          "state": {
            "_model_module": "@jupyter-widgets/base",
            "_model_module_version": "1.2.0",
            "_model_name": "LayoutModel",
            "_view_count": null,
            "_view_module": "@jupyter-widgets/base",
            "_view_module_version": "1.2.0",
            "_view_name": "LayoutView",
            "align_content": null,
            "align_items": null,
            "align_self": null,
            "border": null,
            "bottom": null,
            "display": null,
            "flex": null,
            "flex_flow": null,
            "grid_area": null,
            "grid_auto_columns": null,
            "grid_auto_flow": null,
            "grid_auto_rows": null,
            "grid_column": null,
            "grid_gap": null,
            "grid_row": null,
            "grid_template_areas": null,
            "grid_template_columns": null,
            "grid_template_rows": null,
            "height": null,
            "justify_content": null,
            "justify_items": null,
            "left": null,
            "margin": null,
            "max_height": null,
            "max_width": null,
            "min_height": null,
            "min_width": null,
            "object_fit": null,
            "object_position": null,
            "order": null,
            "overflow": null,
            "overflow_x": null,
            "overflow_y": null,
            "padding": null,
            "right": null,
            "top": null,
            "visibility": null,
            "width": null
          }
        },
        "6d26e991ab9c4559a0c9560177d6ff78": {
          "model_module": "@jupyter-widgets/controls",
          "model_module_version": "1.5.0",
          "model_name": "HTMLModel",
          "state": {
            "_dom_classes": [],
            "_model_module": "@jupyter-widgets/controls",
            "_model_module_version": "1.5.0",
            "_model_name": "HTMLModel",
            "_view_count": null,
            "_view_module": "@jupyter-widgets/controls",
            "_view_module_version": "1.5.0",
            "_view_name": "HTMLView",
            "description": "",
            "description_tooltip": null,
            "layout": "IPY_MODEL_8cd682b696d54b07b5b5a71759729590",
            "placeholder": "​",
            "style": "IPY_MODEL_a378e88c23984668be29e9ffe8defa4a",
            "value": " 28.0/28.0 [00:00&lt;00:00, 639B/s]"
          }
        },
        "7147f57eeaf34abf8f717e50fcc83ba0": {
          "model_module": "@jupyter-widgets/controls",
          "model_module_version": "1.5.0",
          "model_name": "HTMLModel",
          "state": {
            "_dom_classes": [],
            "_model_module": "@jupyter-widgets/controls",
            "_model_module_version": "1.5.0",
            "_model_name": "HTMLModel",
            "_view_count": null,
            "_view_module": "@jupyter-widgets/controls",
            "_view_module_version": "1.5.0",
            "_view_name": "HTMLView",
            "description": "",
            "description_tooltip": null,
            "layout": "IPY_MODEL_5e6e5b3132ce4616a7d6aab898ccbb8d",
            "placeholder": "​",
            "style": "IPY_MODEL_80fe8653cc6a4be69619a8ed3b1eb596",
            "value": " 570/570 [00:00&lt;00:00, 22.0kB/s]"
          }
        },
        "725de979bee842c69664296b57368e2f": {
          "model_module": "@jupyter-widgets/base",
          "model_module_version": "1.2.0",
          "model_name": "LayoutModel",
          "state": {
            "_model_module": "@jupyter-widgets/base",
            "_model_module_version": "1.2.0",
            "_model_name": "LayoutModel",
            "_view_count": null,
            "_view_module": "@jupyter-widgets/base",
            "_view_module_version": "1.2.0",
            "_view_name": "LayoutView",
            "align_content": null,
            "align_items": null,
            "align_self": null,
            "border": null,
            "bottom": null,
            "display": null,
            "flex": null,
            "flex_flow": null,
            "grid_area": null,
            "grid_auto_columns": null,
            "grid_auto_flow": null,
            "grid_auto_rows": null,
            "grid_column": null,
            "grid_gap": null,
            "grid_row": null,
            "grid_template_areas": null,
            "grid_template_columns": null,
            "grid_template_rows": null,
            "height": null,
            "justify_content": null,
            "justify_items": null,
            "left": null,
            "margin": null,
            "max_height": null,
            "max_width": null,
            "min_height": null,
            "min_width": null,
            "object_fit": null,
            "object_position": null,
            "order": null,
            "overflow": null,
            "overflow_x": null,
            "overflow_y": null,
            "padding": null,
            "right": null,
            "top": null,
            "visibility": null,
            "width": null
          }
        },
        "76f70d441c634106a47f7e899207c5a0": {
          "model_module": "@jupyter-widgets/controls",
          "model_module_version": "1.5.0",
          "model_name": "FloatProgressModel",
          "state": {
            "_dom_classes": [],
            "_model_module": "@jupyter-widgets/controls",
            "_model_module_version": "1.5.0",
            "_model_name": "FloatProgressModel",
            "_view_count": null,
            "_view_module": "@jupyter-widgets/controls",
            "_view_module_version": "1.5.0",
            "_view_name": "ProgressView",
            "bar_style": "success",
            "description": "",
            "description_tooltip": null,
            "layout": "IPY_MODEL_f5e195ce74994f02a4459b04056e7264",
            "max": 440449768,
            "min": 0,
            "orientation": "horizontal",
            "style": "IPY_MODEL_efd1c032229e401091dad602971e55d7",
            "value": 440449768
          }
        },
        "776f367671374b1f8c2f2df39d94aea7": {
          "model_module": "@jupyter-widgets/base",
          "model_module_version": "1.2.0",
          "model_name": "LayoutModel",
          "state": {
            "_model_module": "@jupyter-widgets/base",
            "_model_module_version": "1.2.0",
            "_model_name": "LayoutModel",
            "_view_count": null,
            "_view_module": "@jupyter-widgets/base",
            "_view_module_version": "1.2.0",
            "_view_name": "LayoutView",
            "align_content": null,
            "align_items": null,
            "align_self": null,
            "border": null,
            "bottom": null,
            "display": null,
            "flex": null,
            "flex_flow": null,
            "grid_area": null,
            "grid_auto_columns": null,
            "grid_auto_flow": null,
            "grid_auto_rows": null,
            "grid_column": null,
            "grid_gap": null,
            "grid_row": null,
            "grid_template_areas": null,
            "grid_template_columns": null,
            "grid_template_rows": null,
            "height": null,
            "justify_content": null,
            "justify_items": null,
            "left": null,
            "margin": null,
            "max_height": null,
            "max_width": null,
            "min_height": null,
            "min_width": null,
            "object_fit": null,
            "object_position": null,
            "order": null,
            "overflow": null,
            "overflow_x": null,
            "overflow_y": null,
            "padding": null,
            "right": null,
            "top": null,
            "visibility": null,
            "width": null
          }
        },
        "78866b2d8daa4ca88cc8d59e94af00ff": {
          "model_module": "@jupyter-widgets/controls",
          "model_module_version": "1.5.0",
          "model_name": "DescriptionStyleModel",
          "state": {
            "_model_module": "@jupyter-widgets/controls",
            "_model_module_version": "1.5.0",
            "_model_name": "DescriptionStyleModel",
            "_view_count": null,
            "_view_module": "@jupyter-widgets/base",
            "_view_module_version": "1.2.0",
            "_view_name": "StyleView",
            "description_width": ""
          }
        },
        "7c95dcc65e334121921ed9784feb8141": {
          "model_module": "@jupyter-widgets/controls",
          "model_module_version": "1.5.0",
          "model_name": "HBoxModel",
          "state": {
            "_dom_classes": [],
            "_model_module": "@jupyter-widgets/controls",
            "_model_module_version": "1.5.0",
            "_model_name": "HBoxModel",
            "_view_count": null,
            "_view_module": "@jupyter-widgets/controls",
            "_view_module_version": "1.5.0",
            "_view_name": "HBoxView",
            "box_style": "",
            "children": [
              "IPY_MODEL_41e79f3419f94f7bad96ec5f4073cd8a",
              "IPY_MODEL_918d52497d2d4dca843f0dc57d120134",
              "IPY_MODEL_7147f57eeaf34abf8f717e50fcc83ba0"
            ],
            "layout": "IPY_MODEL_776f367671374b1f8c2f2df39d94aea7"
          }
        },
        "7cb1ea5d077c46b49bc8371a1b9dbecd": {
          "model_module": "@jupyter-widgets/controls",
          "model_module_version": "1.5.0",
          "model_name": "DescriptionStyleModel",
          "state": {
            "_model_module": "@jupyter-widgets/controls",
            "_model_module_version": "1.5.0",
            "_model_name": "DescriptionStyleModel",
            "_view_count": null,
            "_view_module": "@jupyter-widgets/base",
            "_view_module_version": "1.2.0",
            "_view_name": "StyleView",
            "description_width": ""
          }
        },
        "7e251a806a854b428027bdc9c54489dc": {
          "model_module": "@jupyter-widgets/controls",
          "model_module_version": "1.5.0",
          "model_name": "HTMLModel",
          "state": {
            "_dom_classes": [],
            "_model_module": "@jupyter-widgets/controls",
            "_model_module_version": "1.5.0",
            "_model_name": "HTMLModel",
            "_view_count": null,
            "_view_module": "@jupyter-widgets/controls",
            "_view_module_version": "1.5.0",
            "_view_name": "HTMLView",
            "description": "",
            "description_tooltip": null,
            "layout": "IPY_MODEL_b0d2de342c404ac7a1ba68ce0262130c",
            "placeholder": "​",
            "style": "IPY_MODEL_78866b2d8daa4ca88cc8d59e94af00ff",
            "value": "Downloading (…)okenizer_config.json: 100%"
          }
        },
        "80fe8653cc6a4be69619a8ed3b1eb596": {
          "model_module": "@jupyter-widgets/controls",
          "model_module_version": "1.5.0",
          "model_name": "DescriptionStyleModel",
          "state": {
            "_model_module": "@jupyter-widgets/controls",
            "_model_module_version": "1.5.0",
            "_model_name": "DescriptionStyleModel",
            "_view_count": null,
            "_view_module": "@jupyter-widgets/base",
            "_view_module_version": "1.2.0",
            "_view_name": "StyleView",
            "description_width": ""
          }
        },
        "849a0404df5d47dcb219ac265acee227": {
          "model_module": "@jupyter-widgets/controls",
          "model_module_version": "1.5.0",
          "model_name": "HBoxModel",
          "state": {
            "_dom_classes": [],
            "_model_module": "@jupyter-widgets/controls",
            "_model_module_version": "1.5.0",
            "_model_name": "HBoxModel",
            "_view_count": null,
            "_view_module": "@jupyter-widgets/controls",
            "_view_module_version": "1.5.0",
            "_view_name": "HBoxView",
            "box_style": "",
            "children": [
              "IPY_MODEL_7e251a806a854b428027bdc9c54489dc",
              "IPY_MODEL_03415d8e28a1426f9bcf479041ca732b",
              "IPY_MODEL_6d26e991ab9c4559a0c9560177d6ff78"
            ],
            "layout": "IPY_MODEL_24ee5cdefc4a4b4b9a9129d91cd8d418"
          }
        },
        "8cd682b696d54b07b5b5a71759729590": {
          "model_module": "@jupyter-widgets/base",
          "model_module_version": "1.2.0",
          "model_name": "LayoutModel",
          "state": {
            "_model_module": "@jupyter-widgets/base",
            "_model_module_version": "1.2.0",
            "_model_name": "LayoutModel",
            "_view_count": null,
            "_view_module": "@jupyter-widgets/base",
            "_view_module_version": "1.2.0",
            "_view_name": "LayoutView",
            "align_content": null,
            "align_items": null,
            "align_self": null,
            "border": null,
            "bottom": null,
            "display": null,
            "flex": null,
            "flex_flow": null,
            "grid_area": null,
            "grid_auto_columns": null,
            "grid_auto_flow": null,
            "grid_auto_rows": null,
            "grid_column": null,
            "grid_gap": null,
            "grid_row": null,
            "grid_template_areas": null,
            "grid_template_columns": null,
            "grid_template_rows": null,
            "height": null,
            "justify_content": null,
            "justify_items": null,
            "left": null,
            "margin": null,
            "max_height": null,
            "max_width": null,
            "min_height": null,
            "min_width": null,
            "object_fit": null,
            "object_position": null,
            "order": null,
            "overflow": null,
            "overflow_x": null,
            "overflow_y": null,
            "padding": null,
            "right": null,
            "top": null,
            "visibility": null,
            "width": null
          }
        },
        "918d52497d2d4dca843f0dc57d120134": {
          "model_module": "@jupyter-widgets/controls",
          "model_module_version": "1.5.0",
          "model_name": "FloatProgressModel",
          "state": {
            "_dom_classes": [],
            "_model_module": "@jupyter-widgets/controls",
            "_model_module_version": "1.5.0",
            "_model_name": "FloatProgressModel",
            "_view_count": null,
            "_view_module": "@jupyter-widgets/controls",
            "_view_module_version": "1.5.0",
            "_view_name": "ProgressView",
            "bar_style": "success",
            "description": "",
            "description_tooltip": null,
            "layout": "IPY_MODEL_d214297404ea4b74ad85e02153e5e0d2",
            "max": 570,
            "min": 0,
            "orientation": "horizontal",
            "style": "IPY_MODEL_37e7e9817c06410f9b748e35650d374b",
            "value": 570
          }
        },
        "91dae7c77be646be9d854f3191f50ebf": {
          "model_module": "@jupyter-widgets/controls",
          "model_module_version": "1.5.0",
          "model_name": "HTMLModel",
          "state": {
            "_dom_classes": [],
            "_model_module": "@jupyter-widgets/controls",
            "_model_module_version": "1.5.0",
            "_model_name": "HTMLModel",
            "_view_count": null,
            "_view_module": "@jupyter-widgets/controls",
            "_view_module_version": "1.5.0",
            "_view_name": "HTMLView",
            "description": "",
            "description_tooltip": null,
            "layout": "IPY_MODEL_725de979bee842c69664296b57368e2f",
            "placeholder": "​",
            "style": "IPY_MODEL_5971cdcee6344c9eb74f121191ef7561",
            "value": " 232k/232k [00:00&lt;00:00, 1.72MB/s]"
          }
        },
        "93f9dd8d4d284575a6441bfae10ce585": {
          "model_module": "@jupyter-widgets/base",
          "model_module_version": "1.2.0",
          "model_name": "LayoutModel",
          "state": {
            "_model_module": "@jupyter-widgets/base",
            "_model_module_version": "1.2.0",
            "_model_name": "LayoutModel",
            "_view_count": null,
            "_view_module": "@jupyter-widgets/base",
            "_view_module_version": "1.2.0",
            "_view_name": "LayoutView",
            "align_content": null,
            "align_items": null,
            "align_self": null,
            "border": null,
            "bottom": null,
            "display": null,
            "flex": null,
            "flex_flow": null,
            "grid_area": null,
            "grid_auto_columns": null,
            "grid_auto_flow": null,
            "grid_auto_rows": null,
            "grid_column": null,
            "grid_gap": null,
            "grid_row": null,
            "grid_template_areas": null,
            "grid_template_columns": null,
            "grid_template_rows": null,
            "height": null,
            "justify_content": null,
            "justify_items": null,
            "left": null,
            "margin": null,
            "max_height": null,
            "max_width": null,
            "min_height": null,
            "min_width": null,
            "object_fit": null,
            "object_position": null,
            "order": null,
            "overflow": null,
            "overflow_x": null,
            "overflow_y": null,
            "padding": null,
            "right": null,
            "top": null,
            "visibility": null,
            "width": null
          }
        },
        "9d8d8d9683234598ba9b3696ec8c6f6c": {
          "model_module": "@jupyter-widgets/controls",
          "model_module_version": "1.5.0",
          "model_name": "ProgressStyleModel",
          "state": {
            "_model_module": "@jupyter-widgets/controls",
            "_model_module_version": "1.5.0",
            "_model_name": "ProgressStyleModel",
            "_view_count": null,
            "_view_module": "@jupyter-widgets/base",
            "_view_module_version": "1.2.0",
            "_view_name": "StyleView",
            "bar_color": null,
            "description_width": ""
          }
        },
        "9f0c08ffb1a84383bf73cd6fbd7f81ef": {
          "model_module": "@jupyter-widgets/base",
          "model_module_version": "1.2.0",
          "model_name": "LayoutModel",
          "state": {
            "_model_module": "@jupyter-widgets/base",
            "_model_module_version": "1.2.0",
            "_model_name": "LayoutModel",
            "_view_count": null,
            "_view_module": "@jupyter-widgets/base",
            "_view_module_version": "1.2.0",
            "_view_name": "LayoutView",
            "align_content": null,
            "align_items": null,
            "align_self": null,
            "border": null,
            "bottom": null,
            "display": null,
            "flex": null,
            "flex_flow": null,
            "grid_area": null,
            "grid_auto_columns": null,
            "grid_auto_flow": null,
            "grid_auto_rows": null,
            "grid_column": null,
            "grid_gap": null,
            "grid_row": null,
            "grid_template_areas": null,
            "grid_template_columns": null,
            "grid_template_rows": null,
            "height": null,
            "justify_content": null,
            "justify_items": null,
            "left": null,
            "margin": null,
            "max_height": null,
            "max_width": null,
            "min_height": null,
            "min_width": null,
            "object_fit": null,
            "object_position": null,
            "order": null,
            "overflow": null,
            "overflow_x": null,
            "overflow_y": null,
            "padding": null,
            "right": null,
            "top": null,
            "visibility": null,
            "width": null
          }
        },
        "a378e88c23984668be29e9ffe8defa4a": {
          "model_module": "@jupyter-widgets/controls",
          "model_module_version": "1.5.0",
          "model_name": "DescriptionStyleModel",
          "state": {
            "_model_module": "@jupyter-widgets/controls",
            "_model_module_version": "1.5.0",
            "_model_name": "DescriptionStyleModel",
            "_view_count": null,
            "_view_module": "@jupyter-widgets/base",
            "_view_module_version": "1.2.0",
            "_view_name": "StyleView",
            "description_width": ""
          }
        },
        "b0d2de342c404ac7a1ba68ce0262130c": {
          "model_module": "@jupyter-widgets/base",
          "model_module_version": "1.2.0",
          "model_name": "LayoutModel",
          "state": {
            "_model_module": "@jupyter-widgets/base",
            "_model_module_version": "1.2.0",
            "_model_name": "LayoutModel",
            "_view_count": null,
            "_view_module": "@jupyter-widgets/base",
            "_view_module_version": "1.2.0",
            "_view_name": "LayoutView",
            "align_content": null,
            "align_items": null,
            "align_self": null,
            "border": null,
            "bottom": null,
            "display": null,
            "flex": null,
            "flex_flow": null,
            "grid_area": null,
            "grid_auto_columns": null,
            "grid_auto_flow": null,
            "grid_auto_rows": null,
            "grid_column": null,
            "grid_gap": null,
            "grid_row": null,
            "grid_template_areas": null,
            "grid_template_columns": null,
            "grid_template_rows": null,
            "height": null,
            "justify_content": null,
            "justify_items": null,
            "left": null,
            "margin": null,
            "max_height": null,
            "max_width": null,
            "min_height": null,
            "min_width": null,
            "object_fit": null,
            "object_position": null,
            "order": null,
            "overflow": null,
            "overflow_x": null,
            "overflow_y": null,
            "padding": null,
            "right": null,
            "top": null,
            "visibility": null,
            "width": null
          }
        },
        "b5bce32629eb4984bf5562f81d618ec5": {
          "model_module": "@jupyter-widgets/controls",
          "model_module_version": "1.5.0",
          "model_name": "HBoxModel",
          "state": {
            "_dom_classes": [],
            "_model_module": "@jupyter-widgets/controls",
            "_model_module_version": "1.5.0",
            "_model_name": "HBoxModel",
            "_view_count": null,
            "_view_module": "@jupyter-widgets/controls",
            "_view_module_version": "1.5.0",
            "_view_name": "HBoxView",
            "box_style": "",
            "children": [
              "IPY_MODEL_2dd027b6a6324b21ab3eeadb6e024471",
              "IPY_MODEL_40078693d4b2498e9468d3c2936b39f9",
              "IPY_MODEL_309dc3bcbbbd476694d8173f345c8d0c"
            ],
            "layout": "IPY_MODEL_fe5dff8f7ca64bbeaa37562bc808d306"
          }
        },
        "c2d33c7ee25c49358c8985a2ece27c71": {
          "model_module": "@jupyter-widgets/controls",
          "model_module_version": "1.5.0",
          "model_name": "HTMLModel",
          "state": {
            "_dom_classes": [],
            "_model_module": "@jupyter-widgets/controls",
            "_model_module_version": "1.5.0",
            "_model_name": "HTMLModel",
            "_view_count": null,
            "_view_module": "@jupyter-widgets/controls",
            "_view_module_version": "1.5.0",
            "_view_name": "HTMLView",
            "description": "",
            "description_tooltip": null,
            "layout": "IPY_MODEL_281a6b0986e34b3b981d472eb27e4c10",
            "placeholder": "​",
            "style": "IPY_MODEL_eaca5cbb426a42268f195e525ee9b72c",
            "value": "Downloading (…)solve/main/vocab.txt: 100%"
          }
        },
        "c2d4b55ded7543d7863f81a6e0d1f11d": {
          "model_module": "@jupyter-widgets/controls",
          "model_module_version": "1.5.0",
          "model_name": "DescriptionStyleModel",
          "state": {
            "_model_module": "@jupyter-widgets/controls",
            "_model_module_version": "1.5.0",
            "_model_name": "DescriptionStyleModel",
            "_view_count": null,
            "_view_module": "@jupyter-widgets/base",
            "_view_module_version": "1.2.0",
            "_view_name": "StyleView",
            "description_width": ""
          }
        },
        "c2d524f33f6d4029bd653b523917584e": {
          "model_module": "@jupyter-widgets/controls",
          "model_module_version": "1.5.0",
          "model_name": "ProgressStyleModel",
          "state": {
            "_model_module": "@jupyter-widgets/controls",
            "_model_module_version": "1.5.0",
            "_model_name": "ProgressStyleModel",
            "_view_count": null,
            "_view_module": "@jupyter-widgets/base",
            "_view_module_version": "1.2.0",
            "_view_name": "StyleView",
            "bar_color": null,
            "description_width": ""
          }
        },
        "c7700989f43d41469201d0deb42e22c7": {
          "model_module": "@jupyter-widgets/controls",
          "model_module_version": "1.5.0",
          "model_name": "DescriptionStyleModel",
          "state": {
            "_model_module": "@jupyter-widgets/controls",
            "_model_module_version": "1.5.0",
            "_model_name": "DescriptionStyleModel",
            "_view_count": null,
            "_view_module": "@jupyter-widgets/base",
            "_view_module_version": "1.2.0",
            "_view_name": "StyleView",
            "description_width": ""
          }
        },
        "cf12c0b61e2248bcbaa8e1d7214060b3": {
          "model_module": "@jupyter-widgets/base",
          "model_module_version": "1.2.0",
          "model_name": "LayoutModel",
          "state": {
            "_model_module": "@jupyter-widgets/base",
            "_model_module_version": "1.2.0",
            "_model_name": "LayoutModel",
            "_view_count": null,
            "_view_module": "@jupyter-widgets/base",
            "_view_module_version": "1.2.0",
            "_view_name": "LayoutView",
            "align_content": null,
            "align_items": null,
            "align_self": null,
            "border": null,
            "bottom": null,
            "display": null,
            "flex": null,
            "flex_flow": null,
            "grid_area": null,
            "grid_auto_columns": null,
            "grid_auto_flow": null,
            "grid_auto_rows": null,
            "grid_column": null,
            "grid_gap": null,
            "grid_row": null,
            "grid_template_areas": null,
            "grid_template_columns": null,
            "grid_template_rows": null,
            "height": null,
            "justify_content": null,
            "justify_items": null,
            "left": null,
            "margin": null,
            "max_height": null,
            "max_width": null,
            "min_height": null,
            "min_width": null,
            "object_fit": null,
            "object_position": null,
            "order": null,
            "overflow": null,
            "overflow_x": null,
            "overflow_y": null,
            "padding": null,
            "right": null,
            "top": null,
            "visibility": null,
            "width": null
          }
        },
        "d214297404ea4b74ad85e02153e5e0d2": {
          "model_module": "@jupyter-widgets/base",
          "model_module_version": "1.2.0",
          "model_name": "LayoutModel",
          "state": {
            "_model_module": "@jupyter-widgets/base",
            "_model_module_version": "1.2.0",
            "_model_name": "LayoutModel",
            "_view_count": null,
            "_view_module": "@jupyter-widgets/base",
            "_view_module_version": "1.2.0",
            "_view_name": "LayoutView",
            "align_content": null,
            "align_items": null,
            "align_self": null,
            "border": null,
            "bottom": null,
            "display": null,
            "flex": null,
            "flex_flow": null,
            "grid_area": null,
            "grid_auto_columns": null,
            "grid_auto_flow": null,
            "grid_auto_rows": null,
            "grid_column": null,
            "grid_gap": null,
            "grid_row": null,
            "grid_template_areas": null,
            "grid_template_columns": null,
            "grid_template_rows": null,
            "height": null,
            "justify_content": null,
            "justify_items": null,
            "left": null,
            "margin": null,
            "max_height": null,
            "max_width": null,
            "min_height": null,
            "min_width": null,
            "object_fit": null,
            "object_position": null,
            "order": null,
            "overflow": null,
            "overflow_x": null,
            "overflow_y": null,
            "padding": null,
            "right": null,
            "top": null,
            "visibility": null,
            "width": null
          }
        },
        "d5f1705b20a84df3b23cb5242bb366b7": {
          "model_module": "@jupyter-widgets/base",
          "model_module_version": "1.2.0",
          "model_name": "LayoutModel",
          "state": {
            "_model_module": "@jupyter-widgets/base",
            "_model_module_version": "1.2.0",
            "_model_name": "LayoutModel",
            "_view_count": null,
            "_view_module": "@jupyter-widgets/base",
            "_view_module_version": "1.2.0",
            "_view_name": "LayoutView",
            "align_content": null,
            "align_items": null,
            "align_self": null,
            "border": null,
            "bottom": null,
            "display": null,
            "flex": null,
            "flex_flow": null,
            "grid_area": null,
            "grid_auto_columns": null,
            "grid_auto_flow": null,
            "grid_auto_rows": null,
            "grid_column": null,
            "grid_gap": null,
            "grid_row": null,
            "grid_template_areas": null,
            "grid_template_columns": null,
            "grid_template_rows": null,
            "height": null,
            "justify_content": null,
            "justify_items": null,
            "left": null,
            "margin": null,
            "max_height": null,
            "max_width": null,
            "min_height": null,
            "min_width": null,
            "object_fit": null,
            "object_position": null,
            "order": null,
            "overflow": null,
            "overflow_x": null,
            "overflow_y": null,
            "padding": null,
            "right": null,
            "top": null,
            "visibility": null,
            "width": null
          }
        },
        "d8df9059474c468990741b9d0cfc564a": {
          "model_module": "@jupyter-widgets/base",
          "model_module_version": "1.2.0",
          "model_name": "LayoutModel",
          "state": {
            "_model_module": "@jupyter-widgets/base",
            "_model_module_version": "1.2.0",
            "_model_name": "LayoutModel",
            "_view_count": null,
            "_view_module": "@jupyter-widgets/base",
            "_view_module_version": "1.2.0",
            "_view_name": "LayoutView",
            "align_content": null,
            "align_items": null,
            "align_self": null,
            "border": null,
            "bottom": null,
            "display": null,
            "flex": null,
            "flex_flow": null,
            "grid_area": null,
            "grid_auto_columns": null,
            "grid_auto_flow": null,
            "grid_auto_rows": null,
            "grid_column": null,
            "grid_gap": null,
            "grid_row": null,
            "grid_template_areas": null,
            "grid_template_columns": null,
            "grid_template_rows": null,
            "height": null,
            "justify_content": null,
            "justify_items": null,
            "left": null,
            "margin": null,
            "max_height": null,
            "max_width": null,
            "min_height": null,
            "min_width": null,
            "object_fit": null,
            "object_position": null,
            "order": null,
            "overflow": null,
            "overflow_x": null,
            "overflow_y": null,
            "padding": null,
            "right": null,
            "top": null,
            "visibility": null,
            "width": null
          }
        },
        "daa86c800bd84f8099ed8065c86f165a": {
          "model_module": "@jupyter-widgets/controls",
          "model_module_version": "1.5.0",
          "model_name": "HTMLModel",
          "state": {
            "_dom_classes": [],
            "_model_module": "@jupyter-widgets/controls",
            "_model_module_version": "1.5.0",
            "_model_name": "HTMLModel",
            "_view_count": null,
            "_view_module": "@jupyter-widgets/controls",
            "_view_module_version": "1.5.0",
            "_view_name": "HTMLView",
            "description": "",
            "description_tooltip": null,
            "layout": "IPY_MODEL_9f0c08ffb1a84383bf73cd6fbd7f81ef",
            "placeholder": "​",
            "style": "IPY_MODEL_1009c301df794da1a780fcd42fb80030",
            "value": " 0/729 [00:00&lt;?, ?it/s]"
          }
        },
        "de4caca1673e415596658bb41428adb3": {
          "model_module": "@jupyter-widgets/base",
          "model_module_version": "1.2.0",
          "model_name": "LayoutModel",
          "state": {
            "_model_module": "@jupyter-widgets/base",
            "_model_module_version": "1.2.0",
            "_model_name": "LayoutModel",
            "_view_count": null,
            "_view_module": "@jupyter-widgets/base",
            "_view_module_version": "1.2.0",
            "_view_name": "LayoutView",
            "align_content": null,
            "align_items": null,
            "align_self": null,
            "border": null,
            "bottom": null,
            "display": null,
            "flex": null,
            "flex_flow": null,
            "grid_area": null,
            "grid_auto_columns": null,
            "grid_auto_flow": null,
            "grid_auto_rows": null,
            "grid_column": null,
            "grid_gap": null,
            "grid_row": null,
            "grid_template_areas": null,
            "grid_template_columns": null,
            "grid_template_rows": null,
            "height": null,
            "justify_content": null,
            "justify_items": null,
            "left": null,
            "margin": null,
            "max_height": null,
            "max_width": null,
            "min_height": null,
            "min_width": null,
            "object_fit": null,
            "object_position": null,
            "order": null,
            "overflow": null,
            "overflow_x": null,
            "overflow_y": null,
            "padding": null,
            "right": null,
            "top": null,
            "visibility": null,
            "width": null
          }
        },
        "e1ea5a60285d4f0d9f0cd593154c0116": {
          "model_module": "@jupyter-widgets/controls",
          "model_module_version": "1.5.0",
          "model_name": "FloatProgressModel",
          "state": {
            "_dom_classes": [],
            "_model_module": "@jupyter-widgets/controls",
            "_model_module_version": "1.5.0",
            "_model_name": "FloatProgressModel",
            "_view_count": null,
            "_view_module": "@jupyter-widgets/controls",
            "_view_module_version": "1.5.0",
            "_view_name": "ProgressView",
            "bar_style": "success",
            "description": "",
            "description_tooltip": null,
            "layout": "IPY_MODEL_5d3d18a4f4ff43f582ffa53b28de7279",
            "max": 231508,
            "min": 0,
            "orientation": "horizontal",
            "style": "IPY_MODEL_9d8d8d9683234598ba9b3696ec8c6f6c",
            "value": 231508
          }
        },
        "e30c047aa36141ee8be1c0e68433210a": {
          "model_module": "@jupyter-widgets/controls",
          "model_module_version": "1.5.0",
          "model_name": "FloatProgressModel",
          "state": {
            "_dom_classes": [],
            "_model_module": "@jupyter-widgets/controls",
            "_model_module_version": "1.5.0",
            "_model_name": "FloatProgressModel",
            "_view_count": null,
            "_view_module": "@jupyter-widgets/controls",
            "_view_module_version": "1.5.0",
            "_view_name": "ProgressView",
            "bar_style": "",
            "description": "",
            "description_tooltip": null,
            "layout": "IPY_MODEL_de4caca1673e415596658bb41428adb3",
            "max": 729,
            "min": 0,
            "orientation": "horizontal",
            "style": "IPY_MODEL_f3ae93468310440a93a12fbc6361a13e",
            "value": 0
          }
        },
        "e611e42a945c47dcb13078891da0e00b": {
          "model_module": "@jupyter-widgets/base",
          "model_module_version": "1.2.0",
          "model_name": "LayoutModel",
          "state": {
            "_model_module": "@jupyter-widgets/base",
            "_model_module_version": "1.2.0",
            "_model_name": "LayoutModel",
            "_view_count": null,
            "_view_module": "@jupyter-widgets/base",
            "_view_module_version": "1.2.0",
            "_view_name": "LayoutView",
            "align_content": null,
            "align_items": null,
            "align_self": null,
            "border": null,
            "bottom": null,
            "display": null,
            "flex": null,
            "flex_flow": null,
            "grid_area": null,
            "grid_auto_columns": null,
            "grid_auto_flow": null,
            "grid_auto_rows": null,
            "grid_column": null,
            "grid_gap": null,
            "grid_row": null,
            "grid_template_areas": null,
            "grid_template_columns": null,
            "grid_template_rows": null,
            "height": null,
            "justify_content": null,
            "justify_items": null,
            "left": null,
            "margin": null,
            "max_height": null,
            "max_width": null,
            "min_height": null,
            "min_width": null,
            "object_fit": null,
            "object_position": null,
            "order": null,
            "overflow": null,
            "overflow_x": null,
            "overflow_y": null,
            "padding": null,
            "right": null,
            "top": null,
            "visibility": null,
            "width": null
          }
        },
        "eaca5cbb426a42268f195e525ee9b72c": {
          "model_module": "@jupyter-widgets/controls",
          "model_module_version": "1.5.0",
          "model_name": "DescriptionStyleModel",
          "state": {
            "_model_module": "@jupyter-widgets/controls",
            "_model_module_version": "1.5.0",
            "_model_name": "DescriptionStyleModel",
            "_view_count": null,
            "_view_module": "@jupyter-widgets/base",
            "_view_module_version": "1.2.0",
            "_view_name": "StyleView",
            "description_width": ""
          }
        },
        "efd1c032229e401091dad602971e55d7": {
          "model_module": "@jupyter-widgets/controls",
          "model_module_version": "1.5.0",
          "model_name": "ProgressStyleModel",
          "state": {
            "_model_module": "@jupyter-widgets/controls",
            "_model_module_version": "1.5.0",
            "_model_name": "ProgressStyleModel",
            "_view_count": null,
            "_view_module": "@jupyter-widgets/base",
            "_view_module_version": "1.2.0",
            "_view_name": "StyleView",
            "bar_color": null,
            "description_width": ""
          }
        },
        "f3ae93468310440a93a12fbc6361a13e": {
          "model_module": "@jupyter-widgets/controls",
          "model_module_version": "1.5.0",
          "model_name": "ProgressStyleModel",
          "state": {
            "_model_module": "@jupyter-widgets/controls",
            "_model_module_version": "1.5.0",
            "_model_name": "ProgressStyleModel",
            "_view_count": null,
            "_view_module": "@jupyter-widgets/base",
            "_view_module_version": "1.2.0",
            "_view_name": "StyleView",
            "bar_color": null,
            "description_width": ""
          }
        },
        "f5e195ce74994f02a4459b04056e7264": {
          "model_module": "@jupyter-widgets/base",
          "model_module_version": "1.2.0",
          "model_name": "LayoutModel",
          "state": {
            "_model_module": "@jupyter-widgets/base",
            "_model_module_version": "1.2.0",
            "_model_name": "LayoutModel",
            "_view_count": null,
            "_view_module": "@jupyter-widgets/base",
            "_view_module_version": "1.2.0",
            "_view_name": "LayoutView",
            "align_content": null,
            "align_items": null,
            "align_self": null,
            "border": null,
            "bottom": null,
            "display": null,
            "flex": null,
            "flex_flow": null,
            "grid_area": null,
            "grid_auto_columns": null,
            "grid_auto_flow": null,
            "grid_auto_rows": null,
            "grid_column": null,
            "grid_gap": null,
            "grid_row": null,
            "grid_template_areas": null,
            "grid_template_columns": null,
            "grid_template_rows": null,
            "height": null,
            "justify_content": null,
            "justify_items": null,
            "left": null,
            "margin": null,
            "max_height": null,
            "max_width": null,
            "min_height": null,
            "min_width": null,
            "object_fit": null,
            "object_position": null,
            "order": null,
            "overflow": null,
            "overflow_x": null,
            "overflow_y": null,
            "padding": null,
            "right": null,
            "top": null,
            "visibility": null,
            "width": null
          }
        },
        "f8378975bb7f42918642e1c9519de02d": {
          "model_module": "@jupyter-widgets/controls",
          "model_module_version": "1.5.0",
          "model_name": "DescriptionStyleModel",
          "state": {
            "_model_module": "@jupyter-widgets/controls",
            "_model_module_version": "1.5.0",
            "_model_name": "DescriptionStyleModel",
            "_view_count": null,
            "_view_module": "@jupyter-widgets/base",
            "_view_module_version": "1.2.0",
            "_view_name": "StyleView",
            "description_width": ""
          }
        },
        "fbf4b6d40ff2402fadcddb83cb482f54": {
          "model_module": "@jupyter-widgets/controls",
          "model_module_version": "1.5.0",
          "model_name": "ProgressStyleModel",
          "state": {
            "_model_module": "@jupyter-widgets/controls",
            "_model_module_version": "1.5.0",
            "_model_name": "ProgressStyleModel",
            "_view_count": null,
            "_view_module": "@jupyter-widgets/base",
            "_view_module_version": "1.2.0",
            "_view_name": "StyleView",
            "bar_color": null,
            "description_width": ""
          }
        },
        "fd7b742869d042a5974106f0f18c2531": {
          "model_module": "@jupyter-widgets/base",
          "model_module_version": "1.2.0",
          "model_name": "LayoutModel",
          "state": {
            "_model_module": "@jupyter-widgets/base",
            "_model_module_version": "1.2.0",
            "_model_name": "LayoutModel",
            "_view_count": null,
            "_view_module": "@jupyter-widgets/base",
            "_view_module_version": "1.2.0",
            "_view_name": "LayoutView",
            "align_content": null,
            "align_items": null,
            "align_self": null,
            "border": null,
            "bottom": null,
            "display": null,
            "flex": null,
            "flex_flow": null,
            "grid_area": null,
            "grid_auto_columns": null,
            "grid_auto_flow": null,
            "grid_auto_rows": null,
            "grid_column": null,
            "grid_gap": null,
            "grid_row": null,
            "grid_template_areas": null,
            "grid_template_columns": null,
            "grid_template_rows": null,
            "height": null,
            "justify_content": null,
            "justify_items": null,
            "left": null,
            "margin": null,
            "max_height": null,
            "max_width": null,
            "min_height": null,
            "min_width": null,
            "object_fit": null,
            "object_position": null,
            "order": null,
            "overflow": null,
            "overflow_x": null,
            "overflow_y": null,
            "padding": null,
            "right": null,
            "top": null,
            "visibility": null,
            "width": null
          }
        },
        "fe5dff8f7ca64bbeaa37562bc808d306": {
          "model_module": "@jupyter-widgets/base",
          "model_module_version": "1.2.0",
          "model_name": "LayoutModel",
          "state": {
            "_model_module": "@jupyter-widgets/base",
            "_model_module_version": "1.2.0",
            "_model_name": "LayoutModel",
            "_view_count": null,
            "_view_module": "@jupyter-widgets/base",
            "_view_module_version": "1.2.0",
            "_view_name": "LayoutView",
            "align_content": null,
            "align_items": null,
            "align_self": null,
            "border": null,
            "bottom": null,
            "display": null,
            "flex": null,
            "flex_flow": null,
            "grid_area": null,
            "grid_auto_columns": null,
            "grid_auto_flow": null,
            "grid_auto_rows": null,
            "grid_column": null,
            "grid_gap": null,
            "grid_row": null,
            "grid_template_areas": null,
            "grid_template_columns": null,
            "grid_template_rows": null,
            "height": null,
            "justify_content": null,
            "justify_items": null,
            "left": null,
            "margin": null,
            "max_height": null,
            "max_width": null,
            "min_height": null,
            "min_width": null,
            "object_fit": null,
            "object_position": null,
            "order": null,
            "overflow": null,
            "overflow_x": null,
            "overflow_y": null,
            "padding": null,
            "right": null,
            "top": null,
            "visibility": null,
            "width": null
          }
        }
      }
    }
  },
  "nbformat": 4,
  "nbformat_minor": 0
}