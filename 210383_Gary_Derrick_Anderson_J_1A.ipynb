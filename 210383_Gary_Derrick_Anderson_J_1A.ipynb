{
  "cells": [
    {
      "cell_type": "markdown",
      "metadata": {
        "id": "FgXaHXB2ACsz"
      },
      "source": [
        "# NumPy Practice\n",
        "\n",
        "This notebook offers a set of exercises for different tasks with NumPy.\n",
        "\n",
        "It should be noted there may be more than one different way to answer a question or complete an exercise.\n",
        "\n",
        "Exercises are based off (and directly taken from) the quick introduction to NumPy notebook.\n",
        "\n",
        "Different tasks will be detailed by comments or text.\n",
        "\n",
        "For further reference and resources, it's advised to check out the [NumPy documentation](https://numpy.org/devdocs/user/index.html).\n",
        "\n",
        "And if you get stuck, try searching for a question in the following format: \"how to do XYZ with numpy\", where XYZ is the function you want to leverage from NumPy."
      ]
    },
    {
      "cell_type": "code",
      "execution_count": null,
      "metadata": {
        "id": "XsOXKIEaACs5"
      },
      "outputs": [],
      "source": [
        "# Import NumPy as its abbreviation 'np'\n",
        "import numpy as np"
      ]
    },
    {
      "cell_type": "code",
      "execution_count": null,
      "metadata": {
        "id": "GMk1F0dpACs7"
      },
      "outputs": [],
      "source": [
        "# Create a 1-dimensional NumPy array using np.array()\n",
        "a1 = np.array([1, 2, 3])\n",
        "\n",
        "# Create a 2-dimensional NumPy array using np.array()\n",
        "a2 = np.array([\n",
        "    [1, 2, 3],\n",
        "    [4, 5, 6],\n",
        "    [7, 8, 9]\n",
        "])\n",
        "\n",
        "# Create a 3-dimensional Numpy array using np.array()\n",
        "a3 = np.array([\n",
        "    [[1, 2], [3, 4]], [[5, 6], [7, 8]], [[9, 10], [11, 12]]\n",
        "])"
      ]
    },
    {
      "cell_type": "markdown",
      "metadata": {
        "id": "7p8hJRNbACs8"
      },
      "source": [
        "Now we've you've created 3 different arrays, let's find details about them.\n",
        "\n",
        "Find the shape, number of dimensions, data type, size and type of each array."
      ]
    },
    {
      "cell_type": "code",
      "execution_count": null,
      "metadata": {
        "id": "GBn9X0nBACs9",
        "colab": {
          "base_uri": "https://localhost:8080/"
        },
        "outputId": "6d2cfd59-c1a5-4df2-eb60-9ee669bb2db7"
      },
      "outputs": [
        {
          "output_type": "stream",
          "name": "stdout",
          "text": [
            "Shape:  (3,)\n",
            "No. of dimensions:  1\n",
            "Data type:  int64\n",
            "Size:  3\n"
          ]
        }
      ],
      "source": [
        "# Attributes of 1-dimensional array (shape,\n",
        "# number of dimensions, data type, size and type)\n",
        "print(\"Shape: \", a1.shape)\n",
        "print(\"No. of dimensions: \", a1.ndim)\n",
        "print(\"Data type: \", a1.dtype)\n",
        "print(\"Size: \", a1.size)"
      ]
    },
    {
      "cell_type": "code",
      "execution_count": null,
      "metadata": {
        "id": "90KOlEP8ACs9",
        "colab": {
          "base_uri": "https://localhost:8080/"
        },
        "outputId": "b02cd944-adaa-49a4-8aa5-6a81a631205d"
      },
      "outputs": [
        {
          "output_type": "stream",
          "name": "stdout",
          "text": [
            "Shape:  (3, 3)\n",
            "No. of dimensions:  2\n",
            "Data type:  int64\n",
            "Size:  9\n"
          ]
        }
      ],
      "source": [
        "# Attributes of 2-dimensional array\n",
        "print(\"Shape: \", a2.shape)\n",
        "print(\"No. of dimensions: \", a2.ndim)\n",
        "print(\"Data type: \", a2.dtype)\n",
        "print(\"Size: \", a2.size)"
      ]
    },
    {
      "cell_type": "code",
      "execution_count": null,
      "metadata": {
        "id": "J5r4gLtHACs-",
        "colab": {
          "base_uri": "https://localhost:8080/"
        },
        "outputId": "eb521324-d667-449b-f918-5f592e1f3ca5"
      },
      "outputs": [
        {
          "output_type": "stream",
          "name": "stdout",
          "text": [
            "Shape:  (3, 2, 2)\n",
            "No. of dimensions:  3\n",
            "Data type:  int64\n",
            "Size:  12\n"
          ]
        }
      ],
      "source": [
        "# Attributes of 3-dimensional array\n",
        "# Attributes of 2-dimensional array\n",
        "print(\"Shape: \", a3.shape)\n",
        "print(\"No. of dimensions: \", a3.ndim)\n",
        "print(\"Data type: \", a3.dtype)\n",
        "print(\"Size: \", a3.size)"
      ]
    },
    {
      "cell_type": "code",
      "execution_count": null,
      "metadata": {
        "id": "yllB33ZJACs-",
        "colab": {
          "base_uri": "https://localhost:8080/",
          "height": 143
        },
        "outputId": "598e5793-d0f3-45de-dfc7-ae51c33b6512"
      },
      "outputs": [
        {
          "output_type": "execute_result",
          "data": {
            "text/plain": [
              "   0\n",
              "0  1\n",
              "1  2\n",
              "2  3"
            ],
            "text/html": [
              "\n",
              "  <div id=\"df-33ac52af-a697-4f6d-b5b1-a29e18615702\">\n",
              "    <div class=\"colab-df-container\">\n",
              "      <div>\n",
              "<style scoped>\n",
              "    .dataframe tbody tr th:only-of-type {\n",
              "        vertical-align: middle;\n",
              "    }\n",
              "\n",
              "    .dataframe tbody tr th {\n",
              "        vertical-align: top;\n",
              "    }\n",
              "\n",
              "    .dataframe thead th {\n",
              "        text-align: right;\n",
              "    }\n",
              "</style>\n",
              "<table border=\"1\" class=\"dataframe\">\n",
              "  <thead>\n",
              "    <tr style=\"text-align: right;\">\n",
              "      <th></th>\n",
              "      <th>0</th>\n",
              "    </tr>\n",
              "  </thead>\n",
              "  <tbody>\n",
              "    <tr>\n",
              "      <th>0</th>\n",
              "      <td>1</td>\n",
              "    </tr>\n",
              "    <tr>\n",
              "      <th>1</th>\n",
              "      <td>2</td>\n",
              "    </tr>\n",
              "    <tr>\n",
              "      <th>2</th>\n",
              "      <td>3</td>\n",
              "    </tr>\n",
              "  </tbody>\n",
              "</table>\n",
              "</div>\n",
              "      <button class=\"colab-df-convert\" onclick=\"convertToInteractive('df-33ac52af-a697-4f6d-b5b1-a29e18615702')\"\n",
              "              title=\"Convert this dataframe to an interactive table.\"\n",
              "              style=\"display:none;\">\n",
              "        \n",
              "  <svg xmlns=\"http://www.w3.org/2000/svg\" height=\"24px\"viewBox=\"0 0 24 24\"\n",
              "       width=\"24px\">\n",
              "    <path d=\"M0 0h24v24H0V0z\" fill=\"none\"/>\n",
              "    <path d=\"M18.56 5.44l.94 2.06.94-2.06 2.06-.94-2.06-.94-.94-2.06-.94 2.06-2.06.94zm-11 1L8.5 8.5l.94-2.06 2.06-.94-2.06-.94L8.5 2.5l-.94 2.06-2.06.94zm10 10l.94 2.06.94-2.06 2.06-.94-2.06-.94-.94-2.06-.94 2.06-2.06.94z\"/><path d=\"M17.41 7.96l-1.37-1.37c-.4-.4-.92-.59-1.43-.59-.52 0-1.04.2-1.43.59L10.3 9.45l-7.72 7.72c-.78.78-.78 2.05 0 2.83L4 21.41c.39.39.9.59 1.41.59.51 0 1.02-.2 1.41-.59l7.78-7.78 2.81-2.81c.8-.78.8-2.07 0-2.86zM5.41 20L4 18.59l7.72-7.72 1.47 1.35L5.41 20z\"/>\n",
              "  </svg>\n",
              "      </button>\n",
              "      \n",
              "  <style>\n",
              "    .colab-df-container {\n",
              "      display:flex;\n",
              "      flex-wrap:wrap;\n",
              "      gap: 12px;\n",
              "    }\n",
              "\n",
              "    .colab-df-convert {\n",
              "      background-color: #E8F0FE;\n",
              "      border: none;\n",
              "      border-radius: 50%;\n",
              "      cursor: pointer;\n",
              "      display: none;\n",
              "      fill: #1967D2;\n",
              "      height: 32px;\n",
              "      padding: 0 0 0 0;\n",
              "      width: 32px;\n",
              "    }\n",
              "\n",
              "    .colab-df-convert:hover {\n",
              "      background-color: #E2EBFA;\n",
              "      box-shadow: 0px 1px 2px rgba(60, 64, 67, 0.3), 0px 1px 3px 1px rgba(60, 64, 67, 0.15);\n",
              "      fill: #174EA6;\n",
              "    }\n",
              "\n",
              "    [theme=dark] .colab-df-convert {\n",
              "      background-color: #3B4455;\n",
              "      fill: #D2E3FC;\n",
              "    }\n",
              "\n",
              "    [theme=dark] .colab-df-convert:hover {\n",
              "      background-color: #434B5C;\n",
              "      box-shadow: 0px 1px 3px 1px rgba(0, 0, 0, 0.15);\n",
              "      filter: drop-shadow(0px 1px 2px rgba(0, 0, 0, 0.3));\n",
              "      fill: #FFFFFF;\n",
              "    }\n",
              "  </style>\n",
              "\n",
              "      <script>\n",
              "        const buttonEl =\n",
              "          document.querySelector('#df-33ac52af-a697-4f6d-b5b1-a29e18615702 button.colab-df-convert');\n",
              "        buttonEl.style.display =\n",
              "          google.colab.kernel.accessAllowed ? 'block' : 'none';\n",
              "\n",
              "        async function convertToInteractive(key) {\n",
              "          const element = document.querySelector('#df-33ac52af-a697-4f6d-b5b1-a29e18615702');\n",
              "          const dataTable =\n",
              "            await google.colab.kernel.invokeFunction('convertToInteractive',\n",
              "                                                     [key], {});\n",
              "          if (!dataTable) return;\n",
              "\n",
              "          const docLinkHtml = 'Like what you see? Visit the ' +\n",
              "            '<a target=\"_blank\" href=https://colab.research.google.com/notebooks/data_table.ipynb>data table notebook</a>'\n",
              "            + ' to learn more about interactive tables.';\n",
              "          element.innerHTML = '';\n",
              "          dataTable['output_type'] = 'display_data';\n",
              "          await google.colab.output.renderOutput(dataTable, element);\n",
              "          const docLink = document.createElement('div');\n",
              "          docLink.innerHTML = docLinkHtml;\n",
              "          element.appendChild(docLink);\n",
              "        }\n",
              "      </script>\n",
              "    </div>\n",
              "  </div>\n",
              "  "
            ]
          },
          "metadata": {},
          "execution_count": 7
        }
      ],
      "source": [
        "# Import pandas and create a DataFrame out of one\n",
        "# of the arrays you've created\n",
        "import pandas as pd\n",
        "df1 = pd.DataFrame(a1)\n",
        "df1"
      ]
    },
    {
      "cell_type": "code",
      "execution_count": null,
      "metadata": {
        "id": "7nA_mF0KACs_",
        "colab": {
          "base_uri": "https://localhost:8080/"
        },
        "outputId": "1884edda-df61-49d9-edf9-8b51a5353a72"
      },
      "outputs": [
        {
          "output_type": "execute_result",
          "data": {
            "text/plain": [
              "array([[1., 1.],\n",
              "       [1., 1.],\n",
              "       [1., 1.],\n",
              "       [1., 1.],\n",
              "       [1., 1.],\n",
              "       [1., 1.],\n",
              "       [1., 1.],\n",
              "       [1., 1.],\n",
              "       [1., 1.],\n",
              "       [1., 1.]])"
            ]
          },
          "metadata": {},
          "execution_count": 8
        }
      ],
      "source": [
        "# Create an array of shape (10, 2) with only ones\n",
        "np.ones((10, 2))"
      ]
    },
    {
      "cell_type": "code",
      "execution_count": null,
      "metadata": {
        "id": "PXmSuiXIACtA",
        "colab": {
          "base_uri": "https://localhost:8080/"
        },
        "outputId": "3e135dcf-fc57-4fc3-a2a0-c9c57be8795a"
      },
      "outputs": [
        {
          "output_type": "execute_result",
          "data": {
            "text/plain": [
              "array([[[0., 0., 0.],\n",
              "        [0., 0., 0.]],\n",
              "\n",
              "       [[0., 0., 0.],\n",
              "        [0., 0., 0.]],\n",
              "\n",
              "       [[0., 0., 0.],\n",
              "        [0., 0., 0.]],\n",
              "\n",
              "       [[0., 0., 0.],\n",
              "        [0., 0., 0.]],\n",
              "\n",
              "       [[0., 0., 0.],\n",
              "        [0., 0., 0.]],\n",
              "\n",
              "       [[0., 0., 0.],\n",
              "        [0., 0., 0.]],\n",
              "\n",
              "       [[0., 0., 0.],\n",
              "        [0., 0., 0.]]])"
            ]
          },
          "metadata": {},
          "execution_count": 9
        }
      ],
      "source": [
        "# Create an array of shape (7, 2, 3) of only zeros\n",
        "np.zeros((7, 2, 3))"
      ]
    },
    {
      "cell_type": "code",
      "execution_count": null,
      "metadata": {
        "id": "1USNlEqDACtA",
        "colab": {
          "base_uri": "https://localhost:8080/"
        },
        "outputId": "0641e43e-69cc-41a5-dc28-33151e52d562"
      },
      "outputs": [
        {
          "output_type": "execute_result",
          "data": {
            "text/plain": [
              "array([ 0,  3,  6,  9, 12, 15, 18, 21, 24, 27, 30, 33, 36, 39, 42, 45, 48,\n",
              "       51, 54, 57, 60, 63, 66, 69, 72, 75, 78, 81, 84, 87, 90, 93, 96, 99])"
            ]
          },
          "metadata": {},
          "execution_count": 10
        }
      ],
      "source": [
        "# Create an array within a range of 0 and 100 with step 3\n",
        "np.array(range(0, 100, 3))"
      ]
    },
    {
      "cell_type": "code",
      "execution_count": null,
      "metadata": {
        "id": "Gy_sxEtmACtA",
        "colab": {
          "base_uri": "https://localhost:8080/"
        },
        "outputId": "15521617-49ac-44b3-9802-b72e25b6bbf4"
      },
      "outputs": [
        {
          "output_type": "execute_result",
          "data": {
            "text/plain": [
              "array([[8, 8],\n",
              "       [9, 2],\n",
              "       [3, 6],\n",
              "       [9, 7],\n",
              "       [9, 2],\n",
              "       [1, 7],\n",
              "       [3, 7]])"
            ]
          },
          "metadata": {},
          "execution_count": 11
        }
      ],
      "source": [
        "# Create a random array with numbers between 0 and 10 of size (7, 2)\n",
        "np.random.randint(1, 10, size=(7, 2))"
      ]
    },
    {
      "cell_type": "code",
      "execution_count": null,
      "metadata": {
        "id": "HgFVWiS4ACtB",
        "colab": {
          "base_uri": "https://localhost:8080/"
        },
        "outputId": "336f2941-1a90-4f60-9363-7042df5c2469"
      },
      "outputs": [
        {
          "output_type": "execute_result",
          "data": {
            "text/plain": [
              "array([[0.90134561, 0.89477343, 0.83574157, 0.46138739, 0.85389639],\n",
              "       [0.64649739, 0.03183099, 0.70420323, 0.65125455, 0.51710704],\n",
              "       [0.25504342, 0.55043498, 0.98610795, 0.63411359, 0.01558303]])"
            ]
          },
          "metadata": {},
          "execution_count": 12
        }
      ],
      "source": [
        "# Create a random array of floats between 0 & 1 of shape (3, 5)\n",
        "np.random.rand(3, 5)"
      ]
    },
    {
      "cell_type": "code",
      "execution_count": null,
      "metadata": {
        "id": "mwdh0jtcACtB",
        "colab": {
          "base_uri": "https://localhost:8080/"
        },
        "outputId": "e9e1fdb9-0f78-4266-d2b0-6a7cc58f4f84"
      },
      "outputs": [
        {
          "output_type": "execute_result",
          "data": {
            "text/plain": [
              "array([[7, 4, 8, 5, 7, 3],\n",
              "       [7, 8, 5, 4, 8, 8],\n",
              "       [3, 6, 5, 2, 8, 6],\n",
              "       [2, 5, 1, 6, 9, 1]])"
            ]
          },
          "metadata": {},
          "execution_count": 13
        }
      ],
      "source": [
        "# Set the random seed to 42\n",
        "np.random.seed(42)\n",
        "\n",
        "# Create a random array of numbers between 0 & 10 of size (4, 6)\n",
        "np.random.randint(1, 10, size=(4, 6))"
      ]
    },
    {
      "cell_type": "markdown",
      "metadata": {
        "id": "yqcDjgWvACtB"
      },
      "source": [
        "Run the cell above again, what happens?\n",
        "\n",
        "Are the numbers in the array different or the same? Why do think this is?"
      ]
    },
    {
      "cell_type": "code",
      "execution_count": null,
      "metadata": {
        "id": "Id3zn6IIACtC",
        "colab": {
          "base_uri": "https://localhost:8080/"
        },
        "outputId": "28aff01e-1f01-429c-a0f0-78585ce1274c"
      },
      "outputs": [
        {
          "output_type": "stream",
          "name": "stdout",
          "text": [
            "[[4 4 8 3 9 5 5]\n",
            " [9 8 7 7 8 7 4]\n",
            " [5 8 5 9 2 4 6]]\n"
          ]
        },
        {
          "output_type": "execute_result",
          "data": {
            "text/plain": [
              "array([2, 3, 4, 5, 6, 7, 8, 9])"
            ]
          },
          "metadata": {},
          "execution_count": 14
        }
      ],
      "source": [
        "# Create an array of random numbers between 1 & 10 of size (3, 7)\n",
        "# and save it to a variable\n",
        "arr = np.random.randint(2, 10, size=(3, 7))\n",
        "print(arr)\n",
        "\n",
        "# Find the unique numbers in the array you just created\n",
        "np.unique(arr)"
      ]
    },
    {
      "cell_type": "code",
      "execution_count": null,
      "metadata": {
        "id": "Jr0MGF5WACtC",
        "colab": {
          "base_uri": "https://localhost:8080/"
        },
        "outputId": "a76103e4-dac5-495e-8ec1-9a782889cb28"
      },
      "outputs": [
        {
          "output_type": "execute_result",
          "data": {
            "text/plain": [
              "array([4, 4, 8, 3, 9, 5, 5])"
            ]
          },
          "metadata": {},
          "execution_count": 15
        }
      ],
      "source": [
        "# Find the 0'th index of the latest array you created\n",
        "arr[0]"
      ]
    },
    {
      "cell_type": "code",
      "execution_count": null,
      "metadata": {
        "id": "J3iS3fiyACtC",
        "colab": {
          "base_uri": "https://localhost:8080/"
        },
        "outputId": "ae664c49-325b-4b8b-a924-b4ea5e1fad2f"
      },
      "outputs": [
        {
          "output_type": "execute_result",
          "data": {
            "text/plain": [
              "array([[4, 4, 8, 3, 9, 5, 5],\n",
              "       [9, 8, 7, 7, 8, 7, 4]])"
            ]
          },
          "metadata": {},
          "execution_count": 16
        }
      ],
      "source": [
        "# Get the first 2 rows of latest array you created\n",
        "arr[0:2, ]"
      ]
    },
    {
      "cell_type": "code",
      "execution_count": null,
      "metadata": {
        "id": "zUKkExTrACtC",
        "colab": {
          "base_uri": "https://localhost:8080/"
        },
        "outputId": "25bbaa8f-90de-416f-adf7-cc653171f77f"
      },
      "outputs": [
        {
          "output_type": "execute_result",
          "data": {
            "text/plain": [
              "array([[4, 4],\n",
              "       [9, 8]])"
            ]
          },
          "metadata": {},
          "execution_count": 17
        }
      ],
      "source": [
        "# Get the first 2 values of the first 2 rows of the latest array\n",
        "arr[0:2, 0:2]"
      ]
    },
    {
      "cell_type": "code",
      "execution_count": null,
      "metadata": {
        "id": "tedh9e9nACtD",
        "colab": {
          "base_uri": "https://localhost:8080/"
        },
        "outputId": "fd69519f-d574-422c-d2d5-cad533832a1d"
      },
      "outputs": [
        {
          "output_type": "stream",
          "name": "stdout",
          "text": [
            "[[3 7 5 9 7]\n",
            " [2 4 9 2 9]\n",
            " [5 2 4 7 8]]\n",
            "[[1. 1. 1. 1. 1.]\n",
            " [1. 1. 1. 1. 1.]\n",
            " [1. 1. 1. 1. 1.]]\n"
          ]
        }
      ],
      "source": [
        "# Create a random array of numbers between 0 & 10 and an array of ones\n",
        "# both of size (3, 5), save them both to variables\n",
        "r1 = np.random.randint(1, 10, size=(3, 5))\n",
        "r2 = np.ones((3, 5))\n",
        "print(r1)\n",
        "print(r2)"
      ]
    },
    {
      "cell_type": "code",
      "execution_count": null,
      "metadata": {
        "id": "Bui1Tmo3ACtD"
      },
      "outputs": [],
      "source": [
        "# Add the two arrays together\n",
        "r3 = r1 + r2"
      ]
    },
    {
      "cell_type": "code",
      "execution_count": null,
      "metadata": {
        "id": "CtzeqRwEACtD",
        "colab": {
          "base_uri": "https://localhost:8080/"
        },
        "outputId": "2621ba32-7104-4e0c-87fb-0827d8b3452e"
      },
      "outputs": [
        {
          "output_type": "execute_result",
          "data": {
            "text/plain": [
              "array([[1., 1., 1.],\n",
              "       [1., 1., 1.],\n",
              "       [1., 1., 1.],\n",
              "       [1., 1., 1.],\n",
              "       [1., 1., 1.]])"
            ]
          },
          "metadata": {},
          "execution_count": 20
        }
      ],
      "source": [
        "# Create another array of ones of shape (5, 3)\n",
        "r4 = np.ones((5, 3))\n",
        "r4"
      ]
    },
    {
      "cell_type": "code",
      "execution_count": null,
      "metadata": {
        "id": "uzl0f5fUACtD",
        "colab": {
          "base_uri": "https://localhost:8080/",
          "height": 183
        },
        "outputId": "65d88456-efb1-4a8b-c524-3744282e50b7"
      },
      "outputs": [
        {
          "output_type": "error",
          "ename": "ValueError",
          "evalue": "ignored",
          "traceback": [
            "\u001b[0;31m---------------------------------------------------------------------------\u001b[0m",
            "\u001b[0;31mValueError\u001b[0m                                Traceback (most recent call last)",
            "\u001b[0;32m<ipython-input-21-13f5f8a76f82>\u001b[0m in \u001b[0;36m<module>\u001b[0;34m\u001b[0m\n\u001b[1;32m      1\u001b[0m \u001b[0;31m# Try add the array of ones and the other most recent array together\u001b[0m\u001b[0;34m\u001b[0m\u001b[0;34m\u001b[0m\u001b[0;34m\u001b[0m\u001b[0m\n\u001b[0;32m----> 2\u001b[0;31m \u001b[0mr3\u001b[0m \u001b[0;34m+\u001b[0m \u001b[0mr4\u001b[0m\u001b[0;34m\u001b[0m\u001b[0;34m\u001b[0m\u001b[0m\n\u001b[0m",
            "\u001b[0;31mValueError\u001b[0m: operands could not be broadcast together with shapes (3,5) (5,3) "
          ]
        }
      ],
      "source": [
        "# Try add the array of ones and the other most recent array together\n",
        "r3 + r4"
      ]
    },
    {
      "cell_type": "markdown",
      "metadata": {
        "id": "9ZogUP2XACtE"
      },
      "source": [
        "When you try the last cell, it produces an error. Why do think this is?\n",
        "\n",
        "How would you fix it?"
      ]
    },
    {
      "cell_type": "code",
      "execution_count": null,
      "metadata": {
        "id": "7XCnsBzPACtE"
      },
      "outputs": [],
      "source": [
        "# Create another array of ones of shape (3, 5)\n",
        "r5 = np.ones((3, 5))"
      ]
    },
    {
      "cell_type": "code",
      "execution_count": null,
      "metadata": {
        "id": "WCdBN0QQACtE",
        "colab": {
          "base_uri": "https://localhost:8080/"
        },
        "outputId": "8276e14a-0506-4f8a-9e25-be599813357e"
      },
      "outputs": [
        {
          "output_type": "execute_result",
          "data": {
            "text/plain": [
              "array([[3., 7., 5., 9., 7.],\n",
              "       [2., 4., 9., 2., 9.],\n",
              "       [5., 2., 4., 7., 8.]])"
            ]
          },
          "metadata": {},
          "execution_count": 23
        }
      ],
      "source": [
        "# Subtract the new array of ones from the other most recent array\n",
        "r6 = r3 - r5\n",
        "r6"
      ]
    },
    {
      "cell_type": "code",
      "execution_count": null,
      "metadata": {
        "id": "IuYgO27AACtE",
        "colab": {
          "base_uri": "https://localhost:8080/"
        },
        "outputId": "851b18ce-1195-4f58-922a-3cf7f26af888"
      },
      "outputs": [
        {
          "output_type": "execute_result",
          "data": {
            "text/plain": [
              "array([[3., 7., 5., 9., 7.],\n",
              "       [2., 4., 9., 2., 9.],\n",
              "       [5., 2., 4., 7., 8.]])"
            ]
          },
          "metadata": {},
          "execution_count": 24
        }
      ],
      "source": [
        "# Multiply the ones array with the latest array\n",
        "r7 = r5*r6\n",
        "r7"
      ]
    },
    {
      "cell_type": "code",
      "execution_count": null,
      "metadata": {
        "id": "Cu05xcCOACtF",
        "colab": {
          "base_uri": "https://localhost:8080/"
        },
        "outputId": "6c9b1fa1-78f3-449b-c43e-8f2290cc3ddd"
      },
      "outputs": [
        {
          "output_type": "execute_result",
          "data": {
            "text/plain": [
              "array([[ 9., 49., 25., 81., 49.],\n",
              "       [ 4., 16., 81.,  4., 81.],\n",
              "       [25.,  4., 16., 49., 64.]])"
            ]
          },
          "metadata": {},
          "execution_count": 25
        }
      ],
      "source": [
        "# Take the latest array to the power of 2 using '**'\n",
        "r8 = r7**2\n",
        "r8"
      ]
    },
    {
      "cell_type": "code",
      "execution_count": null,
      "metadata": {
        "id": "yiTwmy25ACtF",
        "colab": {
          "base_uri": "https://localhost:8080/"
        },
        "outputId": "f77718ba-02b6-4583-f190-dc786e1aef69"
      },
      "outputs": [
        {
          "output_type": "execute_result",
          "data": {
            "text/plain": [
              "array([[ 9., 49., 25., 81., 49.],\n",
              "       [ 4., 16., 81.,  4., 81.],\n",
              "       [25.,  4., 16., 49., 64.]])"
            ]
          },
          "metadata": {},
          "execution_count": 26
        }
      ],
      "source": [
        "# Do the same thing with np.square()\n",
        "np.square(r7)"
      ]
    },
    {
      "cell_type": "code",
      "execution_count": null,
      "metadata": {
        "id": "RI42VHzUACtG",
        "colab": {
          "base_uri": "https://localhost:8080/"
        },
        "outputId": "d1377158-8f62-4912-9395-06c9778cb4fb"
      },
      "outputs": [
        {
          "output_type": "execute_result",
          "data": {
            "text/plain": [
              "37.13333333333333"
            ]
          },
          "metadata": {},
          "execution_count": 27
        }
      ],
      "source": [
        "# Find the mean of the latest array using np.mean()\n",
        "np.mean(r8)"
      ]
    },
    {
      "cell_type": "code",
      "execution_count": null,
      "metadata": {
        "id": "BG-fHiP-ACtG",
        "colab": {
          "base_uri": "https://localhost:8080/"
        },
        "outputId": "fc139ab6-1e7c-47a0-8071-60a22cac6eae"
      },
      "outputs": [
        {
          "output_type": "execute_result",
          "data": {
            "text/plain": [
              "81.0"
            ]
          },
          "metadata": {},
          "execution_count": 28
        }
      ],
      "source": [
        "# Find the maximum of the latest array using np.max()\n",
        "np.max(r8)"
      ]
    },
    {
      "cell_type": "code",
      "execution_count": null,
      "metadata": {
        "id": "p6e4gkFeACtG",
        "colab": {
          "base_uri": "https://localhost:8080/"
        },
        "outputId": "d8cb5b6b-5f55-449d-8c53-f9078d48993d"
      },
      "outputs": [
        {
          "output_type": "execute_result",
          "data": {
            "text/plain": [
              "4.0"
            ]
          },
          "metadata": {},
          "execution_count": 29
        }
      ],
      "source": [
        "# Find the minimum of the latest array using np.min()\n",
        "np.min(r8)"
      ]
    },
    {
      "cell_type": "code",
      "execution_count": null,
      "metadata": {
        "id": "4fenCCh3ACtI",
        "colab": {
          "base_uri": "https://localhost:8080/"
        },
        "outputId": "0de53295-2547-4ef4-fc77-600f68415725"
      },
      "outputs": [
        {
          "output_type": "execute_result",
          "data": {
            "text/plain": [
              "28.506997191722753"
            ]
          },
          "metadata": {},
          "execution_count": 30
        }
      ],
      "source": [
        "# Find the standard deviation of the latest array\n",
        "np.std(r8)"
      ]
    },
    {
      "cell_type": "code",
      "execution_count": null,
      "metadata": {
        "id": "bbWu9_6sACtI",
        "colab": {
          "base_uri": "https://localhost:8080/"
        },
        "outputId": "ee9cf0e7-9340-4a42-cc7b-91eb4494753a"
      },
      "outputs": [
        {
          "output_type": "execute_result",
          "data": {
            "text/plain": [
              "812.648888888889"
            ]
          },
          "metadata": {},
          "execution_count": 31
        }
      ],
      "source": [
        "# Find the variance of the latest array\n",
        "np.var(r8)"
      ]
    },
    {
      "cell_type": "code",
      "execution_count": null,
      "metadata": {
        "id": "bW_BoHz-ACtJ",
        "colab": {
          "base_uri": "https://localhost:8080/"
        },
        "outputId": "add65c24-dd15-4c69-9bec-e0cb7ea5433e"
      },
      "outputs": [
        {
          "output_type": "execute_result",
          "data": {
            "text/plain": [
              "array([[[ 9.],\n",
              "        [49.],\n",
              "        [25.],\n",
              "        [81.],\n",
              "        [49.]],\n",
              "\n",
              "       [[ 4.],\n",
              "        [16.],\n",
              "        [81.],\n",
              "        [ 4.],\n",
              "        [81.]],\n",
              "\n",
              "       [[25.],\n",
              "        [ 4.],\n",
              "        [16.],\n",
              "        [49.],\n",
              "        [64.]]])"
            ]
          },
          "metadata": {},
          "execution_count": 32
        }
      ],
      "source": [
        "# Reshape the latest array to (3, 5, 1)\n",
        "r9 = r8.reshape(3, 5, 1)\n",
        "r9"
      ]
    },
    {
      "cell_type": "code",
      "execution_count": null,
      "metadata": {
        "id": "vsaDmfWDACtK",
        "colab": {
          "base_uri": "https://localhost:8080/"
        },
        "outputId": "2cd210cc-c46d-4504-b9a3-f516591f0956"
      },
      "outputs": [
        {
          "output_type": "execute_result",
          "data": {
            "text/plain": [
              "array([[[ 9.,  4., 25.],\n",
              "        [49., 16.,  4.],\n",
              "        [25., 81., 16.],\n",
              "        [81.,  4., 49.],\n",
              "        [49., 81., 64.]]])"
            ]
          },
          "metadata": {},
          "execution_count": 33
        }
      ],
      "source": [
        "# Transpose the latest array\n",
        "r10 = r9.T\n",
        "r10"
      ]
    },
    {
      "cell_type": "markdown",
      "metadata": {
        "id": "IhWJ4WS1ACtK"
      },
      "source": [
        "What does the transpose do?"
      ]
    },
    {
      "cell_type": "code",
      "execution_count": null,
      "metadata": {
        "id": "hKVUkk4dACtL",
        "colab": {
          "base_uri": "https://localhost:8080/"
        },
        "outputId": "19551ee5-5c0c-4010-bc63-266c857f2d74"
      },
      "outputs": [
        {
          "output_type": "stream",
          "name": "stdout",
          "text": [
            "[[2 0 3]\n",
            " [1 7 3]\n",
            " [1 5 5]]\n",
            "[[9 3]\n",
            " [5 1]\n",
            " [9 1]]\n"
          ]
        }
      ],
      "source": [
        "# Create two arrays of random integers between 0 to 10\n",
        "# one of size (3, 3) the other of size (3, 2)\n",
        "arr1 = np.random.randint(0, 10, size=(3, 3))\n",
        "arr2 = np.random.randint(0, 10, size=(3, 2))\n",
        "print(arr1)\n",
        "print(arr2)"
      ]
    },
    {
      "cell_type": "code",
      "execution_count": null,
      "metadata": {
        "id": "YBgckmJnACtL",
        "colab": {
          "base_uri": "https://localhost:8080/"
        },
        "outputId": "a3b52a34-f4fa-4ac7-9407-ba3790c290a9"
      },
      "outputs": [
        {
          "output_type": "execute_result",
          "data": {
            "text/plain": [
              "array([[45,  9],\n",
              "       [71, 13],\n",
              "       [79, 13]])"
            ]
          },
          "metadata": {},
          "execution_count": 35
        }
      ],
      "source": [
        "# Perform a dot product on the two newest arrays you created\n",
        "np.dot(arr1, arr2)"
      ]
    },
    {
      "cell_type": "code",
      "execution_count": null,
      "metadata": {
        "id": "6Q_LzNzdACtL",
        "colab": {
          "base_uri": "https://localhost:8080/"
        },
        "outputId": "aecce74a-de92-4f44-9131-968bdf1d850e"
      },
      "outputs": [
        {
          "output_type": "stream",
          "name": "stdout",
          "text": [
            "[[9 3 7]\n",
            " [6 8 7]\n",
            " [4 1 4]\n",
            " [7 9 8]]\n",
            "[[8 0 8]\n",
            " [6 8 7]\n",
            " [0 7 7]\n",
            " [2 0 7]]\n"
          ]
        }
      ],
      "source": [
        "# Create two arrays of random integers between 0 to 10\n",
        "# both of size (4, 3)\n",
        "arr3 = np.random.randint(0, 10, size=(4, 3))\n",
        "arr4 = np.random.randint(0, 10, size=(4, 3))\n",
        "print(arr3)\n",
        "print(arr4)"
      ]
    },
    {
      "cell_type": "code",
      "execution_count": null,
      "metadata": {
        "id": "E6SI3FJfACtL",
        "colab": {
          "base_uri": "https://localhost:8080/",
          "height": 218
        },
        "outputId": "1d00b780-41b0-4779-89ae-f069e5897ac5"
      },
      "outputs": [
        {
          "output_type": "error",
          "ename": "ValueError",
          "evalue": "ignored",
          "traceback": [
            "\u001b[0;31m---------------------------------------------------------------------------\u001b[0m",
            "\u001b[0;31mValueError\u001b[0m                                Traceback (most recent call last)",
            "\u001b[0;32m<ipython-input-37-0e8e90d9b9f0>\u001b[0m in \u001b[0;36m<module>\u001b[0;34m\u001b[0m\n\u001b[1;32m      1\u001b[0m \u001b[0;31m# Perform a dot product on the two newest arrays you created\u001b[0m\u001b[0;34m\u001b[0m\u001b[0;34m\u001b[0m\u001b[0;34m\u001b[0m\u001b[0m\n\u001b[0;32m----> 2\u001b[0;31m \u001b[0mnp\u001b[0m\u001b[0;34m.\u001b[0m\u001b[0mdot\u001b[0m\u001b[0;34m(\u001b[0m\u001b[0marr3\u001b[0m\u001b[0;34m,\u001b[0m \u001b[0marr4\u001b[0m\u001b[0;34m)\u001b[0m\u001b[0;34m\u001b[0m\u001b[0;34m\u001b[0m\u001b[0m\n\u001b[0m",
            "\u001b[0;32m<__array_function__ internals>\u001b[0m in \u001b[0;36mdot\u001b[0;34m(*args, **kwargs)\u001b[0m\n",
            "\u001b[0;31mValueError\u001b[0m: shapes (4,3) and (4,3) not aligned: 3 (dim 1) != 4 (dim 0)"
          ]
        }
      ],
      "source": [
        "# Perform a dot product on the two newest arrays you created\n",
        "np.dot(arr3, arr4)"
      ]
    },
    {
      "cell_type": "markdown",
      "metadata": {
        "id": "JotqSwEaACtL"
      },
      "source": [
        "It doesn't work. How would you fix it?"
      ]
    },
    {
      "cell_type": "code",
      "execution_count": null,
      "metadata": {
        "id": "9TBCUke8ACtL",
        "colab": {
          "base_uri": "https://localhost:8080/"
        },
        "outputId": "c938e1ca-227a-49f7-88bd-1447dabd7435"
      },
      "outputs": [
        {
          "output_type": "execute_result",
          "data": {
            "text/plain": [
              "array([[128, 127,  70,  67],\n",
              "       [104, 149, 105,  61],\n",
              "       [ 64,  60,  35,  36],\n",
              "       [120, 170, 119,  70]])"
            ]
          },
          "metadata": {},
          "execution_count": 38
        }
      ],
      "source": [
        "# Take the latest two arrays, perform a transpose on one of them and then perform\n",
        "# a dot product on them both\n",
        "np.dot(arr3, arr4.T)"
      ]
    },
    {
      "cell_type": "code",
      "execution_count": null,
      "metadata": {
        "id": "m_xKyt56ACtM",
        "colab": {
          "base_uri": "https://localhost:8080/"
        },
        "outputId": "00d66ed0-936f-4863-d589-6bd36d3efe58"
      },
      "outputs": [
        {
          "output_type": "stream",
          "name": "stdout",
          "text": [
            "[[5 5 0]\n",
            " [5 9 5]\n",
            " [6 7 4]]\n",
            "[[3 4 7]\n",
            " [7 2 8]\n",
            " [6 4 4]]\n"
          ]
        }
      ],
      "source": [
        "# Create two arrays of random integers between 0 & 10 of the same shape\n",
        "# and save them to variables\n",
        "a1 = np.random.randint(0, 10, size=(3, 3))\n",
        "a2 = np.random.randint(0, 10, size=(3, 3))\n",
        "print(a1)\n",
        "print(a2)"
      ]
    },
    {
      "cell_type": "code",
      "execution_count": null,
      "metadata": {
        "id": "6X26tgYwACtM",
        "colab": {
          "base_uri": "https://localhost:8080/"
        },
        "outputId": "753d362c-31c5-4e12-cfe1-19961518fa5c"
      },
      "outputs": [
        {
          "output_type": "execute_result",
          "data": {
            "text/plain": [
              "array([[ True,  True, False],\n",
              "       [False,  True, False],\n",
              "       [False,  True, False]])"
            ]
          },
          "metadata": {},
          "execution_count": 5
        }
      ],
      "source": [
        "# Compare the two arrays with '>'\n",
        "a1 > a2"
      ]
    },
    {
      "cell_type": "markdown",
      "metadata": {
        "id": "9rcNmAusACtM"
      },
      "source": [
        "What happens when you compare the arrays with `>`?"
      ]
    },
    {
      "cell_type": "code",
      "execution_count": null,
      "metadata": {
        "id": "sCqARkcMACtM",
        "colab": {
          "base_uri": "https://localhost:8080/"
        },
        "outputId": "7b5e39ac-69b7-4145-e459-5df002302c42"
      },
      "outputs": [
        {
          "output_type": "execute_result",
          "data": {
            "text/plain": [
              "array([[ True,  True, False],\n",
              "       [False,  True, False],\n",
              "       [ True,  True,  True]])"
            ]
          },
          "metadata": {},
          "execution_count": 6
        }
      ],
      "source": [
        "# Compare the two arrays with '>='\n",
        "a1 >= a2"
      ]
    },
    {
      "cell_type": "code",
      "execution_count": null,
      "metadata": {
        "id": "GVjs5U_5ACtM",
        "colab": {
          "base_uri": "https://localhost:8080/"
        },
        "outputId": "11533a27-43ba-4869-8cad-9027ab03c6b0"
      },
      "outputs": [
        {
          "output_type": "execute_result",
          "data": {
            "text/plain": [
              "array([9])"
            ]
          },
          "metadata": {},
          "execution_count": 7
        }
      ],
      "source": [
        "# Find which elements of the first array are greater than 7\n",
        "a1[a1>7]"
      ]
    },
    {
      "cell_type": "code",
      "execution_count": null,
      "metadata": {
        "id": "CFVYeteGACtM",
        "colab": {
          "base_uri": "https://localhost:8080/"
        },
        "outputId": "ea65d441-7b89-4d96-d5a9-3c3c4df8e67b"
      },
      "outputs": [
        {
          "output_type": "execute_result",
          "data": {
            "text/plain": [
              "array([6, 4])"
            ]
          },
          "metadata": {},
          "execution_count": 8
        }
      ],
      "source": [
        "# Which parts of each array are equal? (try using '==')\n",
        "a1[a1==a2]"
      ]
    },
    {
      "cell_type": "code",
      "execution_count": null,
      "metadata": {
        "id": "20IrUaKFACtM",
        "colab": {
          "base_uri": "https://localhost:8080/"
        },
        "outputId": "8a0ae576-7ee6-4533-e4a2-86006e50a942"
      },
      "outputs": [
        {
          "output_type": "execute_result",
          "data": {
            "text/plain": [
              "array([[0, 5, 5],\n",
              "       [5, 5, 9],\n",
              "       [4, 6, 7]])"
            ]
          },
          "metadata": {},
          "execution_count": 12
        }
      ],
      "source": [
        "# Sort one of the arrays you just created in ascending order\n",
        "np.sort(a1)"
      ]
    },
    {
      "cell_type": "code",
      "execution_count": null,
      "metadata": {
        "id": "XFpFJXMtACtN",
        "colab": {
          "base_uri": "https://localhost:8080/"
        },
        "outputId": "27b01b87-5de2-43a7-85ec-3f4f69cd173c"
      },
      "outputs": [
        {
          "output_type": "execute_result",
          "data": {
            "text/plain": [
              "array([[0, 1, 2],\n",
              "       [1, 0, 2],\n",
              "       [1, 2, 0]])"
            ]
          },
          "metadata": {},
          "execution_count": 13
        }
      ],
      "source": [
        "# Sort the indexes of one of the arrays you just created\n",
        "np.argsort(a2)"
      ]
    },
    {
      "cell_type": "code",
      "execution_count": null,
      "metadata": {
        "id": "RwEMZqkKACtN",
        "colab": {
          "base_uri": "https://localhost:8080/"
        },
        "outputId": "856b59f5-cb7f-497b-e9cf-74011ea8d71b"
      },
      "outputs": [
        {
          "output_type": "stream",
          "name": "stdout",
          "text": [
            "(1, 2)\n"
          ]
        }
      ],
      "source": [
        "# Find the index with the maximum value in one of the arrays you've created\n",
        "idx = np.argmax(a2)\n",
        "print(f\"({idx//a2.shape[1]}, {idx%a2.shape[1]})\")"
      ]
    },
    {
      "cell_type": "code",
      "execution_count": null,
      "metadata": {
        "id": "9mX9S_SYACtN",
        "colab": {
          "base_uri": "https://localhost:8080/"
        },
        "outputId": "8c513a2e-4d1b-4af4-bf91-65e1b9371eff"
      },
      "outputs": [
        {
          "output_type": "stream",
          "name": "stdout",
          "text": [
            "(1, 1)\n"
          ]
        }
      ],
      "source": [
        "# Find the index with the minimum value in one of the arrays you've created\n",
        "idx = np.argmin(a2)\n",
        "print(f\"({idx//a2.shape[1]}, {idx%a2.shape[1]})\")"
      ]
    },
    {
      "cell_type": "code",
      "execution_count": null,
      "metadata": {
        "id": "UjBoiMfpACtN",
        "colab": {
          "base_uri": "https://localhost:8080/"
        },
        "outputId": "c66df2a2-1b99-4ef2-e68c-c3904fa1582a"
      },
      "outputs": [
        {
          "output_type": "execute_result",
          "data": {
            "text/plain": [
              "array([2, 2, 0])"
            ]
          },
          "metadata": {},
          "execution_count": 17
        }
      ],
      "source": [
        "# Find the indexes with the maximum values down the 1st axis (axis=1)\n",
        "# of one of the arrays you created\n",
        "np.argmax(a2, axis=1)"
      ]
    },
    {
      "cell_type": "code",
      "execution_count": null,
      "metadata": {
        "id": "efRmG1aSACtN",
        "colab": {
          "base_uri": "https://localhost:8080/"
        },
        "outputId": "2d390016-ba6e-414b-b8b7-19b568a62164"
      },
      "outputs": [
        {
          "output_type": "execute_result",
          "data": {
            "text/plain": [
              "array([0, 1, 2])"
            ]
          },
          "metadata": {},
          "execution_count": 18
        }
      ],
      "source": [
        "# Find the indexes with the minimum values across the 0th axis (axis=0)\n",
        "# of one of the arrays you created\n",
        "np.argmin(a2, axis=0)"
      ]
    },
    {
      "cell_type": "code",
      "execution_count": null,
      "metadata": {
        "id": "Y4nTKUMCACtN",
        "colab": {
          "base_uri": "https://localhost:8080/"
        },
        "outputId": "09e887f7-fa16-4362-beea-5fa412d6edc4"
      },
      "outputs": [
        {
          "output_type": "execute_result",
          "data": {
            "text/plain": [
              "array([-1.06322514,  0.34701295,  1.00257409,  1.05251064, -0.22478192])"
            ]
          },
          "metadata": {},
          "execution_count": 20
        }
      ],
      "source": [
        "# Create an array of normally distributed random numbers\n",
        "np.random.normal(size=5)"
      ]
    },
    {
      "cell_type": "code",
      "execution_count": null,
      "metadata": {
        "id": "KXi5FyCKACtN",
        "colab": {
          "base_uri": "https://localhost:8080/"
        },
        "outputId": "ab923a3d-dd92-45fd-8d12-93a9f1a50572"
      },
      "outputs": [
        {
          "output_type": "execute_result",
          "data": {
            "text/plain": [
              "array([ 2, 12, 22, 32, 42, 52, 62, 72, 82, 92])"
            ]
          },
          "metadata": {},
          "execution_count": 21
        }
      ],
      "source": [
        "# Create an array with 10 evenly spaced numbers between 1 and 100\n",
        "np.arange(2, 100, 10)"
      ]
    },
    {
      "cell_type": "markdown",
      "metadata": {
        "id": "_D1fowA_ACtO"
      },
      "source": [
        "## Extensions\n",
        "\n",
        "For more exercises, check out the [NumPy quickstart tutorial](https://numpy.org/doc/stable/user/quickstart.html). A good practice would be to read through it and for the parts you find interesting, add them into the end of this notebook.\n",
        "\n",
        "Pay particular attention to the section on broadcasting. And most importantly, get hands-on with the code as much as possible. If in dobut, run the code, see what it does.\n",
        "\n",
        "The next place you could go is the [Stack Overflow page for the top questions and answers for NumPy](https://stackoverflow.com/questions/tagged/numpy?sort=MostVotes&edited=true). Often, you'll find some of the most common and useful NumPy functions here. Don't forget to play around with the filters! You'll likely find something helpful here.\n",
        "\n",
        "Finally, as always, remember, the best way to learn something new is to try it. And try it relentlessly. If you get interested in some kind of NumPy function, asking yourself, \"I wonder if NumPy could do that?\", go and find out."
      ]
    }
  ],
  "metadata": {
    "kernelspec": {
      "display_name": "Python 3",
      "language": "python",
      "name": "python3"
    },
    "language_info": {
      "codemirror_mode": {
        "name": "ipython",
        "version": 3
      },
      "file_extension": ".py",
      "mimetype": "text/x-python",
      "name": "python",
      "nbconvert_exporter": "python",
      "pygments_lexer": "ipython3",
      "version": "3.8.3"
    },
    "colab": {
      "provenance": []
    }
  },
  "nbformat": 4,
  "nbformat_minor": 0
}